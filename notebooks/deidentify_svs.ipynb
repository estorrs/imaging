{
 "cells": [
  {
   "cell_type": "code",
   "execution_count": 3,
   "id": "92ac3b0c",
   "metadata": {},
   "outputs": [],
   "source": [
    "import os\n",
    "from pathlib import Path\n",
    "\n",
    "import tifffile\n",
    "import re\n",
    "from mgitools.os_helpers import listfiles"
   ]
  },
  {
   "cell_type": "code",
   "execution_count": null,
   "id": "baa60101",
   "metadata": {},
   "outputs": [],
   "source": []
  },
  {
   "cell_type": "code",
   "execution_count": 4,
   "id": "a30819e5",
   "metadata": {},
   "outputs": [],
   "source": [
    "def deidentify_svs(fp, redact=None):\n",
    "    description = tifffile.tiffcomment(fp)\n",
    "\n",
    "    pattern = r'\\|(Date|Time Zone|ScanScope ID|User|Time|DSR ID) = ([^\\|]+)'\n",
    "\n",
    "    if redact is None:\n",
    "        replacement = \"\"\n",
    "    else:\n",
    "        replacement = \"|\\\\1 = \" + redact\n",
    "\n",
    "\n",
    "    description_clean = re.sub(pattern, replacement, description)\n",
    "\n",
    "    tifffile.tiffcomment(fp, comment = description_clean)"
   ]
  },
  {
   "cell_type": "code",
   "execution_count": 6,
   "id": "899785ec",
   "metadata": {},
   "outputs": [
    {
     "data": {
      "text/plain": [
       "['/diskmnt/Projects/Users/estorrs/imaging/data/he/john_he_to_deidentify_10212022/HT342C1-M1.svs',\n",
       " '/diskmnt/Projects/Users/estorrs/imaging/data/he/john_he_to_deidentify_10212022/HT342C1-M2A1.svs',\n",
       " '/diskmnt/Projects/Users/estorrs/imaging/data/he/john_he_to_deidentify_10212022/HT342C1-Th1K1A1.svs',\n",
       " '/diskmnt/Projects/Users/estorrs/imaging/data/he/john_he_to_deidentify_10212022/HT342C1-Th1K1A4.svs',\n",
       " '/diskmnt/Projects/Users/estorrs/imaging/data/he/john_he_to_deidentify_10212022/HT342C1-Th1K2A1.svs',\n",
       " '/diskmnt/Projects/Users/estorrs/imaging/data/he/john_he_to_deidentify_10212022/HT342C1-Th1K2A4.svs',\n",
       " '/diskmnt/Projects/Users/estorrs/imaging/data/he/john_he_to_deidentify_10212022/HT342C1-Th1K3A1.svs',\n",
       " '/diskmnt/Projects/Users/estorrs/imaging/data/he/john_he_to_deidentify_10212022/HT342C1-Th1K3A4.svs',\n",
       " '/diskmnt/Projects/Users/estorrs/imaging/data/he/john_he_to_deidentify_10212022/HT342C1-Th1K4A1.svs',\n",
       " '/diskmnt/Projects/Users/estorrs/imaging/data/he/john_he_to_deidentify_10212022/HT342C1Th1K4A4.svs',\n",
       " '/diskmnt/Projects/Users/estorrs/imaging/data/he/john_he_to_deidentify_10212022/HT393C1-Th1K1L4.svs',\n",
       " '/diskmnt/Projects/Users/estorrs/imaging/data/he/john_he_to_deidentify_10212022/HT393C1-Th1K2L1.svs',\n",
       " '/diskmnt/Projects/Users/estorrs/imaging/data/he/john_he_to_deidentify_10212022/HT393C1-Th1K2L4.svs',\n",
       " '/diskmnt/Projects/Users/estorrs/imaging/data/he/john_he_to_deidentify_10212022/HT393C1-Th1K4L1.svs',\n",
       " '/diskmnt/Projects/Users/estorrs/imaging/data/he/john_he_to_deidentify_10212022/HT393C1-Th1M1L1.svs']"
      ]
     },
     "execution_count": 6,
     "metadata": {},
     "output_type": "execute_result"
    }
   ],
   "source": [
    "fps = sorted(listfiles('/diskmnt/Projects/Users/estorrs/imaging/data/he/john_he_to_deidentify_10212022/',\n",
    "                       regex=r'.svs$'))\n",
    "fps"
   ]
  },
  {
   "cell_type": "code",
   "execution_count": 7,
   "id": "2e6399c9",
   "metadata": {},
   "outputs": [],
   "source": [
    "for fp in fps:\n",
    "    deidentify_svs(fp)"
   ]
  },
  {
   "cell_type": "code",
   "execution_count": null,
   "id": "d6cf9055",
   "metadata": {},
   "outputs": [],
   "source": []
  }
 ],
 "metadata": {
  "kernelspec": {
   "display_name": "Python 3 (ipykernel)",
   "language": "python",
   "name": "python3"
  },
  "language_info": {
   "codemirror_mode": {
    "name": "ipython",
    "version": 3
   },
   "file_extension": ".py",
   "mimetype": "text/x-python",
   "name": "python",
   "nbconvert_exporter": "python",
   "pygments_lexer": "ipython3",
   "version": "3.7.12"
  }
 },
 "nbformat": 4,
 "nbformat_minor": 5
}
