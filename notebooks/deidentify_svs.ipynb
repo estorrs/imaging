{
 "cells": [
  {
   "cell_type": "code",
   "execution_count": 26,
   "id": "92ac3b0c",
   "metadata": {},
   "outputs": [],
   "source": [
    "import os\n",
    "import shutil\n",
    "from pathlib import Path\n",
    "from mgitools.os_helpers import listfiles"
   ]
  },
  {
   "cell_type": "code",
   "execution_count": null,
   "id": "899785ec",
   "metadata": {},
   "outputs": [],
   "source": [
    "# input_dir = '/home/mwyczalk_test/Projects/HTAN/HTAN_DCC_Submit/Imaging/HnE'\n",
    "# out_dir = '/diskmnt/Projects/Users/estorrs/HTAN_imaging_data/HnE/HnE_deidentified'"
   ]
  },
  {
   "cell_type": "code",
   "execution_count": 27,
   "id": "642c9953",
   "metadata": {},
   "outputs": [],
   "source": [
    "input_dir = '/diskmnt/Projects/Users/estorrs/HTAN_imaging_data/HnE/HnE_john_03142022/'\n",
    "out_dir = '/diskmnt/Projects/Users/estorrs/HTAN_imaging_data/HnE/HnE_deidentified_john_03142022/'"
   ]
  },
  {
   "cell_type": "code",
   "execution_count": 28,
   "id": "41c1f3d5",
   "metadata": {
    "scrolled": true
   },
   "outputs": [
    {
     "data": {
      "text/plain": [
       "['/diskmnt/Projects/Users/estorrs/HTAN_imaging_data/HnE/HnE_john_03142022/HT112CRC T2 A1-A5 33.svs',\n",
       " '/diskmnt/Projects/Users/estorrs/HTAN_imaging_data/HnE/HnE_john_03142022/HT112CRC T3 A1-A5.svs',\n",
       " '/diskmnt/Projects/Users/estorrs/HTAN_imaging_data/HnE/HnE_john_03142022/HT112CRL T1 A1-A5 23.svs']"
      ]
     },
     "execution_count": 28,
     "metadata": {},
     "output_type": "execute_result"
    }
   ],
   "source": [
    "fps = sorted(listfiles(input_dir, regex='.svs'))\n",
    "fps"
   ]
  },
  {
   "cell_type": "code",
   "execution_count": 29,
   "id": "8f6e0956",
   "metadata": {},
   "outputs": [],
   "source": [
    "Path(out_dir).mkdir(parents=True, exist_ok=True)"
   ]
  },
  {
   "cell_type": "code",
   "execution_count": 30,
   "id": "a0d52db4",
   "metadata": {},
   "outputs": [],
   "source": [
    "# copy files to out directory\n",
    "new_fps = []\n",
    "for fp in fps:\n",
    "    root = fp.split('/')[-1]\n",
    "    target = os.path.join(out_dir, root)\n",
    "    shutil.copy(fp, target)\n",
    "    new_fps.append(target)"
   ]
  },
  {
   "cell_type": "code",
   "execution_count": null,
   "id": "a4e2f87c",
   "metadata": {},
   "outputs": [],
   "source": []
  },
  {
   "cell_type": "code",
   "execution_count": 31,
   "id": "e3edb37c",
   "metadata": {},
   "outputs": [],
   "source": [
    "script_fp = '/diskmnt/Projects/Users/estorrs/imaging/src/svs_tag_redaction.py'"
   ]
  },
  {
   "cell_type": "code",
   "execution_count": 32,
   "id": "6355f191",
   "metadata": {},
   "outputs": [],
   "source": [
    "# usage: python svs-tag-redaction.py --remove example.svs"
   ]
  },
  {
   "cell_type": "code",
   "execution_count": 33,
   "id": "4ab51204",
   "metadata": {},
   "outputs": [
    {
     "data": {
      "text/plain": [
       "(3,\n",
       " ['python /diskmnt/Projects/Users/estorrs/imaging/src/svs_tag_redaction.py --remove /diskmnt/Projects/Users/estorrs/HTAN_imaging_data/HnE/HnE_deidentified_john_03142022/HT112CRC\\\\ T2\\\\ A1-A5\\\\ 33.svs',\n",
       "  'python /diskmnt/Projects/Users/estorrs/imaging/src/svs_tag_redaction.py --remove /diskmnt/Projects/Users/estorrs/HTAN_imaging_data/HnE/HnE_deidentified_john_03142022/HT112CRC\\\\ T3\\\\ A1-A5.svs'])"
      ]
     },
     "execution_count": 33,
     "metadata": {},
     "output_type": "execute_result"
    }
   ],
   "source": [
    "# generate commands\n",
    "commands = []\n",
    "for fp in new_fps:\n",
    "    corrected_fp = fp.replace(' ', '\\ ')\n",
    "    cmd = f'python {script_fp} --remove {corrected_fp}'\n",
    "    commands.append(cmd)\n",
    "len(commands), commands[:2]"
   ]
  },
  {
   "cell_type": "code",
   "execution_count": 34,
   "id": "6a00c72e",
   "metadata": {},
   "outputs": [],
   "source": [
    "import subprocess"
   ]
  },
  {
   "cell_type": "code",
   "execution_count": 35,
   "id": "72b12cf1",
   "metadata": {
    "scrolled": true
   },
   "outputs": [
    {
     "name": "stdout",
     "output_type": "stream",
     "text": [
      "python /diskmnt/Projects/Users/estorrs/imaging/src/svs_tag_redaction.py --remove /diskmnt/Projects/Users/estorrs/HTAN_imaging_data/HnE/HnE_deidentified_john_03142022/HT112CRC\\ T2\\ A1-A5\\ 33.svs\n",
      "python /diskmnt/Projects/Users/estorrs/imaging/src/svs_tag_redaction.py --remove /diskmnt/Projects/Users/estorrs/HTAN_imaging_data/HnE/HnE_deidentified_john_03142022/HT112CRC\\ T3\\ A1-A5.svs\n",
      "python /diskmnt/Projects/Users/estorrs/imaging/src/svs_tag_redaction.py --remove /diskmnt/Projects/Users/estorrs/HTAN_imaging_data/HnE/HnE_deidentified_john_03142022/HT112CRL\\ T1\\ A1-A5\\ 23.svs\n"
     ]
    }
   ],
   "source": [
    "for cmd in commands:\n",
    "    print(cmd)\n",
    "    subprocess.check_output(cmd, shell=True)"
   ]
  },
  {
   "cell_type": "code",
   "execution_count": null,
   "id": "d4cd9d12",
   "metadata": {},
   "outputs": [],
   "source": []
  }
 ],
 "metadata": {
  "kernelspec": {
   "display_name": "Python 3 (ipykernel)",
   "language": "python",
   "name": "python3"
  },
  "language_info": {
   "codemirror_mode": {
    "name": "ipython",
    "version": 3
   },
   "file_extension": ".py",
   "mimetype": "text/x-python",
   "name": "python",
   "nbconvert_exporter": "python",
   "pygments_lexer": "ipython3",
   "version": "3.7.12"
  }
 },
 "nbformat": 4,
 "nbformat_minor": 5
}
