{
 "cells": [
  {
   "cell_type": "code",
   "execution_count": 14,
   "id": "92ac3b0c",
   "metadata": {},
   "outputs": [],
   "source": [
    "import os\n",
    "import shutil\n",
    "from pathlib import Path\n",
    "from mgitools.os_helpers import listfiles"
   ]
  },
  {
   "cell_type": "code",
   "execution_count": null,
   "id": "899785ec",
   "metadata": {},
   "outputs": [],
   "source": []
  },
  {
   "cell_type": "code",
   "execution_count": 10,
   "id": "41c1f3d5",
   "metadata": {
    "scrolled": true
   },
   "outputs": [
    {
     "data": {
      "text/plain": [
       "['/home/mwyczalk_test/Projects/HTAN/HTAN_DCC_Submit/Imaging/HnE/HT 122 P1 S1H3 Vp1 U11.svs',\n",
       " '/home/mwyczalk_test/Projects/HTAN/HTAN_DCC_Submit/Imaging/HnE/HT 122 P1 S1H4 Vp1 U4.svs',\n",
       " '/home/mwyczalk_test/Projects/HTAN/HTAN_DCC_Submit/Imaging/HnE/HT 122 P1 S1H5 Vp1 U22.svs',\n",
       " '/home/mwyczalk_test/Projects/HTAN/HTAN_DCC_Submit/Imaging/HnE/HT 122 P1 S1H9 Vp1 U15.svs',\n",
       " '/home/mwyczalk_test/Projects/HTAN/HTAN_DCC_Submit/Imaging/HnE/HT 123 P1 S1H1 1.svs',\n",
       " '/home/mwyczalk_test/Projects/HTAN/HTAN_DCC_Submit/Imaging/HnE/HT 123 P1 S1H3 Vp1 U4.svs',\n",
       " '/home/mwyczalk_test/Projects/HTAN/HTAN_DCC_Submit/Imaging/HnE/HT 123 P1 S1H5 Vp1 U4.svs',\n",
       " '/home/mwyczalk_test/Projects/HTAN/HTAN_DCC_Submit/Imaging/HnE/HT 124 P1 S1H1 Vp1 U3.svs',\n",
       " '/home/mwyczalk_test/Projects/HTAN/HTAN_DCC_Submit/Imaging/HnE/HT 124 P1 S1H2 Vp1 U14.svs',\n",
       " '/home/mwyczalk_test/Projects/HTAN/HTAN_DCC_Submit/Imaging/HnE/HT 124 P1 S1H4 Vp1 U4.svs',\n",
       " '/home/mwyczalk_test/Projects/HTAN/HTAN_DCC_Submit/Imaging/HnE/HT 138P1 H3.svs',\n",
       " '/home/mwyczalk_test/Projects/HTAN/HTAN_DCC_Submit/Imaging/HnE/HT 166 P1 S1H2 Vp1 U20.svs',\n",
       " '/home/mwyczalk_test/Projects/HTAN/HTAN_DCC_Submit/Imaging/HnE/HT 166 P1 S1H5 Vp1 U21.svs',\n",
       " '/home/mwyczalk_test/Projects/HTAN/HTAN_DCC_Submit/Imaging/HnE/HT 166 P1 S1H6 Vp1 U3.svs',\n",
       " '/home/mwyczalk_test/Projects/HTAN/HTAN_DCC_Submit/Imaging/HnE/HT 168 P1 S1H2 Vp1 U2.svs',\n",
       " '/home/mwyczalk_test/Projects/HTAN/HTAN_DCC_Submit/Imaging/HnE/HT 168 P1 S1H3 Vp1 L1 L4 U10.svs',\n",
       " '/home/mwyczalk_test/Projects/HTAN/HTAN_DCC_Submit/Imaging/HnE/HT 168 P1 S1H4 Vp1 U13.svs',\n",
       " '/home/mwyczalk_test/Projects/HTAN/HTAN_DCC_Submit/Imaging/HnE/HT-138P1 H6.svs',\n",
       " '/home/mwyczalk_test/Projects/HTAN/HTAN_DCC_Submit/Imaging/HnE/HT056P1 P.svs',\n",
       " '/home/mwyczalk_test/Projects/HTAN/HTAN_DCC_Submit/Imaging/HnE/HT056P1 PB.svs',\n",
       " '/home/mwyczalk_test/Projects/HTAN/HTAN_DCC_Submit/Imaging/HnE/HT060P P1.svs',\n",
       " '/home/mwyczalk_test/Projects/HTAN/HTAN_DCC_Submit/Imaging/HnE/HT060P PB.svs',\n",
       " '/home/mwyczalk_test/Projects/HTAN/HTAN_DCC_Submit/Imaging/HnE/HT071A H1.svs',\n",
       " '/home/mwyczalk_test/Projects/HTAN/HTAN_DCC_Submit/Imaging/HnE/HT071A H4.svs',\n",
       " '/home/mwyczalk_test/Projects/HTAN/HTAN_DCC_Submit/Imaging/HnE/HT071A H5 .svs',\n",
       " '/home/mwyczalk_test/Projects/HTAN/HTAN_DCC_Submit/Imaging/HnE/HT071B H9.svs',\n",
       " '/home/mwyczalk_test/Projects/HTAN/HTAN_DCC_Submit/Imaging/HnE/HT085P1 H1.svs',\n",
       " '/home/mwyczalk_test/Projects/HTAN/HTAN_DCC_Submit/Imaging/HnE/HT085P1 H2.svs',\n",
       " '/home/mwyczalk_test/Projects/HTAN/HTAN_DCC_Submit/Imaging/HnE/HT085P1 H3.svs',\n",
       " '/home/mwyczalk_test/Projects/HTAN/HTAN_DCC_Submit/Imaging/HnE/HT085P1 H4.svs',\n",
       " '/home/mwyczalk_test/Projects/HTAN/HTAN_DCC_Submit/Imaging/HnE/HT115P1 H3.svs',\n",
       " '/home/mwyczalk_test/Projects/HTAN/HTAN_DCC_Submit/Imaging/HnE/HT115P1 H5.svs',\n",
       " '/home/mwyczalk_test/Projects/HTAN/HTAN_DCC_Submit/Imaging/HnE/HT115P1 H6.svs',\n",
       " '/home/mwyczalk_test/Projects/HTAN/HTAN_DCC_Submit/Imaging/HnE/HT121P1 H3.svs',\n",
       " '/home/mwyczalk_test/Projects/HTAN/HTAN_DCC_Submit/Imaging/HnE/HT121P1 H4.svs',\n",
       " '/home/mwyczalk_test/Projects/HTAN/HTAN_DCC_Submit/Imaging/HnE/HT121P1 H5.svs',\n",
       " '/home/mwyczalk_test/Projects/HTAN/HTAN_DCC_Submit/Imaging/HnE/HT121P1 H9 A1.svs',\n",
       " '/home/mwyczalk_test/Projects/HTAN/HTAN_DCC_Submit/Imaging/HnE/HT125P1 H3.svs',\n",
       " '/home/mwyczalk_test/Projects/HTAN/HTAN_DCC_Submit/Imaging/HnE/HT125P1 H4.svs',\n",
       " '/home/mwyczalk_test/Projects/HTAN/HTAN_DCC_Submit/Imaging/HnE/HT125P1 H8.svs',\n",
       " '/home/mwyczalk_test/Projects/HTAN/HTAN_DCC_Submit/Imaging/HnE/HT125P1 H9.svs',\n",
       " '/home/mwyczalk_test/Projects/HTAN/HTAN_DCC_Submit/Imaging/HnE/HT138P1 H2.svs',\n",
       " '/home/mwyczalk_test/Projects/HTAN/HTAN_DCC_Submit/Imaging/HnE/HT138P1 H5.svs',\n",
       " '/home/mwyczalk_test/Projects/HTAN/HTAN_DCC_Submit/Imaging/HnE/HT140P1 H1.svs',\n",
       " '/home/mwyczalk_test/Projects/HTAN/HTAN_DCC_Submit/Imaging/HnE/HT140P1 H3.svs',\n",
       " '/home/mwyczalk_test/Projects/HTAN/HTAN_DCC_Submit/Imaging/HnE/HT140P1 H6.svs',\n",
       " '/home/mwyczalk_test/Projects/HTAN/HTAN_DCC_Submit/Imaging/HnE/HT185P1 H2.svs',\n",
       " '/home/mwyczalk_test/Projects/HTAN/HTAN_DCC_Submit/Imaging/HnE/HT185P1 H3.svs',\n",
       " '/home/mwyczalk_test/Projects/HTAN/HTAN_DCC_Submit/Imaging/HnE/HT185P1 H6.svs',\n",
       " '/home/mwyczalk_test/Projects/HTAN/HTAN_DCC_Submit/Imaging/HnE/HT190 H9.svs',\n",
       " '/home/mwyczalk_test/Projects/HTAN/HTAN_DCC_Submit/Imaging/HnE/HT190P1 H7.svs',\n",
       " '/home/mwyczalk_test/Projects/HTAN/HTAN_DCC_Submit/Imaging/HnE/HT191P1 H1.svs',\n",
       " '/home/mwyczalk_test/Projects/HTAN/HTAN_DCC_Submit/Imaging/HnE/HT191P1 H2.svs',\n",
       " '/home/mwyczalk_test/Projects/HTAN/HTAN_DCC_Submit/Imaging/HnE/HT191P1 H4.svs',\n",
       " '/home/mwyczalk_test/Projects/HTAN/HTAN_DCC_Submit/Imaging/HnE/HT200P1 H2.svs',\n",
       " '/home/mwyczalk_test/Projects/HTAN/HTAN_DCC_Submit/Imaging/HnE/HT200P1 H4.svs',\n",
       " '/home/mwyczalk_test/Projects/HTAN/HTAN_DCC_Submit/Imaging/HnE/HT204P1 H2.svs',\n",
       " '/home/mwyczalk_test/Projects/HTAN/HTAN_DCC_Submit/Imaging/HnE/HT204P1 H4.svs',\n",
       " '/home/mwyczalk_test/Projects/HTAN/HTAN_DCC_Submit/Imaging/HnE/HT204P1 H5.svs',\n",
       " '/home/mwyczalk_test/Projects/HTAN/HTAN_DCC_Submit/Imaging/HnE/HT56P B.svs',\n",
       " '/home/mwyczalk_test/Projects/HTAN/HTAN_DCC_Submit/Imaging/HnE/HT56P E.svs',\n",
       " '/home/mwyczalk_test/Projects/HTAN/HTAN_DCC_Submit/Imaging/HnE/HT56P1 A.svs',\n",
       " '/home/mwyczalk_test/Projects/HTAN/HTAN_DCC_Submit/Imaging/HnE/HT56P1 C.svs',\n",
       " '/home/mwyczalk_test/Projects/HTAN/HTAN_DCC_Submit/Imaging/HnE/HT56P1 D.svs',\n",
       " '/home/mwyczalk_test/Projects/HTAN/HTAN_DCC_Submit/Imaging/HnE/HT60P1 REMAINS.svs',\n",
       " '/home/mwyczalk_test/Projects/HTAN/HTAN_DCC_Submit/Imaging/HnE/HT61P A.svs',\n",
       " '/home/mwyczalk_test/Projects/HTAN/HTAN_DCC_Submit/Imaging/HnE/HT61P B .svs',\n",
       " '/home/mwyczalk_test/Projects/HTAN/HTAN_DCC_Submit/Imaging/HnE/HT61P C.svs',\n",
       " '/home/mwyczalk_test/Projects/HTAN/HTAN_DCC_Submit/Imaging/HnE/HT64P1 H1.svs',\n",
       " '/home/mwyczalk_test/Projects/HTAN/HTAN_DCC_Submit/Imaging/HnE/HT64P1 H3.svs',\n",
       " '/home/mwyczalk_test/Projects/HTAN/HTAN_DCC_Submit/Imaging/HnE/HT64P1 H7.svs',\n",
       " '/home/mwyczalk_test/Projects/HTAN/HTAN_DCC_Submit/Imaging/HnE/HT64P1 H9.svs']"
      ]
     },
     "execution_count": 10,
     "metadata": {},
     "output_type": "execute_result"
    }
   ],
   "source": [
    "input_dir = '/home/mwyczalk_test/Projects/HTAN/HTAN_DCC_Submit/Imaging/HnE'\n",
    "out_dir = '/diskmnt/Projects/Users/estorrs/HTAN_imaging_data/HnE/HnE_deidentified'\n",
    "fps = sorted(listfiles(input_dir, regex='.svs'))\n",
    "fps"
   ]
  },
  {
   "cell_type": "code",
   "execution_count": 11,
   "id": "8f6e0956",
   "metadata": {},
   "outputs": [],
   "source": [
    "Path(out_dir).mkdir(parents=True, exist_ok=True)"
   ]
  },
  {
   "cell_type": "code",
   "execution_count": 15,
   "id": "a0d52db4",
   "metadata": {},
   "outputs": [],
   "source": [
    "# copy files to out directory\n",
    "new_fps = []\n",
    "for fp in fps:\n",
    "    root = fp.split('/')[-1]\n",
    "    target = os.path.join(out_dir, root)\n",
    "    shutil.copy(fp, target)\n",
    "    new_fps.append(target)"
   ]
  },
  {
   "cell_type": "code",
   "execution_count": null,
   "id": "a4e2f87c",
   "metadata": {},
   "outputs": [],
   "source": []
  },
  {
   "cell_type": "code",
   "execution_count": 16,
   "id": "e3edb37c",
   "metadata": {},
   "outputs": [],
   "source": [
    "script_fp = '/diskmnt/Projects/Users/estorrs/imaging/src/svs_tag_redaction.py'"
   ]
  },
  {
   "cell_type": "code",
   "execution_count": 17,
   "id": "6355f191",
   "metadata": {},
   "outputs": [],
   "source": [
    "# usage: python svs-tag-redaction.py --remove example.svs"
   ]
  },
  {
   "cell_type": "code",
   "execution_count": 22,
   "id": "4ab51204",
   "metadata": {},
   "outputs": [
    {
     "data": {
      "text/plain": [
       "(72,\n",
       " ['python /diskmnt/Projects/Users/estorrs/imaging/src/svs_tag_redaction.py --remove /diskmnt/Projects/Users/estorrs/HTAN_imaging_data/HnE/HnE_deidentified/HT\\\\ 122\\\\ P1\\\\ S1H3\\\\ Vp1\\\\ U11.svs',\n",
       "  'python /diskmnt/Projects/Users/estorrs/imaging/src/svs_tag_redaction.py --remove /diskmnt/Projects/Users/estorrs/HTAN_imaging_data/HnE/HnE_deidentified/HT\\\\ 122\\\\ P1\\\\ S1H4\\\\ Vp1\\\\ U4.svs'])"
      ]
     },
     "execution_count": 22,
     "metadata": {},
     "output_type": "execute_result"
    }
   ],
   "source": [
    "# generate commands\n",
    "commands = []\n",
    "for fp in new_fps:\n",
    "    corrected_fp = fp.replace(' ', '\\ ')\n",
    "    cmd = f'python {script_fp} --remove {corrected_fp}'\n",
    "    commands.append(cmd)\n",
    "len(commands), commands[:2]"
   ]
  },
  {
   "cell_type": "code",
   "execution_count": 23,
   "id": "6a00c72e",
   "metadata": {},
   "outputs": [],
   "source": [
    "import subprocess"
   ]
  },
  {
   "cell_type": "code",
   "execution_count": 24,
   "id": "72b12cf1",
   "metadata": {
    "scrolled": true
   },
   "outputs": [
    {
     "name": "stdout",
     "output_type": "stream",
     "text": [
      "python /diskmnt/Projects/Users/estorrs/imaging/src/svs_tag_redaction.py --remove /diskmnt/Projects/Users/estorrs/HTAN_imaging_data/HnE/HnE_deidentified/HT\\ 122\\ P1\\ S1H3\\ Vp1\\ U11.svs\n",
      "python /diskmnt/Projects/Users/estorrs/imaging/src/svs_tag_redaction.py --remove /diskmnt/Projects/Users/estorrs/HTAN_imaging_data/HnE/HnE_deidentified/HT\\ 122\\ P1\\ S1H4\\ Vp1\\ U4.svs\n",
      "python /diskmnt/Projects/Users/estorrs/imaging/src/svs_tag_redaction.py --remove /diskmnt/Projects/Users/estorrs/HTAN_imaging_data/HnE/HnE_deidentified/HT\\ 122\\ P1\\ S1H5\\ Vp1\\ U22.svs\n",
      "python /diskmnt/Projects/Users/estorrs/imaging/src/svs_tag_redaction.py --remove /diskmnt/Projects/Users/estorrs/HTAN_imaging_data/HnE/HnE_deidentified/HT\\ 122\\ P1\\ S1H9\\ Vp1\\ U15.svs\n",
      "python /diskmnt/Projects/Users/estorrs/imaging/src/svs_tag_redaction.py --remove /diskmnt/Projects/Users/estorrs/HTAN_imaging_data/HnE/HnE_deidentified/HT\\ 123\\ P1\\ S1H1\\ 1.svs\n",
      "python /diskmnt/Projects/Users/estorrs/imaging/src/svs_tag_redaction.py --remove /diskmnt/Projects/Users/estorrs/HTAN_imaging_data/HnE/HnE_deidentified/HT\\ 123\\ P1\\ S1H3\\ Vp1\\ U4.svs\n",
      "python /diskmnt/Projects/Users/estorrs/imaging/src/svs_tag_redaction.py --remove /diskmnt/Projects/Users/estorrs/HTAN_imaging_data/HnE/HnE_deidentified/HT\\ 123\\ P1\\ S1H5\\ Vp1\\ U4.svs\n",
      "python /diskmnt/Projects/Users/estorrs/imaging/src/svs_tag_redaction.py --remove /diskmnt/Projects/Users/estorrs/HTAN_imaging_data/HnE/HnE_deidentified/HT\\ 124\\ P1\\ S1H1\\ Vp1\\ U3.svs\n",
      "python /diskmnt/Projects/Users/estorrs/imaging/src/svs_tag_redaction.py --remove /diskmnt/Projects/Users/estorrs/HTAN_imaging_data/HnE/HnE_deidentified/HT\\ 124\\ P1\\ S1H2\\ Vp1\\ U14.svs\n",
      "python /diskmnt/Projects/Users/estorrs/imaging/src/svs_tag_redaction.py --remove /diskmnt/Projects/Users/estorrs/HTAN_imaging_data/HnE/HnE_deidentified/HT\\ 124\\ P1\\ S1H4\\ Vp1\\ U4.svs\n",
      "python /diskmnt/Projects/Users/estorrs/imaging/src/svs_tag_redaction.py --remove /diskmnt/Projects/Users/estorrs/HTAN_imaging_data/HnE/HnE_deidentified/HT\\ 138P1\\ H3.svs\n",
      "python /diskmnt/Projects/Users/estorrs/imaging/src/svs_tag_redaction.py --remove /diskmnt/Projects/Users/estorrs/HTAN_imaging_data/HnE/HnE_deidentified/HT\\ 166\\ P1\\ S1H2\\ Vp1\\ U20.svs\n",
      "python /diskmnt/Projects/Users/estorrs/imaging/src/svs_tag_redaction.py --remove /diskmnt/Projects/Users/estorrs/HTAN_imaging_data/HnE/HnE_deidentified/HT\\ 166\\ P1\\ S1H5\\ Vp1\\ U21.svs\n",
      "python /diskmnt/Projects/Users/estorrs/imaging/src/svs_tag_redaction.py --remove /diskmnt/Projects/Users/estorrs/HTAN_imaging_data/HnE/HnE_deidentified/HT\\ 166\\ P1\\ S1H6\\ Vp1\\ U3.svs\n",
      "python /diskmnt/Projects/Users/estorrs/imaging/src/svs_tag_redaction.py --remove /diskmnt/Projects/Users/estorrs/HTAN_imaging_data/HnE/HnE_deidentified/HT\\ 168\\ P1\\ S1H2\\ Vp1\\ U2.svs\n",
      "python /diskmnt/Projects/Users/estorrs/imaging/src/svs_tag_redaction.py --remove /diskmnt/Projects/Users/estorrs/HTAN_imaging_data/HnE/HnE_deidentified/HT\\ 168\\ P1\\ S1H3\\ Vp1\\ L1\\ L4\\ U10.svs\n",
      "python /diskmnt/Projects/Users/estorrs/imaging/src/svs_tag_redaction.py --remove /diskmnt/Projects/Users/estorrs/HTAN_imaging_data/HnE/HnE_deidentified/HT\\ 168\\ P1\\ S1H4\\ Vp1\\ U13.svs\n",
      "python /diskmnt/Projects/Users/estorrs/imaging/src/svs_tag_redaction.py --remove /diskmnt/Projects/Users/estorrs/HTAN_imaging_data/HnE/HnE_deidentified/HT-138P1\\ H6.svs\n",
      "python /diskmnt/Projects/Users/estorrs/imaging/src/svs_tag_redaction.py --remove /diskmnt/Projects/Users/estorrs/HTAN_imaging_data/HnE/HnE_deidentified/HT056P1\\ P.svs\n",
      "python /diskmnt/Projects/Users/estorrs/imaging/src/svs_tag_redaction.py --remove /diskmnt/Projects/Users/estorrs/HTAN_imaging_data/HnE/HnE_deidentified/HT056P1\\ PB.svs\n",
      "python /diskmnt/Projects/Users/estorrs/imaging/src/svs_tag_redaction.py --remove /diskmnt/Projects/Users/estorrs/HTAN_imaging_data/HnE/HnE_deidentified/HT060P\\ P1.svs\n",
      "python /diskmnt/Projects/Users/estorrs/imaging/src/svs_tag_redaction.py --remove /diskmnt/Projects/Users/estorrs/HTAN_imaging_data/HnE/HnE_deidentified/HT060P\\ PB.svs\n",
      "python /diskmnt/Projects/Users/estorrs/imaging/src/svs_tag_redaction.py --remove /diskmnt/Projects/Users/estorrs/HTAN_imaging_data/HnE/HnE_deidentified/HT071A\\ H1.svs\n",
      "python /diskmnt/Projects/Users/estorrs/imaging/src/svs_tag_redaction.py --remove /diskmnt/Projects/Users/estorrs/HTAN_imaging_data/HnE/HnE_deidentified/HT071A\\ H4.svs\n",
      "python /diskmnt/Projects/Users/estorrs/imaging/src/svs_tag_redaction.py --remove /diskmnt/Projects/Users/estorrs/HTAN_imaging_data/HnE/HnE_deidentified/HT071A\\ H5\\ .svs\n",
      "python /diskmnt/Projects/Users/estorrs/imaging/src/svs_tag_redaction.py --remove /diskmnt/Projects/Users/estorrs/HTAN_imaging_data/HnE/HnE_deidentified/HT071B\\ H9.svs\n",
      "python /diskmnt/Projects/Users/estorrs/imaging/src/svs_tag_redaction.py --remove /diskmnt/Projects/Users/estorrs/HTAN_imaging_data/HnE/HnE_deidentified/HT085P1\\ H1.svs\n",
      "python /diskmnt/Projects/Users/estorrs/imaging/src/svs_tag_redaction.py --remove /diskmnt/Projects/Users/estorrs/HTAN_imaging_data/HnE/HnE_deidentified/HT085P1\\ H2.svs\n",
      "python /diskmnt/Projects/Users/estorrs/imaging/src/svs_tag_redaction.py --remove /diskmnt/Projects/Users/estorrs/HTAN_imaging_data/HnE/HnE_deidentified/HT085P1\\ H3.svs\n",
      "python /diskmnt/Projects/Users/estorrs/imaging/src/svs_tag_redaction.py --remove /diskmnt/Projects/Users/estorrs/HTAN_imaging_data/HnE/HnE_deidentified/HT085P1\\ H4.svs\n",
      "python /diskmnt/Projects/Users/estorrs/imaging/src/svs_tag_redaction.py --remove /diskmnt/Projects/Users/estorrs/HTAN_imaging_data/HnE/HnE_deidentified/HT115P1\\ H3.svs\n",
      "python /diskmnt/Projects/Users/estorrs/imaging/src/svs_tag_redaction.py --remove /diskmnt/Projects/Users/estorrs/HTAN_imaging_data/HnE/HnE_deidentified/HT115P1\\ H5.svs\n",
      "python /diskmnt/Projects/Users/estorrs/imaging/src/svs_tag_redaction.py --remove /diskmnt/Projects/Users/estorrs/HTAN_imaging_data/HnE/HnE_deidentified/HT115P1\\ H6.svs\n",
      "python /diskmnt/Projects/Users/estorrs/imaging/src/svs_tag_redaction.py --remove /diskmnt/Projects/Users/estorrs/HTAN_imaging_data/HnE/HnE_deidentified/HT121P1\\ H3.svs\n",
      "python /diskmnt/Projects/Users/estorrs/imaging/src/svs_tag_redaction.py --remove /diskmnt/Projects/Users/estorrs/HTAN_imaging_data/HnE/HnE_deidentified/HT121P1\\ H4.svs\n",
      "python /diskmnt/Projects/Users/estorrs/imaging/src/svs_tag_redaction.py --remove /diskmnt/Projects/Users/estorrs/HTAN_imaging_data/HnE/HnE_deidentified/HT121P1\\ H5.svs\n",
      "python /diskmnt/Projects/Users/estorrs/imaging/src/svs_tag_redaction.py --remove /diskmnt/Projects/Users/estorrs/HTAN_imaging_data/HnE/HnE_deidentified/HT121P1\\ H9\\ A1.svs\n",
      "python /diskmnt/Projects/Users/estorrs/imaging/src/svs_tag_redaction.py --remove /diskmnt/Projects/Users/estorrs/HTAN_imaging_data/HnE/HnE_deidentified/HT125P1\\ H3.svs\n",
      "python /diskmnt/Projects/Users/estorrs/imaging/src/svs_tag_redaction.py --remove /diskmnt/Projects/Users/estorrs/HTAN_imaging_data/HnE/HnE_deidentified/HT125P1\\ H4.svs\n",
      "python /diskmnt/Projects/Users/estorrs/imaging/src/svs_tag_redaction.py --remove /diskmnt/Projects/Users/estorrs/HTAN_imaging_data/HnE/HnE_deidentified/HT125P1\\ H8.svs\n",
      "python /diskmnt/Projects/Users/estorrs/imaging/src/svs_tag_redaction.py --remove /diskmnt/Projects/Users/estorrs/HTAN_imaging_data/HnE/HnE_deidentified/HT125P1\\ H9.svs\n",
      "python /diskmnt/Projects/Users/estorrs/imaging/src/svs_tag_redaction.py --remove /diskmnt/Projects/Users/estorrs/HTAN_imaging_data/HnE/HnE_deidentified/HT138P1\\ H2.svs\n",
      "python /diskmnt/Projects/Users/estorrs/imaging/src/svs_tag_redaction.py --remove /diskmnt/Projects/Users/estorrs/HTAN_imaging_data/HnE/HnE_deidentified/HT138P1\\ H5.svs\n",
      "python /diskmnt/Projects/Users/estorrs/imaging/src/svs_tag_redaction.py --remove /diskmnt/Projects/Users/estorrs/HTAN_imaging_data/HnE/HnE_deidentified/HT140P1\\ H1.svs\n",
      "python /diskmnt/Projects/Users/estorrs/imaging/src/svs_tag_redaction.py --remove /diskmnt/Projects/Users/estorrs/HTAN_imaging_data/HnE/HnE_deidentified/HT140P1\\ H3.svs\n",
      "python /diskmnt/Projects/Users/estorrs/imaging/src/svs_tag_redaction.py --remove /diskmnt/Projects/Users/estorrs/HTAN_imaging_data/HnE/HnE_deidentified/HT140P1\\ H6.svs\n",
      "python /diskmnt/Projects/Users/estorrs/imaging/src/svs_tag_redaction.py --remove /diskmnt/Projects/Users/estorrs/HTAN_imaging_data/HnE/HnE_deidentified/HT185P1\\ H2.svs\n",
      "python /diskmnt/Projects/Users/estorrs/imaging/src/svs_tag_redaction.py --remove /diskmnt/Projects/Users/estorrs/HTAN_imaging_data/HnE/HnE_deidentified/HT185P1\\ H3.svs\n"
     ]
    },
    {
     "name": "stdout",
     "output_type": "stream",
     "text": [
      "python /diskmnt/Projects/Users/estorrs/imaging/src/svs_tag_redaction.py --remove /diskmnt/Projects/Users/estorrs/HTAN_imaging_data/HnE/HnE_deidentified/HT185P1\\ H6.svs\n",
      "python /diskmnt/Projects/Users/estorrs/imaging/src/svs_tag_redaction.py --remove /diskmnt/Projects/Users/estorrs/HTAN_imaging_data/HnE/HnE_deidentified/HT190\\ H9.svs\n",
      "python /diskmnt/Projects/Users/estorrs/imaging/src/svs_tag_redaction.py --remove /diskmnt/Projects/Users/estorrs/HTAN_imaging_data/HnE/HnE_deidentified/HT190P1\\ H7.svs\n",
      "python /diskmnt/Projects/Users/estorrs/imaging/src/svs_tag_redaction.py --remove /diskmnt/Projects/Users/estorrs/HTAN_imaging_data/HnE/HnE_deidentified/HT191P1\\ H1.svs\n",
      "python /diskmnt/Projects/Users/estorrs/imaging/src/svs_tag_redaction.py --remove /diskmnt/Projects/Users/estorrs/HTAN_imaging_data/HnE/HnE_deidentified/HT191P1\\ H2.svs\n",
      "python /diskmnt/Projects/Users/estorrs/imaging/src/svs_tag_redaction.py --remove /diskmnt/Projects/Users/estorrs/HTAN_imaging_data/HnE/HnE_deidentified/HT191P1\\ H4.svs\n",
      "python /diskmnt/Projects/Users/estorrs/imaging/src/svs_tag_redaction.py --remove /diskmnt/Projects/Users/estorrs/HTAN_imaging_data/HnE/HnE_deidentified/HT200P1\\ H2.svs\n",
      "python /diskmnt/Projects/Users/estorrs/imaging/src/svs_tag_redaction.py --remove /diskmnt/Projects/Users/estorrs/HTAN_imaging_data/HnE/HnE_deidentified/HT200P1\\ H4.svs\n",
      "python /diskmnt/Projects/Users/estorrs/imaging/src/svs_tag_redaction.py --remove /diskmnt/Projects/Users/estorrs/HTAN_imaging_data/HnE/HnE_deidentified/HT204P1\\ H2.svs\n",
      "python /diskmnt/Projects/Users/estorrs/imaging/src/svs_tag_redaction.py --remove /diskmnt/Projects/Users/estorrs/HTAN_imaging_data/HnE/HnE_deidentified/HT204P1\\ H4.svs\n",
      "python /diskmnt/Projects/Users/estorrs/imaging/src/svs_tag_redaction.py --remove /diskmnt/Projects/Users/estorrs/HTAN_imaging_data/HnE/HnE_deidentified/HT204P1\\ H5.svs\n",
      "python /diskmnt/Projects/Users/estorrs/imaging/src/svs_tag_redaction.py --remove /diskmnt/Projects/Users/estorrs/HTAN_imaging_data/HnE/HnE_deidentified/HT56P\\ B.svs\n",
      "python /diskmnt/Projects/Users/estorrs/imaging/src/svs_tag_redaction.py --remove /diskmnt/Projects/Users/estorrs/HTAN_imaging_data/HnE/HnE_deidentified/HT56P\\ E.svs\n",
      "python /diskmnt/Projects/Users/estorrs/imaging/src/svs_tag_redaction.py --remove /diskmnt/Projects/Users/estorrs/HTAN_imaging_data/HnE/HnE_deidentified/HT56P1\\ A.svs\n",
      "python /diskmnt/Projects/Users/estorrs/imaging/src/svs_tag_redaction.py --remove /diskmnt/Projects/Users/estorrs/HTAN_imaging_data/HnE/HnE_deidentified/HT56P1\\ C.svs\n",
      "python /diskmnt/Projects/Users/estorrs/imaging/src/svs_tag_redaction.py --remove /diskmnt/Projects/Users/estorrs/HTAN_imaging_data/HnE/HnE_deidentified/HT56P1\\ D.svs\n",
      "python /diskmnt/Projects/Users/estorrs/imaging/src/svs_tag_redaction.py --remove /diskmnt/Projects/Users/estorrs/HTAN_imaging_data/HnE/HnE_deidentified/HT60P1\\ REMAINS.svs\n",
      "python /diskmnt/Projects/Users/estorrs/imaging/src/svs_tag_redaction.py --remove /diskmnt/Projects/Users/estorrs/HTAN_imaging_data/HnE/HnE_deidentified/HT61P\\ A.svs\n",
      "python /diskmnt/Projects/Users/estorrs/imaging/src/svs_tag_redaction.py --remove /diskmnt/Projects/Users/estorrs/HTAN_imaging_data/HnE/HnE_deidentified/HT61P\\ B\\ .svs\n",
      "python /diskmnt/Projects/Users/estorrs/imaging/src/svs_tag_redaction.py --remove /diskmnt/Projects/Users/estorrs/HTAN_imaging_data/HnE/HnE_deidentified/HT61P\\ C.svs\n",
      "python /diskmnt/Projects/Users/estorrs/imaging/src/svs_tag_redaction.py --remove /diskmnt/Projects/Users/estorrs/HTAN_imaging_data/HnE/HnE_deidentified/HT64P1\\ H1.svs\n",
      "python /diskmnt/Projects/Users/estorrs/imaging/src/svs_tag_redaction.py --remove /diskmnt/Projects/Users/estorrs/HTAN_imaging_data/HnE/HnE_deidentified/HT64P1\\ H3.svs\n",
      "python /diskmnt/Projects/Users/estorrs/imaging/src/svs_tag_redaction.py --remove /diskmnt/Projects/Users/estorrs/HTAN_imaging_data/HnE/HnE_deidentified/HT64P1\\ H7.svs\n",
      "python /diskmnt/Projects/Users/estorrs/imaging/src/svs_tag_redaction.py --remove /diskmnt/Projects/Users/estorrs/HTAN_imaging_data/HnE/HnE_deidentified/HT64P1\\ H9.svs\n"
     ]
    }
   ],
   "source": [
    "for cmd in commands:\n",
    "    print(cmd)\n",
    "    subprocess.check_output(cmd, shell=True)"
   ]
  },
  {
   "cell_type": "code",
   "execution_count": null,
   "id": "d4cd9d12",
   "metadata": {},
   "outputs": [],
   "source": []
  }
 ],
 "metadata": {
  "kernelspec": {
   "display_name": "Python 3 (ipykernel)",
   "language": "python",
   "name": "python3"
  },
  "language_info": {
   "codemirror_mode": {
    "name": "ipython",
    "version": 3
   },
   "file_extension": ".py",
   "mimetype": "text/x-python",
   "name": "python",
   "nbconvert_exporter": "python",
   "pygments_lexer": "ipython3",
   "version": "3.7.12"
  }
 },
 "nbformat": 4,
 "nbformat_minor": 5
}
