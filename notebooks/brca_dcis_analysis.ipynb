{
 "cells": [
  {
   "cell_type": "code",
   "execution_count": 8,
   "id": "e02a97ea",
   "metadata": {},
   "outputs": [],
   "source": [
    "import os\n",
    "\n",
    "import pandas as pd\n",
    "from tifffile import TiffFile\n",
    "from ome_types import from_tiff, from_xml\n",
    "# import seaborn as sns \n",
    "import numpy as np\n",
    "import PIL\n",
    "import matplotlib.pyplot as plt\n",
    "from skimage.morphology import binary_closing\n",
    "from skimage.measure import label, find_contours\n",
    "from scipy.ndimage.morphology import binary_fill_holes\n",
    "import scanpy as sc"
   ]
  },
  {
   "cell_type": "code",
   "execution_count": 9,
   "id": "b6a7ffc9",
   "metadata": {},
   "outputs": [],
   "source": [
    "import tifffile"
   ]
  },
  {
   "cell_type": "code",
   "execution_count": 5,
   "id": "fbea12c9",
   "metadata": {},
   "outputs": [
    {
     "data": {
      "text/plain": [
       "AnnData object with n_obs × n_vars = 175735 × 30\n",
       "    obs: 'X', 'Y', 'leiden', 'cell type', 'row', 'col', 'annotated_tumor_region', 'unannotated_tumor_region', 'region_cell_count', 'unannotated_region_cell_count', 'tumor_region', 'tumor_region_cell_count'\n",
       "    uns: 'MGP', 'annotated_tumor_region_tif', 'cell type_colors', 'cell_segmentation_tif', 'leiden', 'leiden_colors', 'neighbors', 'tumor_region_tif', 'umap', 'unannotated_tumor_region_tif'\n",
       "    obsm: 'X_umap'\n",
       "    obsp: 'connectivities', 'distances'"
      ]
     },
     "execution_count": 5,
     "metadata": {},
     "output_type": "execute_result"
    }
   ],
   "source": [
    "adata = sc.read_h5ad('/data/multiplex/codex_inhouse/codex/HT206B1-H1/analysis/processed.h5ad')\n",
    "adata"
   ]
  },
  {
   "cell_type": "code",
   "execution_count": 256,
   "id": "7a2f36bf",
   "metadata": {},
   "outputs": [],
   "source": [
    "from skimage.morphology import disk\n",
    "from skimage.filters import rank\n",
    "def get_circular_gradient(radius):\n",
    "    # https://stackoverflow.com/questions/55159007/plot-circular-gradients-using-numpy\n",
    "    x_axis = np.linspace(-1, 1, radius)[:, None]\n",
    "    y_axis = np.linspace(-1, 1, radius)[None, :]\n",
    "\n",
    "    arr = np.sqrt(x_axis ** 2 + y_axis ** 2)\n",
    "    \n",
    "    inner = np.array([0, 0, 0])[None, None, :]\n",
    "    outer = np.array([1, 1, 1])[None, None, :]\n",
    "\n",
    "    arr /= arr.max()\n",
    "    arr = arr[:, :, None]\n",
    "    arr = arr * outer + (1 - arr) * inner\n",
    "    \n",
    "    return 1. - arr[:, :, 0]\n",
    "\n",
    "def calculate_region_gradients(adata, marker_tif, radius=50, marker='MGP', mask_outer=True):\n",
    "    regions = [int(x) for x in np.unique(adata.uns['tumor_region_tif']) if x!=0]\n",
    "    fltr = get_circular_gradient(radius)\n",
    "    gradient = np.zeros(marker_tif.shape)\n",
    "    footprint = disk(radius)\n",
    "    for region in regions:\n",
    "        print(region)\n",
    "        mask = adata.uns['tumor_region_tif']==region\n",
    "        \n",
    "        rs, cs = np.nonzero(mask)\n",
    "        if len(rs) and len(cs):\n",
    "            r1, r2 = min(rs), max(rs)\n",
    "            c1, c2 = min(cs), max(cs)\n",
    "\n",
    "            regional_mask = mask[r1:r2, c1:c2]\n",
    "            if not mask_outer:\n",
    "                regional_mask = np.full_like(regional_mask, True)\n",
    "            \n",
    "            regional_tif = marker_tif[r1:r2, c1:c2]\n",
    "            regional_tif[~regional_mask] = 0.\n",
    "\n",
    "            regional_gradient = rank.mean(regional_tif, footprint=footprint, mask=regional_mask)\n",
    "            regional_gradient[~regional_mask] = 0.\n",
    "            gradient[r1:r2, c1:c2] = gradient[r1:r2, c1:c2] + regional_gradient\n",
    "\n",
    "    adata.uns[f'{marker}_gradient'] = gradient\n",
    "    return adata"
   ]
  },
  {
   "cell_type": "code",
   "execution_count": 257,
   "id": "8f6c0773",
   "metadata": {},
   "outputs": [],
   "source": [
    "def find_edge_pixels(mask, thickness=2):\n",
    "    pixels = []\n",
    "    for r, c in np.argwhere(mask):\n",
    "        diam = thickness // 2\n",
    "        w = mask[max(r - diam, 0):r + 1 + diam, max(c - diam, 0):c + 1 + diam]\n",
    "#         print(w, w.shape)\n",
    "        if np.count_nonzero(~w) > 0:\n",
    "            pixels.append([r, c])\n",
    "    return np.asarray(pixels)\n",
    "\n",
    "\n",
    "def score_region_boundaries(adata, marker_tif, radius=50, marker='MGP', thresh=.5, thickness=50, mask_outer=True):\n",
    "    adata = calculate_region_gradients(adata, marker_tif, radius=radius, marker=marker)\n",
    "    regions = [int(x) for x in np.unique(adata.uns['tumor_region_tif']) if x!=0]\n",
    "    region_to_edge_mean_score, region_to_edge_breaks_score = {}, {}\n",
    "    region_to_mean_score, region_to_breaks_score = {}, {}\n",
    "    \n",
    "    edge_mean_img = np.zeros(adata.uns['tumor_region_tif'].shape)\n",
    "    edge_breaks_img = np.zeros(adata.uns['tumor_region_tif'].shape)\n",
    "    mean_img = np.zeros(adata.uns['tumor_region_tif'].shape)\n",
    "    breaks_img = np.zeros(adata.uns['tumor_region_tif'].shape)\n",
    "    max_val = np.max(adata.uns[f'{marker}_gradient'])\n",
    "    for region in regions:\n",
    "        print(region)\n",
    "        mask = adata.uns['tumor_region_tif']==region\n",
    "        rs, cs = zip(*find_edge_pixels(mask, thickness=thickness))\n",
    "        \n",
    "        if len(rs):\n",
    "        \n",
    "            # mean \n",
    "            score = np.mean(adata.uns[f'{marker}_gradient'][rs, cs])\n",
    "            edge_mean_img[rs, cs] = score\n",
    "            region_to_edge_mean_score[region] = score\n",
    "\n",
    "            score = np.mean(adata.uns[f'{marker}_gradient'][mask])\n",
    "            mean_img[mask] = score\n",
    "            region_to_mean_score[region] = score\n",
    "\n",
    "            # breaks\n",
    "            score = np.count_nonzero(adata.uns[f'{marker}_gradient'][rs, cs] < max_val * thresh) / len(rs)\n",
    "            edge_breaks_img[rs, cs] = score\n",
    "            region_to_edge_breaks_score[region] = score\n",
    "\n",
    "            score = np.count_nonzero(adata.uns[f'{marker}_gradient'][mask] < max_val * thresh) / np.count_nonzero(mask)\n",
    "            breaks_img[mask] = score\n",
    "            region_to_breaks_score[region] = score\n",
    "\n",
    "    adata.uns[f'edge_mean_{marker}_score_img'] = edge_mean_img\n",
    "    adata.uns[f'region_to_edge_mean_{marker}_score'] = region_to_edge_mean_score\n",
    "    adata.obs[f'region_edge_mean_{marker}_score'] = [region_to_edge_mean_score.get(r)\n",
    "                                                     for r in adata.obs['tumor_region']]\n",
    "    \n",
    "    adata.uns[f'edge_breaks_{marker}_score_img'] = edge_breaks_img\n",
    "    adata.uns[f'region_to_mean_{marker}_score'] = region_to_mean_score\n",
    "    adata.obs[f'region_mean_{marker}_score'] = [region_to_mean_score.get(r)\n",
    "                                                     for r in adata.obs['tumor_region']]\n",
    "    \n",
    "    adata.uns[f'mean_{marker}_score_img'] = mean_img\n",
    "    adata.uns[f'region_to_edge_breaks_{marker}_score'] = region_to_edge_breaks_score\n",
    "    adata.obs[f'region_edge_breaks_{marker}_score'] = [region_to_edge_breaks_score.get(r)\n",
    "                                                     for r in adata.obs['tumor_region']]\n",
    "    \n",
    "    adata.uns[f'breaks_{marker}_score_img'] = breaks_img\n",
    "    adata.uns[f'region_to_breaks_{marker}_score'] = region_to_breaks_score\n",
    "    adata.obs[f'region_breaks_{marker}_score'] = [region_to_breaks_score.get(r)\n",
    "                                                     for r in adata.obs['tumor_region']]\n",
    "    \n",
    "    return adata\n",
    "        \n",
    "        "
   ]
  },
  {
   "cell_type": "code",
   "execution_count": null,
   "id": "036741d8",
   "metadata": {},
   "outputs": [],
   "source": []
  },
  {
   "cell_type": "code",
   "execution_count": 212,
   "id": "66024263",
   "metadata": {},
   "outputs": [],
   "source": [
    "# mask = adata.uns['tumor_region_tif']==10\n",
    "# rs, cs = zip(*find_edge_pixels(mask, thickness=50))\n",
    "# rs"
   ]
  },
  {
   "cell_type": "code",
   "execution_count": 213,
   "id": "3dd5a09e",
   "metadata": {
    "scrolled": true
   },
   "outputs": [
    {
     "name": "stdout",
     "output_type": "stream",
     "text": [
      "1\n",
      "2\n",
      "3\n",
      "4\n",
      "5\n",
      "6\n",
      "7\n",
      "8\n",
      "9\n",
      "10\n",
      "11\n",
      "12\n",
      "13\n",
      "14\n",
      "15\n",
      "16\n",
      "17\n",
      "18\n",
      "19\n",
      "20\n",
      "21\n",
      "22\n",
      "23\n",
      "24\n",
      "25\n",
      "26\n",
      "27\n",
      "28\n",
      "29\n",
      "30\n",
      "31\n",
      "32\n",
      "33\n",
      "34\n",
      "35\n",
      "36\n",
      "37\n",
      "38\n",
      "39\n",
      "40\n",
      "41\n",
      "42\n",
      "43\n",
      "44\n",
      "45\n",
      "46\n",
      "47\n",
      "48\n",
      "49\n",
      "50\n",
      "51\n",
      "52\n",
      "53\n",
      "54\n",
      "55\n",
      "56\n",
      "57\n",
      "58\n",
      "59\n",
      "60\n",
      "61\n",
      "62\n",
      "63\n",
      "64\n",
      "65\n",
      "66\n",
      "67\n",
      "68\n",
      "69\n",
      "70\n",
      "71\n",
      "72\n",
      "73\n",
      "74\n",
      "75\n",
      "76\n",
      "77\n",
      "78\n",
      "79\n",
      "80\n",
      "81\n",
      "82\n",
      "83\n",
      "84\n",
      "85\n",
      "86\n",
      "87\n",
      "88\n",
      "89\n",
      "90\n",
      "91\n",
      "92\n",
      "93\n",
      "94\n",
      "95\n",
      "96\n",
      "97\n",
      "98\n",
      "99\n",
      "100\n",
      "101\n",
      "102\n",
      "103\n",
      "104\n",
      "105\n",
      "106\n",
      "107\n",
      "108\n",
      "109\n",
      "110\n",
      "111\n",
      "112\n",
      "113\n",
      "114\n",
      "115\n",
      "116\n",
      "117\n",
      "118\n",
      "119\n",
      "120\n",
      "121\n",
      "122\n",
      "123\n",
      "124\n",
      "125\n",
      "126\n",
      "127\n",
      "128\n",
      "129\n",
      "130\n",
      "131\n",
      "132\n",
      "133\n",
      "134\n",
      "135\n",
      "136\n",
      "137\n",
      "138\n",
      "139\n",
      "140\n",
      "141\n",
      "142\n",
      "143\n",
      "144\n",
      "145\n",
      "146\n",
      "147\n",
      "148\n",
      "149\n",
      "150\n",
      "151\n",
      "152\n",
      "153\n",
      "154\n",
      "155\n",
      "156\n",
      "157\n",
      "158\n",
      "159\n",
      "160\n",
      "161\n",
      "162\n",
      "163\n",
      "164\n",
      "165\n",
      "166\n",
      "167\n",
      "168\n",
      "169\n",
      "170\n",
      "171\n",
      "172\n",
      "173\n",
      "174\n",
      "175\n",
      "176\n",
      "177\n",
      "178\n",
      "179\n",
      "180\n",
      "181\n",
      "182\n",
      "183\n",
      "184\n",
      "185\n",
      "186\n",
      "187\n",
      "188\n",
      "189\n",
      "190\n",
      "191\n",
      "192\n",
      "193\n",
      "194\n",
      "195\n",
      "196\n",
      "197\n",
      "198\n",
      "199\n",
      "200\n",
      "201\n",
      "202\n",
      "203\n",
      "204\n",
      "205\n",
      "206\n",
      "207\n",
      "208\n",
      "209\n",
      "210\n",
      "211\n",
      "212\n",
      "213\n",
      "214\n",
      "215\n",
      "216\n",
      "217\n",
      "218\n",
      "219\n",
      "220\n",
      "221\n",
      "222\n",
      "223\n",
      "224\n",
      "225\n",
      "226\n",
      "227\n",
      "228\n",
      "229\n",
      "230\n",
      "231\n",
      "232\n",
      "233\n",
      "234\n",
      "235\n",
      "236\n",
      "237\n",
      "238\n",
      "239\n",
      "240\n",
      "241\n",
      "242\n",
      "243\n",
      "244\n",
      "245\n",
      "246\n",
      "247\n",
      "248\n",
      "249\n",
      "250\n",
      "251\n",
      "252\n",
      "253\n",
      "254\n",
      "255\n",
      "256\n",
      "257\n",
      "258\n",
      "259\n",
      "260\n",
      "261\n",
      "262\n",
      "263\n",
      "264\n",
      "265\n",
      "266\n",
      "267\n",
      "268\n",
      "269\n",
      "270\n",
      "271\n",
      "272\n",
      "273\n",
      "274\n",
      "275\n",
      "276\n",
      "277\n",
      "278\n",
      "279\n",
      "280\n",
      "281\n",
      "282\n",
      "283\n",
      "284\n",
      "285\n",
      "286\n",
      "287\n",
      "288\n",
      "289\n",
      "290\n",
      "291\n",
      "292\n",
      "293\n",
      "294\n",
      "295\n",
      "296\n",
      "297\n",
      "298\n",
      "299\n",
      "300\n",
      "301\n",
      "302\n",
      "303\n",
      "304\n",
      "305\n",
      "306\n",
      "307\n",
      "308\n",
      "309\n",
      "310\n",
      "311\n",
      "312\n",
      "313\n",
      "314\n",
      "315\n",
      "316\n",
      "317\n",
      "318\n",
      "319\n",
      "320\n",
      "321\n",
      "322\n",
      "323\n",
      "324\n",
      "325\n",
      "326\n",
      "327\n",
      "328\n",
      "329\n",
      "330\n",
      "331\n",
      "332\n",
      "333\n",
      "334\n",
      "335\n",
      "336\n",
      "337\n",
      "338\n",
      "339\n",
      "340\n",
      "341\n",
      "342\n",
      "343\n",
      "344\n",
      "345\n",
      "346\n",
      "347\n",
      "348\n",
      "349\n",
      "350\n",
      "351\n",
      "352\n",
      "353\n",
      "354\n",
      "355\n",
      "356\n",
      "357\n",
      "358\n",
      "359\n",
      "360\n",
      "361\n",
      "362\n",
      "363\n",
      "364\n",
      "365\n",
      "366\n",
      "367\n",
      "368\n",
      "369\n",
      "370\n",
      "371\n",
      "372\n",
      "373\n",
      "374\n",
      "375\n",
      "376\n",
      "377\n",
      "378\n",
      "379\n",
      "380\n",
      "381\n",
      "382\n",
      "383\n",
      "384\n",
      "385\n",
      "386\n",
      "387\n",
      "388\n",
      "389\n",
      "390\n",
      "391\n",
      "392\n",
      "393\n",
      "394\n",
      "395\n",
      "396\n",
      "397\n",
      "398\n",
      "399\n",
      "400\n",
      "401\n",
      "402\n",
      "403\n",
      "404\n",
      "405\n",
      "406\n",
      "407\n",
      "408\n",
      "409\n",
      "410\n",
      "411\n",
      "412\n",
      "413\n",
      "414\n",
      "415\n",
      "416\n",
      "417\n",
      "418\n",
      "419\n",
      "420\n",
      "421\n",
      "422\n",
      "423\n",
      "424\n",
      "425\n",
      "426\n",
      "427\n",
      "428\n",
      "429\n",
      "430\n",
      "431\n",
      "432\n",
      "433\n",
      "434\n",
      "435\n",
      "436\n",
      "437\n",
      "438\n",
      "439\n",
      "440\n",
      "441\n",
      "442\n",
      "443\n",
      "444\n",
      "445\n",
      "446\n",
      "447\n",
      "448\n",
      "449\n",
      "450\n",
      "451\n",
      "452\n",
      "453\n",
      "454\n",
      "455\n",
      "456\n",
      "457\n",
      "458\n",
      "459\n",
      "460\n",
      "461\n",
      "462\n",
      "463\n",
      "464\n",
      "465\n",
      "466\n",
      "467\n",
      "468\n",
      "469\n",
      "470\n",
      "471\n"
     ]
    }
   ],
   "source": [
    "adata = score_region_boundaries(adata, adata.uns['MGP'], radius=50, marker='MGP')"
   ]
  },
  {
   "cell_type": "code",
   "execution_count": null,
   "id": "94652bf1",
   "metadata": {},
   "outputs": [
    {
     "name": "stdout",
     "output_type": "stream",
     "text": [
      "1\n"
     ]
    },
    {
     "name": "stderr",
     "output_type": "stream",
     "text": [
      "/data/estorrs/miniconda3/envs/imaging_analysis/lib/python3.7/site-packages/skimage/filters/rank/generic.py:264: UserWarning: Bad rank filter performance is expected due to a large number of bins (65465), equivalent to an approximate bitdepth of 16.0.\n",
      "  out_dtype)\n"
     ]
    },
    {
     "name": "stdout",
     "output_type": "stream",
     "text": [
      "2\n"
     ]
    },
    {
     "name": "stderr",
     "output_type": "stream",
     "text": [
      "/data/estorrs/miniconda3/envs/imaging_analysis/lib/python3.7/site-packages/skimage/filters/rank/generic.py:264: UserWarning: Bad rank filter performance is expected due to a large number of bins (65446), equivalent to an approximate bitdepth of 16.0.\n",
      "  out_dtype)\n"
     ]
    },
    {
     "name": "stdout",
     "output_type": "stream",
     "text": [
      "3\n"
     ]
    },
    {
     "name": "stderr",
     "output_type": "stream",
     "text": [
      "/data/estorrs/miniconda3/envs/imaging_analysis/lib/python3.7/site-packages/skimage/filters/rank/generic.py:264: UserWarning: Bad rank filter performance is expected due to a large number of bins (65507), equivalent to an approximate bitdepth of 16.0.\n",
      "  out_dtype)\n"
     ]
    },
    {
     "name": "stdout",
     "output_type": "stream",
     "text": [
      "4\n"
     ]
    },
    {
     "name": "stderr",
     "output_type": "stream",
     "text": [
      "/data/estorrs/miniconda3/envs/imaging_analysis/lib/python3.7/site-packages/skimage/filters/rank/generic.py:264: UserWarning: Bad rank filter performance is expected due to a large number of bins (63548), equivalent to an approximate bitdepth of 16.0.\n",
      "  out_dtype)\n"
     ]
    },
    {
     "name": "stdout",
     "output_type": "stream",
     "text": [
      "5\n"
     ]
    },
    {
     "name": "stderr",
     "output_type": "stream",
     "text": [
      "/data/estorrs/miniconda3/envs/imaging_analysis/lib/python3.7/site-packages/skimage/filters/rank/generic.py:264: UserWarning: Bad rank filter performance is expected due to a large number of bins (63637), equivalent to an approximate bitdepth of 16.0.\n",
      "  out_dtype)\n"
     ]
    },
    {
     "name": "stdout",
     "output_type": "stream",
     "text": [
      "6\n"
     ]
    },
    {
     "name": "stderr",
     "output_type": "stream",
     "text": [
      "/data/estorrs/miniconda3/envs/imaging_analysis/lib/python3.7/site-packages/skimage/filters/rank/generic.py:264: UserWarning: Bad rank filter performance is expected due to a large number of bins (62769), equivalent to an approximate bitdepth of 15.9.\n",
      "  out_dtype)\n"
     ]
    },
    {
     "name": "stdout",
     "output_type": "stream",
     "text": [
      "7\n"
     ]
    },
    {
     "name": "stderr",
     "output_type": "stream",
     "text": [
      "/data/estorrs/miniconda3/envs/imaging_analysis/lib/python3.7/site-packages/skimage/filters/rank/generic.py:264: UserWarning: Bad rank filter performance is expected due to a large number of bins (65415), equivalent to an approximate bitdepth of 16.0.\n",
      "  out_dtype)\n"
     ]
    },
    {
     "name": "stdout",
     "output_type": "stream",
     "text": [
      "8\n"
     ]
    },
    {
     "name": "stderr",
     "output_type": "stream",
     "text": [
      "/data/estorrs/miniconda3/envs/imaging_analysis/lib/python3.7/site-packages/skimage/filters/rank/generic.py:264: UserWarning: Bad rank filter performance is expected due to a large number of bins (65314), equivalent to an approximate bitdepth of 16.0.\n",
      "  out_dtype)\n"
     ]
    },
    {
     "name": "stdout",
     "output_type": "stream",
     "text": [
      "9\n"
     ]
    },
    {
     "name": "stderr",
     "output_type": "stream",
     "text": [
      "/data/estorrs/miniconda3/envs/imaging_analysis/lib/python3.7/site-packages/skimage/filters/rank/generic.py:264: UserWarning: Bad rank filter performance is expected due to a large number of bins (65535), equivalent to an approximate bitdepth of 16.0.\n",
      "  out_dtype)\n"
     ]
    },
    {
     "name": "stdout",
     "output_type": "stream",
     "text": [
      "10\n"
     ]
    },
    {
     "name": "stderr",
     "output_type": "stream",
     "text": [
      "/data/estorrs/miniconda3/envs/imaging_analysis/lib/python3.7/site-packages/skimage/filters/rank/generic.py:264: UserWarning: Bad rank filter performance is expected due to a large number of bins (63852), equivalent to an approximate bitdepth of 16.0.\n",
      "  out_dtype)\n"
     ]
    },
    {
     "name": "stdout",
     "output_type": "stream",
     "text": [
      "11\n"
     ]
    },
    {
     "name": "stderr",
     "output_type": "stream",
     "text": [
      "/data/estorrs/miniconda3/envs/imaging_analysis/lib/python3.7/site-packages/skimage/filters/rank/generic.py:264: UserWarning: Bad rank filter performance is expected due to a large number of bins (60474), equivalent to an approximate bitdepth of 15.9.\n",
      "  out_dtype)\n"
     ]
    },
    {
     "name": "stdout",
     "output_type": "stream",
     "text": [
      "12\n"
     ]
    },
    {
     "name": "stderr",
     "output_type": "stream",
     "text": [
      "/data/estorrs/miniconda3/envs/imaging_analysis/lib/python3.7/site-packages/skimage/filters/rank/generic.py:264: UserWarning: Bad rank filter performance is expected due to a large number of bins (64749), equivalent to an approximate bitdepth of 16.0.\n",
      "  out_dtype)\n"
     ]
    },
    {
     "name": "stdout",
     "output_type": "stream",
     "text": [
      "13\n"
     ]
    },
    {
     "name": "stderr",
     "output_type": "stream",
     "text": [
      "/data/estorrs/miniconda3/envs/imaging_analysis/lib/python3.7/site-packages/skimage/filters/rank/generic.py:264: UserWarning: Bad rank filter performance is expected due to a large number of bins (65480), equivalent to an approximate bitdepth of 16.0.\n",
      "  out_dtype)\n"
     ]
    },
    {
     "name": "stdout",
     "output_type": "stream",
     "text": [
      "14\n"
     ]
    },
    {
     "name": "stderr",
     "output_type": "stream",
     "text": [
      "/data/estorrs/miniconda3/envs/imaging_analysis/lib/python3.7/site-packages/skimage/filters/rank/generic.py:264: UserWarning: Bad rank filter performance is expected due to a large number of bins (64988), equivalent to an approximate bitdepth of 16.0.\n",
      "  out_dtype)\n"
     ]
    },
    {
     "name": "stdout",
     "output_type": "stream",
     "text": [
      "15\n"
     ]
    },
    {
     "name": "stderr",
     "output_type": "stream",
     "text": [
      "/data/estorrs/miniconda3/envs/imaging_analysis/lib/python3.7/site-packages/skimage/filters/rank/generic.py:264: UserWarning: Bad rank filter performance is expected due to a large number of bins (65536), equivalent to an approximate bitdepth of 16.0.\n",
      "  out_dtype)\n"
     ]
    },
    {
     "name": "stdout",
     "output_type": "stream",
     "text": [
      "16\n"
     ]
    },
    {
     "name": "stderr",
     "output_type": "stream",
     "text": [
      "/data/estorrs/miniconda3/envs/imaging_analysis/lib/python3.7/site-packages/skimage/filters/rank/generic.py:264: UserWarning: Bad rank filter performance is expected due to a large number of bins (65353), equivalent to an approximate bitdepth of 16.0.\n",
      "  out_dtype)\n"
     ]
    },
    {
     "name": "stdout",
     "output_type": "stream",
     "text": [
      "17\n"
     ]
    },
    {
     "name": "stderr",
     "output_type": "stream",
     "text": [
      "/data/estorrs/miniconda3/envs/imaging_analysis/lib/python3.7/site-packages/skimage/filters/rank/generic.py:264: UserWarning: Bad rank filter performance is expected due to a large number of bins (65467), equivalent to an approximate bitdepth of 16.0.\n",
      "  out_dtype)\n"
     ]
    },
    {
     "name": "stdout",
     "output_type": "stream",
     "text": [
      "18\n"
     ]
    },
    {
     "name": "stderr",
     "output_type": "stream",
     "text": [
      "/data/estorrs/miniconda3/envs/imaging_analysis/lib/python3.7/site-packages/skimage/filters/rank/generic.py:264: UserWarning: Bad rank filter performance is expected due to a large number of bins (65350), equivalent to an approximate bitdepth of 16.0.\n",
      "  out_dtype)\n"
     ]
    },
    {
     "name": "stdout",
     "output_type": "stream",
     "text": [
      "19\n"
     ]
    },
    {
     "name": "stderr",
     "output_type": "stream",
     "text": [
      "/data/estorrs/miniconda3/envs/imaging_analysis/lib/python3.7/site-packages/skimage/filters/rank/generic.py:264: UserWarning: Bad rank filter performance is expected due to a large number of bins (65359), equivalent to an approximate bitdepth of 16.0.\n",
      "  out_dtype)\n"
     ]
    },
    {
     "name": "stdout",
     "output_type": "stream",
     "text": [
      "20\n"
     ]
    },
    {
     "name": "stderr",
     "output_type": "stream",
     "text": [
      "/data/estorrs/miniconda3/envs/imaging_analysis/lib/python3.7/site-packages/skimage/filters/rank/generic.py:264: UserWarning: Bad rank filter performance is expected due to a large number of bins (65375), equivalent to an approximate bitdepth of 16.0.\n",
      "  out_dtype)\n"
     ]
    },
    {
     "name": "stdout",
     "output_type": "stream",
     "text": [
      "21\n"
     ]
    },
    {
     "name": "stderr",
     "output_type": "stream",
     "text": [
      "/data/estorrs/miniconda3/envs/imaging_analysis/lib/python3.7/site-packages/skimage/filters/rank/generic.py:264: UserWarning: Bad rank filter performance is expected due to a large number of bins (63933), equivalent to an approximate bitdepth of 16.0.\n",
      "  out_dtype)\n"
     ]
    },
    {
     "name": "stdout",
     "output_type": "stream",
     "text": [
      "22\n"
     ]
    },
    {
     "name": "stderr",
     "output_type": "stream",
     "text": [
      "/data/estorrs/miniconda3/envs/imaging_analysis/lib/python3.7/site-packages/skimage/filters/rank/generic.py:264: UserWarning: Bad rank filter performance is expected due to a large number of bins (62587), equivalent to an approximate bitdepth of 15.9.\n",
      "  out_dtype)\n"
     ]
    },
    {
     "name": "stdout",
     "output_type": "stream",
     "text": [
      "23\n"
     ]
    },
    {
     "name": "stderr",
     "output_type": "stream",
     "text": [
      "/data/estorrs/miniconda3/envs/imaging_analysis/lib/python3.7/site-packages/skimage/filters/rank/generic.py:264: UserWarning: Bad rank filter performance is expected due to a large number of bins (58767), equivalent to an approximate bitdepth of 15.8.\n",
      "  out_dtype)\n"
     ]
    },
    {
     "name": "stdout",
     "output_type": "stream",
     "text": [
      "24\n"
     ]
    },
    {
     "name": "stderr",
     "output_type": "stream",
     "text": [
      "/data/estorrs/miniconda3/envs/imaging_analysis/lib/python3.7/site-packages/skimage/filters/rank/generic.py:264: UserWarning: Bad rank filter performance is expected due to a large number of bins (65403), equivalent to an approximate bitdepth of 16.0.\n",
      "  out_dtype)\n"
     ]
    },
    {
     "name": "stdout",
     "output_type": "stream",
     "text": [
      "25\n"
     ]
    },
    {
     "name": "stderr",
     "output_type": "stream",
     "text": [
      "/data/estorrs/miniconda3/envs/imaging_analysis/lib/python3.7/site-packages/skimage/filters/rank/generic.py:264: UserWarning: Bad rank filter performance is expected due to a large number of bins (63619), equivalent to an approximate bitdepth of 16.0.\n",
      "  out_dtype)\n"
     ]
    },
    {
     "name": "stdout",
     "output_type": "stream",
     "text": [
      "26\n",
      "27\n"
     ]
    },
    {
     "name": "stderr",
     "output_type": "stream",
     "text": [
      "/data/estorrs/miniconda3/envs/imaging_analysis/lib/python3.7/site-packages/skimage/filters/rank/generic.py:264: UserWarning: Bad rank filter performance is expected due to a large number of bins (61540), equivalent to an approximate bitdepth of 15.9.\n",
      "  out_dtype)\n"
     ]
    },
    {
     "name": "stdout",
     "output_type": "stream",
     "text": [
      "28\n"
     ]
    },
    {
     "name": "stderr",
     "output_type": "stream",
     "text": [
      "/data/estorrs/miniconda3/envs/imaging_analysis/lib/python3.7/site-packages/skimage/filters/rank/generic.py:264: UserWarning: Bad rank filter performance is expected due to a large number of bins (64491), equivalent to an approximate bitdepth of 16.0.\n",
      "  out_dtype)\n"
     ]
    },
    {
     "name": "stdout",
     "output_type": "stream",
     "text": [
      "29\n"
     ]
    },
    {
     "name": "stderr",
     "output_type": "stream",
     "text": [
      "/data/estorrs/miniconda3/envs/imaging_analysis/lib/python3.7/site-packages/skimage/filters/rank/generic.py:264: UserWarning: Bad rank filter performance is expected due to a large number of bins (65534), equivalent to an approximate bitdepth of 16.0.\n",
      "  out_dtype)\n"
     ]
    },
    {
     "name": "stdout",
     "output_type": "stream",
     "text": [
      "30\n"
     ]
    },
    {
     "name": "stderr",
     "output_type": "stream",
     "text": [
      "/data/estorrs/miniconda3/envs/imaging_analysis/lib/python3.7/site-packages/skimage/filters/rank/generic.py:264: UserWarning: Bad rank filter performance is expected due to a large number of bins (65286), equivalent to an approximate bitdepth of 16.0.\n",
      "  out_dtype)\n"
     ]
    },
    {
     "name": "stdout",
     "output_type": "stream",
     "text": [
      "31\n"
     ]
    },
    {
     "name": "stderr",
     "output_type": "stream",
     "text": [
      "/data/estorrs/miniconda3/envs/imaging_analysis/lib/python3.7/site-packages/skimage/filters/rank/generic.py:264: UserWarning: Bad rank filter performance is expected due to a large number of bins (61183), equivalent to an approximate bitdepth of 15.9.\n",
      "  out_dtype)\n"
     ]
    },
    {
     "name": "stdout",
     "output_type": "stream",
     "text": [
      "32\n"
     ]
    },
    {
     "name": "stderr",
     "output_type": "stream",
     "text": [
      "/data/estorrs/miniconda3/envs/imaging_analysis/lib/python3.7/site-packages/skimage/filters/rank/generic.py:264: UserWarning: Bad rank filter performance is expected due to a large number of bins (65475), equivalent to an approximate bitdepth of 16.0.\n",
      "  out_dtype)\n"
     ]
    },
    {
     "name": "stdout",
     "output_type": "stream",
     "text": [
      "33\n"
     ]
    },
    {
     "name": "stderr",
     "output_type": "stream",
     "text": [
      "/data/estorrs/miniconda3/envs/imaging_analysis/lib/python3.7/site-packages/skimage/filters/rank/generic.py:264: UserWarning: Bad rank filter performance is expected due to a large number of bins (58044), equivalent to an approximate bitdepth of 15.8.\n",
      "  out_dtype)\n"
     ]
    },
    {
     "name": "stdout",
     "output_type": "stream",
     "text": [
      "34\n"
     ]
    },
    {
     "name": "stderr",
     "output_type": "stream",
     "text": [
      "/data/estorrs/miniconda3/envs/imaging_analysis/lib/python3.7/site-packages/skimage/filters/rank/generic.py:264: UserWarning: Bad rank filter performance is expected due to a large number of bins (65489), equivalent to an approximate bitdepth of 16.0.\n",
      "  out_dtype)\n"
     ]
    },
    {
     "name": "stdout",
     "output_type": "stream",
     "text": [
      "35\n"
     ]
    },
    {
     "name": "stderr",
     "output_type": "stream",
     "text": [
      "/data/estorrs/miniconda3/envs/imaging_analysis/lib/python3.7/site-packages/skimage/filters/rank/generic.py:264: UserWarning: Bad rank filter performance is expected due to a large number of bins (65397), equivalent to an approximate bitdepth of 16.0.\n",
      "  out_dtype)\n"
     ]
    },
    {
     "name": "stdout",
     "output_type": "stream",
     "text": [
      "36\n"
     ]
    },
    {
     "name": "stderr",
     "output_type": "stream",
     "text": [
      "/data/estorrs/miniconda3/envs/imaging_analysis/lib/python3.7/site-packages/skimage/filters/rank/generic.py:264: UserWarning: Bad rank filter performance is expected due to a large number of bins (34345), equivalent to an approximate bitdepth of 15.1.\n",
      "  out_dtype)\n"
     ]
    },
    {
     "name": "stdout",
     "output_type": "stream",
     "text": [
      "37\n"
     ]
    },
    {
     "name": "stderr",
     "output_type": "stream",
     "text": [
      "/data/estorrs/miniconda3/envs/imaging_analysis/lib/python3.7/site-packages/skimage/filters/rank/generic.py:264: UserWarning: Bad rank filter performance is expected due to a large number of bins (7141), equivalent to an approximate bitdepth of 12.8.\n",
      "  out_dtype)\n"
     ]
    },
    {
     "name": "stdout",
     "output_type": "stream",
     "text": [
      "38\n"
     ]
    },
    {
     "name": "stderr",
     "output_type": "stream",
     "text": [
      "/data/estorrs/miniconda3/envs/imaging_analysis/lib/python3.7/site-packages/skimage/filters/rank/generic.py:264: UserWarning: Bad rank filter performance is expected due to a large number of bins (45755), equivalent to an approximate bitdepth of 15.5.\n",
      "  out_dtype)\n"
     ]
    },
    {
     "name": "stdout",
     "output_type": "stream",
     "text": [
      "39\n",
      "40\n"
     ]
    },
    {
     "name": "stderr",
     "output_type": "stream",
     "text": [
      "/data/estorrs/miniconda3/envs/imaging_analysis/lib/python3.7/site-packages/skimage/filters/rank/generic.py:264: UserWarning: Bad rank filter performance is expected due to a large number of bins (61506), equivalent to an approximate bitdepth of 15.9.\n",
      "  out_dtype)\n"
     ]
    },
    {
     "name": "stdout",
     "output_type": "stream",
     "text": [
      "41\n"
     ]
    },
    {
     "name": "stderr",
     "output_type": "stream",
     "text": [
      "/data/estorrs/miniconda3/envs/imaging_analysis/lib/python3.7/site-packages/skimage/filters/rank/generic.py:264: UserWarning: Bad rank filter performance is expected due to a large number of bins (47175), equivalent to an approximate bitdepth of 15.5.\n",
      "  out_dtype)\n"
     ]
    },
    {
     "name": "stdout",
     "output_type": "stream",
     "text": [
      "42\n"
     ]
    },
    {
     "name": "stderr",
     "output_type": "stream",
     "text": [
      "/data/estorrs/miniconda3/envs/imaging_analysis/lib/python3.7/site-packages/skimage/filters/rank/generic.py:264: UserWarning: Bad rank filter performance is expected due to a large number of bins (58751), equivalent to an approximate bitdepth of 15.8.\n",
      "  out_dtype)\n"
     ]
    },
    {
     "name": "stdout",
     "output_type": "stream",
     "text": [
      "43\n"
     ]
    },
    {
     "name": "stderr",
     "output_type": "stream",
     "text": [
      "/data/estorrs/miniconda3/envs/imaging_analysis/lib/python3.7/site-packages/skimage/filters/rank/generic.py:264: UserWarning: Bad rank filter performance is expected due to a large number of bins (54636), equivalent to an approximate bitdepth of 15.7.\n",
      "  out_dtype)\n"
     ]
    },
    {
     "name": "stdout",
     "output_type": "stream",
     "text": [
      "44\n"
     ]
    },
    {
     "name": "stderr",
     "output_type": "stream",
     "text": [
      "/data/estorrs/miniconda3/envs/imaging_analysis/lib/python3.7/site-packages/skimage/filters/rank/generic.py:264: UserWarning: Bad rank filter performance is expected due to a large number of bins (23290), equivalent to an approximate bitdepth of 14.5.\n",
      "  out_dtype)\n"
     ]
    },
    {
     "name": "stdout",
     "output_type": "stream",
     "text": [
      "45\n"
     ]
    },
    {
     "name": "stderr",
     "output_type": "stream",
     "text": [
      "/data/estorrs/miniconda3/envs/imaging_analysis/lib/python3.7/site-packages/skimage/filters/rank/generic.py:264: UserWarning: Bad rank filter performance is expected due to a large number of bins (46866), equivalent to an approximate bitdepth of 15.5.\n",
      "  out_dtype)\n"
     ]
    },
    {
     "name": "stdout",
     "output_type": "stream",
     "text": [
      "46\n"
     ]
    },
    {
     "name": "stderr",
     "output_type": "stream",
     "text": [
      "/data/estorrs/miniconda3/envs/imaging_analysis/lib/python3.7/site-packages/skimage/filters/rank/generic.py:264: UserWarning: Bad rank filter performance is expected due to a large number of bins (26753), equivalent to an approximate bitdepth of 14.7.\n",
      "  out_dtype)\n"
     ]
    },
    {
     "name": "stdout",
     "output_type": "stream",
     "text": [
      "47\n"
     ]
    },
    {
     "name": "stderr",
     "output_type": "stream",
     "text": [
      "/data/estorrs/miniconda3/envs/imaging_analysis/lib/python3.7/site-packages/skimage/filters/rank/generic.py:264: UserWarning: Bad rank filter performance is expected due to a large number of bins (44642), equivalent to an approximate bitdepth of 15.4.\n",
      "  out_dtype)\n"
     ]
    },
    {
     "name": "stdout",
     "output_type": "stream",
     "text": [
      "48\n"
     ]
    },
    {
     "name": "stderr",
     "output_type": "stream",
     "text": [
      "/data/estorrs/miniconda3/envs/imaging_analysis/lib/python3.7/site-packages/skimage/filters/rank/generic.py:264: UserWarning: Bad rank filter performance is expected due to a large number of bins (20898), equivalent to an approximate bitdepth of 14.4.\n",
      "  out_dtype)\n"
     ]
    },
    {
     "name": "stdout",
     "output_type": "stream",
     "text": [
      "49\n"
     ]
    },
    {
     "name": "stderr",
     "output_type": "stream",
     "text": [
      "/data/estorrs/miniconda3/envs/imaging_analysis/lib/python3.7/site-packages/skimage/filters/rank/generic.py:264: UserWarning: Bad rank filter performance is expected due to a large number of bins (57906), equivalent to an approximate bitdepth of 15.8.\n",
      "  out_dtype)\n"
     ]
    },
    {
     "name": "stdout",
     "output_type": "stream",
     "text": [
      "50\n"
     ]
    },
    {
     "name": "stderr",
     "output_type": "stream",
     "text": [
      "/data/estorrs/miniconda3/envs/imaging_analysis/lib/python3.7/site-packages/skimage/filters/rank/generic.py:264: UserWarning: Bad rank filter performance is expected due to a large number of bins (51132), equivalent to an approximate bitdepth of 15.6.\n",
      "  out_dtype)\n"
     ]
    },
    {
     "name": "stdout",
     "output_type": "stream",
     "text": [
      "51\n",
      "52\n"
     ]
    },
    {
     "name": "stderr",
     "output_type": "stream",
     "text": [
      "/data/estorrs/miniconda3/envs/imaging_analysis/lib/python3.7/site-packages/skimage/filters/rank/generic.py:264: UserWarning: Bad rank filter performance is expected due to a large number of bins (18399), equivalent to an approximate bitdepth of 14.2.\n",
      "  out_dtype)\n"
     ]
    },
    {
     "name": "stdout",
     "output_type": "stream",
     "text": [
      "53\n"
     ]
    },
    {
     "name": "stderr",
     "output_type": "stream",
     "text": [
      "/data/estorrs/miniconda3/envs/imaging_analysis/lib/python3.7/site-packages/skimage/filters/rank/generic.py:264: UserWarning: Bad rank filter performance is expected due to a large number of bins (38315), equivalent to an approximate bitdepth of 15.2.\n",
      "  out_dtype)\n"
     ]
    },
    {
     "name": "stdout",
     "output_type": "stream",
     "text": [
      "54\n"
     ]
    },
    {
     "name": "stderr",
     "output_type": "stream",
     "text": [
      "/data/estorrs/miniconda3/envs/imaging_analysis/lib/python3.7/site-packages/skimage/filters/rank/generic.py:264: UserWarning: Bad rank filter performance is expected due to a large number of bins (59873), equivalent to an approximate bitdepth of 15.9.\n",
      "  out_dtype)\n"
     ]
    },
    {
     "name": "stdout",
     "output_type": "stream",
     "text": [
      "55\n"
     ]
    },
    {
     "name": "stderr",
     "output_type": "stream",
     "text": [
      "/data/estorrs/miniconda3/envs/imaging_analysis/lib/python3.7/site-packages/skimage/filters/rank/generic.py:264: UserWarning: Bad rank filter performance is expected due to a large number of bins (19609), equivalent to an approximate bitdepth of 14.3.\n",
      "  out_dtype)\n"
     ]
    },
    {
     "name": "stdout",
     "output_type": "stream",
     "text": [
      "56\n"
     ]
    },
    {
     "name": "stderr",
     "output_type": "stream",
     "text": [
      "/data/estorrs/miniconda3/envs/imaging_analysis/lib/python3.7/site-packages/skimage/filters/rank/generic.py:264: UserWarning: Bad rank filter performance is expected due to a large number of bins (24392), equivalent to an approximate bitdepth of 14.6.\n",
      "  out_dtype)\n"
     ]
    },
    {
     "name": "stdout",
     "output_type": "stream",
     "text": [
      "57\n"
     ]
    },
    {
     "name": "stderr",
     "output_type": "stream",
     "text": [
      "/data/estorrs/miniconda3/envs/imaging_analysis/lib/python3.7/site-packages/skimage/filters/rank/generic.py:264: UserWarning: Bad rank filter performance is expected due to a large number of bins (53262), equivalent to an approximate bitdepth of 15.7.\n",
      "  out_dtype)\n"
     ]
    },
    {
     "name": "stdout",
     "output_type": "stream",
     "text": [
      "58\n"
     ]
    },
    {
     "name": "stderr",
     "output_type": "stream",
     "text": [
      "/data/estorrs/miniconda3/envs/imaging_analysis/lib/python3.7/site-packages/skimage/filters/rank/generic.py:264: UserWarning: Bad rank filter performance is expected due to a large number of bins (42012), equivalent to an approximate bitdepth of 15.4.\n",
      "  out_dtype)\n"
     ]
    },
    {
     "name": "stdout",
     "output_type": "stream",
     "text": [
      "59\n"
     ]
    },
    {
     "name": "stderr",
     "output_type": "stream",
     "text": [
      "/data/estorrs/miniconda3/envs/imaging_analysis/lib/python3.7/site-packages/skimage/filters/rank/generic.py:264: UserWarning: Bad rank filter performance is expected due to a large number of bins (27355), equivalent to an approximate bitdepth of 14.7.\n",
      "  out_dtype)\n"
     ]
    },
    {
     "name": "stdout",
     "output_type": "stream",
     "text": [
      "60\n"
     ]
    },
    {
     "name": "stderr",
     "output_type": "stream",
     "text": [
      "/data/estorrs/miniconda3/envs/imaging_analysis/lib/python3.7/site-packages/skimage/filters/rank/generic.py:264: UserWarning: Bad rank filter performance is expected due to a large number of bins (55682), equivalent to an approximate bitdepth of 15.8.\n",
      "  out_dtype)\n"
     ]
    },
    {
     "name": "stdout",
     "output_type": "stream",
     "text": [
      "61\n"
     ]
    },
    {
     "name": "stderr",
     "output_type": "stream",
     "text": [
      "/data/estorrs/miniconda3/envs/imaging_analysis/lib/python3.7/site-packages/skimage/filters/rank/generic.py:264: UserWarning: Bad rank filter performance is expected due to a large number of bins (32437), equivalent to an approximate bitdepth of 15.0.\n",
      "  out_dtype)\n"
     ]
    },
    {
     "name": "stdout",
     "output_type": "stream",
     "text": [
      "62\n"
     ]
    },
    {
     "name": "stderr",
     "output_type": "stream",
     "text": [
      "/data/estorrs/miniconda3/envs/imaging_analysis/lib/python3.7/site-packages/skimage/filters/rank/generic.py:264: UserWarning: Bad rank filter performance is expected due to a large number of bins (52227), equivalent to an approximate bitdepth of 15.7.\n",
      "  out_dtype)\n"
     ]
    },
    {
     "name": "stdout",
     "output_type": "stream",
     "text": [
      "63\n"
     ]
    },
    {
     "name": "stderr",
     "output_type": "stream",
     "text": [
      "/data/estorrs/miniconda3/envs/imaging_analysis/lib/python3.7/site-packages/skimage/filters/rank/generic.py:264: UserWarning: Bad rank filter performance is expected due to a large number of bins (49715), equivalent to an approximate bitdepth of 15.6.\n",
      "  out_dtype)\n"
     ]
    },
    {
     "name": "stdout",
     "output_type": "stream",
     "text": [
      "64\n"
     ]
    },
    {
     "name": "stderr",
     "output_type": "stream",
     "text": [
      "/data/estorrs/miniconda3/envs/imaging_analysis/lib/python3.7/site-packages/skimage/filters/rank/generic.py:264: UserWarning: Bad rank filter performance is expected due to a large number of bins (15929), equivalent to an approximate bitdepth of 14.0.\n",
      "  out_dtype)\n"
     ]
    },
    {
     "name": "stdout",
     "output_type": "stream",
     "text": [
      "65\n"
     ]
    },
    {
     "name": "stderr",
     "output_type": "stream",
     "text": [
      "/data/estorrs/miniconda3/envs/imaging_analysis/lib/python3.7/site-packages/skimage/filters/rank/generic.py:264: UserWarning: Bad rank filter performance is expected due to a large number of bins (59227), equivalent to an approximate bitdepth of 15.9.\n",
      "  out_dtype)\n"
     ]
    },
    {
     "name": "stdout",
     "output_type": "stream",
     "text": [
      "66\n"
     ]
    },
    {
     "name": "stderr",
     "output_type": "stream",
     "text": [
      "/data/estorrs/miniconda3/envs/imaging_analysis/lib/python3.7/site-packages/skimage/filters/rank/generic.py:264: UserWarning: Bad rank filter performance is expected due to a large number of bins (58689), equivalent to an approximate bitdepth of 15.8.\n",
      "  out_dtype)\n"
     ]
    },
    {
     "name": "stdout",
     "output_type": "stream",
     "text": [
      "67\n"
     ]
    },
    {
     "name": "stderr",
     "output_type": "stream",
     "text": [
      "/data/estorrs/miniconda3/envs/imaging_analysis/lib/python3.7/site-packages/skimage/filters/rank/generic.py:264: UserWarning: Bad rank filter performance is expected due to a large number of bins (5704), equivalent to an approximate bitdepth of 12.5.\n",
      "  out_dtype)\n"
     ]
    },
    {
     "name": "stdout",
     "output_type": "stream",
     "text": [
      "68\n"
     ]
    },
    {
     "name": "stderr",
     "output_type": "stream",
     "text": [
      "/data/estorrs/miniconda3/envs/imaging_analysis/lib/python3.7/site-packages/skimage/filters/rank/generic.py:264: UserWarning: Bad rank filter performance is expected due to a large number of bins (48664), equivalent to an approximate bitdepth of 15.6.\n",
      "  out_dtype)\n"
     ]
    },
    {
     "name": "stdout",
     "output_type": "stream",
     "text": [
      "69\n"
     ]
    },
    {
     "name": "stderr",
     "output_type": "stream",
     "text": [
      "/data/estorrs/miniconda3/envs/imaging_analysis/lib/python3.7/site-packages/skimage/filters/rank/generic.py:264: UserWarning: Bad rank filter performance is expected due to a large number of bins (12002), equivalent to an approximate bitdepth of 13.6.\n",
      "  out_dtype)\n"
     ]
    },
    {
     "name": "stdout",
     "output_type": "stream",
     "text": [
      "70\n"
     ]
    },
    {
     "name": "stderr",
     "output_type": "stream",
     "text": [
      "/data/estorrs/miniconda3/envs/imaging_analysis/lib/python3.7/site-packages/skimage/filters/rank/generic.py:264: UserWarning: Bad rank filter performance is expected due to a large number of bins (3863), equivalent to an approximate bitdepth of 11.9.\n",
      "  out_dtype)\n"
     ]
    },
    {
     "name": "stdout",
     "output_type": "stream",
     "text": [
      "71\n",
      "72\n"
     ]
    },
    {
     "name": "stderr",
     "output_type": "stream",
     "text": [
      "/data/estorrs/miniconda3/envs/imaging_analysis/lib/python3.7/site-packages/skimage/filters/rank/generic.py:264: UserWarning: Bad rank filter performance is expected due to a large number of bins (4256), equivalent to an approximate bitdepth of 12.1.\n",
      "  out_dtype)\n"
     ]
    },
    {
     "name": "stdout",
     "output_type": "stream",
     "text": [
      "73\n"
     ]
    },
    {
     "name": "stderr",
     "output_type": "stream",
     "text": [
      "/data/estorrs/miniconda3/envs/imaging_analysis/lib/python3.7/site-packages/skimage/filters/rank/generic.py:264: UserWarning: Bad rank filter performance is expected due to a large number of bins (37880), equivalent to an approximate bitdepth of 15.2.\n",
      "  out_dtype)\n"
     ]
    },
    {
     "name": "stdout",
     "output_type": "stream",
     "text": [
      "74\n"
     ]
    },
    {
     "name": "stderr",
     "output_type": "stream",
     "text": [
      "/data/estorrs/miniconda3/envs/imaging_analysis/lib/python3.7/site-packages/skimage/filters/rank/generic.py:264: UserWarning: Bad rank filter performance is expected due to a large number of bins (7262), equivalent to an approximate bitdepth of 12.8.\n",
      "  out_dtype)\n"
     ]
    },
    {
     "name": "stdout",
     "output_type": "stream",
     "text": [
      "75\n"
     ]
    },
    {
     "name": "stderr",
     "output_type": "stream",
     "text": [
      "/data/estorrs/miniconda3/envs/imaging_analysis/lib/python3.7/site-packages/skimage/filters/rank/generic.py:264: UserWarning: Bad rank filter performance is expected due to a large number of bins (2167), equivalent to an approximate bitdepth of 11.1.\n",
      "  out_dtype)\n"
     ]
    },
    {
     "name": "stdout",
     "output_type": "stream",
     "text": [
      "76\n"
     ]
    },
    {
     "name": "stderr",
     "output_type": "stream",
     "text": [
      "/data/estorrs/miniconda3/envs/imaging_analysis/lib/python3.7/site-packages/skimage/filters/rank/generic.py:264: UserWarning: Bad rank filter performance is expected due to a large number of bins (53626), equivalent to an approximate bitdepth of 15.7.\n",
      "  out_dtype)\n"
     ]
    },
    {
     "name": "stdout",
     "output_type": "stream",
     "text": [
      "77\n"
     ]
    },
    {
     "name": "stderr",
     "output_type": "stream",
     "text": [
      "/data/estorrs/miniconda3/envs/imaging_analysis/lib/python3.7/site-packages/skimage/filters/rank/generic.py:264: UserWarning: Bad rank filter performance is expected due to a large number of bins (14467), equivalent to an approximate bitdepth of 13.8.\n",
      "  out_dtype)\n"
     ]
    },
    {
     "name": "stdout",
     "output_type": "stream",
     "text": [
      "78\n"
     ]
    },
    {
     "name": "stderr",
     "output_type": "stream",
     "text": [
      "/data/estorrs/miniconda3/envs/imaging_analysis/lib/python3.7/site-packages/skimage/filters/rank/generic.py:264: UserWarning: Bad rank filter performance is expected due to a large number of bins (5248), equivalent to an approximate bitdepth of 12.4.\n",
      "  out_dtype)\n"
     ]
    },
    {
     "name": "stdout",
     "output_type": "stream",
     "text": [
      "79\n"
     ]
    },
    {
     "name": "stderr",
     "output_type": "stream",
     "text": [
      "/data/estorrs/miniconda3/envs/imaging_analysis/lib/python3.7/site-packages/skimage/filters/rank/generic.py:264: UserWarning: Bad rank filter performance is expected due to a large number of bins (56721), equivalent to an approximate bitdepth of 15.8.\n",
      "  out_dtype)\n"
     ]
    },
    {
     "name": "stdout",
     "output_type": "stream",
     "text": [
      "80\n"
     ]
    },
    {
     "name": "stderr",
     "output_type": "stream",
     "text": [
      "/data/estorrs/miniconda3/envs/imaging_analysis/lib/python3.7/site-packages/skimage/filters/rank/generic.py:264: UserWarning: Bad rank filter performance is expected due to a large number of bins (54499), equivalent to an approximate bitdepth of 15.7.\n",
      "  out_dtype)\n"
     ]
    },
    {
     "name": "stdout",
     "output_type": "stream",
     "text": [
      "81\n"
     ]
    },
    {
     "name": "stderr",
     "output_type": "stream",
     "text": [
      "/data/estorrs/miniconda3/envs/imaging_analysis/lib/python3.7/site-packages/skimage/filters/rank/generic.py:264: UserWarning: Bad rank filter performance is expected due to a large number of bins (10523), equivalent to an approximate bitdepth of 13.4.\n",
      "  out_dtype)\n"
     ]
    },
    {
     "name": "stdout",
     "output_type": "stream",
     "text": [
      "82\n"
     ]
    },
    {
     "name": "stderr",
     "output_type": "stream",
     "text": [
      "/data/estorrs/miniconda3/envs/imaging_analysis/lib/python3.7/site-packages/skimage/filters/rank/generic.py:264: UserWarning: Bad rank filter performance is expected due to a large number of bins (57097), equivalent to an approximate bitdepth of 15.8.\n",
      "  out_dtype)\n"
     ]
    },
    {
     "name": "stdout",
     "output_type": "stream",
     "text": [
      "83\n",
      "84\n"
     ]
    },
    {
     "name": "stderr",
     "output_type": "stream",
     "text": [
      "/data/estorrs/miniconda3/envs/imaging_analysis/lib/python3.7/site-packages/skimage/filters/rank/generic.py:264: UserWarning: Bad rank filter performance is expected due to a large number of bins (56440), equivalent to an approximate bitdepth of 15.8.\n",
      "  out_dtype)\n"
     ]
    },
    {
     "name": "stdout",
     "output_type": "stream",
     "text": [
      "85\n",
      "86\n"
     ]
    },
    {
     "name": "stderr",
     "output_type": "stream",
     "text": [
      "/data/estorrs/miniconda3/envs/imaging_analysis/lib/python3.7/site-packages/skimage/filters/rank/generic.py:264: UserWarning: Bad rank filter performance is expected due to a large number of bins (54725), equivalent to an approximate bitdepth of 15.7.\n",
      "  out_dtype)\n"
     ]
    },
    {
     "name": "stdout",
     "output_type": "stream",
     "text": [
      "87\n"
     ]
    },
    {
     "name": "stderr",
     "output_type": "stream",
     "text": [
      "/data/estorrs/miniconda3/envs/imaging_analysis/lib/python3.7/site-packages/skimage/filters/rank/generic.py:264: UserWarning: Bad rank filter performance is expected due to a large number of bins (45480), equivalent to an approximate bitdepth of 15.5.\n",
      "  out_dtype)\n"
     ]
    },
    {
     "name": "stdout",
     "output_type": "stream",
     "text": [
      "88\n"
     ]
    },
    {
     "name": "stderr",
     "output_type": "stream",
     "text": [
      "/data/estorrs/miniconda3/envs/imaging_analysis/lib/python3.7/site-packages/skimage/filters/rank/generic.py:264: UserWarning: Bad rank filter performance is expected due to a large number of bins (64886), equivalent to an approximate bitdepth of 16.0.\n",
      "  out_dtype)\n"
     ]
    },
    {
     "name": "stdout",
     "output_type": "stream",
     "text": [
      "89\n"
     ]
    },
    {
     "name": "stderr",
     "output_type": "stream",
     "text": [
      "/data/estorrs/miniconda3/envs/imaging_analysis/lib/python3.7/site-packages/skimage/filters/rank/generic.py:264: UserWarning: Bad rank filter performance is expected due to a large number of bins (9588), equivalent to an approximate bitdepth of 13.2.\n",
      "  out_dtype)\n"
     ]
    },
    {
     "name": "stdout",
     "output_type": "stream",
     "text": [
      "90\n"
     ]
    },
    {
     "name": "stderr",
     "output_type": "stream",
     "text": [
      "/data/estorrs/miniconda3/envs/imaging_analysis/lib/python3.7/site-packages/skimage/filters/rank/generic.py:264: UserWarning: Bad rank filter performance is expected due to a large number of bins (52262), equivalent to an approximate bitdepth of 15.7.\n",
      "  out_dtype)\n"
     ]
    },
    {
     "name": "stdout",
     "output_type": "stream",
     "text": [
      "91\n"
     ]
    },
    {
     "name": "stderr",
     "output_type": "stream",
     "text": [
      "/data/estorrs/miniconda3/envs/imaging_analysis/lib/python3.7/site-packages/skimage/filters/rank/generic.py:264: UserWarning: Bad rank filter performance is expected due to a large number of bins (51513), equivalent to an approximate bitdepth of 15.7.\n",
      "  out_dtype)\n"
     ]
    },
    {
     "name": "stdout",
     "output_type": "stream",
     "text": [
      "92\n"
     ]
    },
    {
     "name": "stderr",
     "output_type": "stream",
     "text": [
      "/data/estorrs/miniconda3/envs/imaging_analysis/lib/python3.7/site-packages/skimage/filters/rank/generic.py:264: UserWarning: Bad rank filter performance is expected due to a large number of bins (5062), equivalent to an approximate bitdepth of 12.3.\n",
      "  out_dtype)\n"
     ]
    },
    {
     "name": "stdout",
     "output_type": "stream",
     "text": [
      "93\n",
      "94\n",
      "95\n"
     ]
    },
    {
     "name": "stderr",
     "output_type": "stream",
     "text": [
      "/data/estorrs/miniconda3/envs/imaging_analysis/lib/python3.7/site-packages/skimage/filters/rank/generic.py:264: UserWarning: Bad rank filter performance is expected due to a large number of bins (55146), equivalent to an approximate bitdepth of 15.8.\n",
      "  out_dtype)\n"
     ]
    },
    {
     "name": "stdout",
     "output_type": "stream",
     "text": [
      "96\n"
     ]
    },
    {
     "name": "stderr",
     "output_type": "stream",
     "text": [
      "/data/estorrs/miniconda3/envs/imaging_analysis/lib/python3.7/site-packages/skimage/filters/rank/generic.py:264: UserWarning: Bad rank filter performance is expected due to a large number of bins (52405), equivalent to an approximate bitdepth of 15.7.\n",
      "  out_dtype)\n"
     ]
    },
    {
     "name": "stdout",
     "output_type": "stream",
     "text": [
      "97\n"
     ]
    },
    {
     "name": "stderr",
     "output_type": "stream",
     "text": [
      "/data/estorrs/miniconda3/envs/imaging_analysis/lib/python3.7/site-packages/skimage/filters/rank/generic.py:264: UserWarning: Bad rank filter performance is expected due to a large number of bins (46387), equivalent to an approximate bitdepth of 15.5.\n",
      "  out_dtype)\n"
     ]
    },
    {
     "name": "stdout",
     "output_type": "stream",
     "text": [
      "98\n"
     ]
    },
    {
     "name": "stderr",
     "output_type": "stream",
     "text": [
      "/data/estorrs/miniconda3/envs/imaging_analysis/lib/python3.7/site-packages/skimage/filters/rank/generic.py:264: UserWarning: Bad rank filter performance is expected due to a large number of bins (11692), equivalent to an approximate bitdepth of 13.5.\n",
      "  out_dtype)\n"
     ]
    },
    {
     "name": "stdout",
     "output_type": "stream",
     "text": [
      "99\n"
     ]
    },
    {
     "name": "stderr",
     "output_type": "stream",
     "text": [
      "/data/estorrs/miniconda3/envs/imaging_analysis/lib/python3.7/site-packages/skimage/filters/rank/generic.py:264: UserWarning: Bad rank filter performance is expected due to a large number of bins (49665), equivalent to an approximate bitdepth of 15.6.\n",
      "  out_dtype)\n"
     ]
    },
    {
     "name": "stdout",
     "output_type": "stream",
     "text": [
      "100\n"
     ]
    },
    {
     "name": "stderr",
     "output_type": "stream",
     "text": [
      "/data/estorrs/miniconda3/envs/imaging_analysis/lib/python3.7/site-packages/skimage/filters/rank/generic.py:264: UserWarning: Bad rank filter performance is expected due to a large number of bins (5603), equivalent to an approximate bitdepth of 12.5.\n",
      "  out_dtype)\n"
     ]
    },
    {
     "name": "stdout",
     "output_type": "stream",
     "text": [
      "101\n"
     ]
    },
    {
     "name": "stderr",
     "output_type": "stream",
     "text": [
      "/data/estorrs/miniconda3/envs/imaging_analysis/lib/python3.7/site-packages/skimage/filters/rank/generic.py:264: UserWarning: Bad rank filter performance is expected due to a large number of bins (23241), equivalent to an approximate bitdepth of 14.5.\n",
      "  out_dtype)\n"
     ]
    },
    {
     "name": "stdout",
     "output_type": "stream",
     "text": [
      "102\n"
     ]
    },
    {
     "name": "stderr",
     "output_type": "stream",
     "text": [
      "/data/estorrs/miniconda3/envs/imaging_analysis/lib/python3.7/site-packages/skimage/filters/rank/generic.py:264: UserWarning: Bad rank filter performance is expected due to a large number of bins (65138), equivalent to an approximate bitdepth of 16.0.\n",
      "  out_dtype)\n"
     ]
    },
    {
     "name": "stdout",
     "output_type": "stream",
     "text": [
      "103\n"
     ]
    },
    {
     "name": "stderr",
     "output_type": "stream",
     "text": [
      "/data/estorrs/miniconda3/envs/imaging_analysis/lib/python3.7/site-packages/skimage/filters/rank/generic.py:264: UserWarning: Bad rank filter performance is expected due to a large number of bins (36730), equivalent to an approximate bitdepth of 15.2.\n",
      "  out_dtype)\n"
     ]
    },
    {
     "name": "stdout",
     "output_type": "stream",
     "text": [
      "104\n"
     ]
    },
    {
     "name": "stderr",
     "output_type": "stream",
     "text": [
      "/data/estorrs/miniconda3/envs/imaging_analysis/lib/python3.7/site-packages/skimage/filters/rank/generic.py:264: UserWarning: Bad rank filter performance is expected due to a large number of bins (39495), equivalent to an approximate bitdepth of 15.3.\n",
      "  out_dtype)\n"
     ]
    },
    {
     "name": "stdout",
     "output_type": "stream",
     "text": [
      "105\n"
     ]
    },
    {
     "name": "stderr",
     "output_type": "stream",
     "text": [
      "/data/estorrs/miniconda3/envs/imaging_analysis/lib/python3.7/site-packages/skimage/filters/rank/generic.py:264: UserWarning: Bad rank filter performance is expected due to a large number of bins (14157), equivalent to an approximate bitdepth of 13.8.\n",
      "  out_dtype)\n"
     ]
    },
    {
     "name": "stdout",
     "output_type": "stream",
     "text": [
      "106\n"
     ]
    },
    {
     "name": "stderr",
     "output_type": "stream",
     "text": [
      "/data/estorrs/miniconda3/envs/imaging_analysis/lib/python3.7/site-packages/skimage/filters/rank/generic.py:264: UserWarning: Bad rank filter performance is expected due to a large number of bins (5759), equivalent to an approximate bitdepth of 12.5.\n",
      "  out_dtype)\n"
     ]
    },
    {
     "name": "stdout",
     "output_type": "stream",
     "text": [
      "107\n"
     ]
    },
    {
     "name": "stderr",
     "output_type": "stream",
     "text": [
      "/data/estorrs/miniconda3/envs/imaging_analysis/lib/python3.7/site-packages/skimage/filters/rank/generic.py:264: UserWarning: Bad rank filter performance is expected due to a large number of bins (19533), equivalent to an approximate bitdepth of 14.3.\n",
      "  out_dtype)\n"
     ]
    },
    {
     "name": "stdout",
     "output_type": "stream",
     "text": [
      "108\n"
     ]
    },
    {
     "name": "stderr",
     "output_type": "stream",
     "text": [
      "/data/estorrs/miniconda3/envs/imaging_analysis/lib/python3.7/site-packages/skimage/filters/rank/generic.py:264: UserWarning: Bad rank filter performance is expected due to a large number of bins (16707), equivalent to an approximate bitdepth of 14.0.\n",
      "  out_dtype)\n"
     ]
    },
    {
     "name": "stdout",
     "output_type": "stream",
     "text": [
      "109\n"
     ]
    },
    {
     "name": "stderr",
     "output_type": "stream",
     "text": [
      "/data/estorrs/miniconda3/envs/imaging_analysis/lib/python3.7/site-packages/skimage/filters/rank/generic.py:264: UserWarning: Bad rank filter performance is expected due to a large number of bins (12717), equivalent to an approximate bitdepth of 13.6.\n",
      "  out_dtype)\n"
     ]
    },
    {
     "name": "stdout",
     "output_type": "stream",
     "text": [
      "110\n"
     ]
    },
    {
     "name": "stderr",
     "output_type": "stream",
     "text": [
      "/data/estorrs/miniconda3/envs/imaging_analysis/lib/python3.7/site-packages/skimage/filters/rank/generic.py:264: UserWarning: Bad rank filter performance is expected due to a large number of bins (24305), equivalent to an approximate bitdepth of 14.6.\n",
      "  out_dtype)\n"
     ]
    },
    {
     "name": "stdout",
     "output_type": "stream",
     "text": [
      "111\n"
     ]
    },
    {
     "name": "stderr",
     "output_type": "stream",
     "text": [
      "/data/estorrs/miniconda3/envs/imaging_analysis/lib/python3.7/site-packages/skimage/filters/rank/generic.py:264: UserWarning: Bad rank filter performance is expected due to a large number of bins (57649), equivalent to an approximate bitdepth of 15.8.\n",
      "  out_dtype)\n"
     ]
    },
    {
     "name": "stdout",
     "output_type": "stream",
     "text": [
      "112\n"
     ]
    },
    {
     "name": "stderr",
     "output_type": "stream",
     "text": [
      "/data/estorrs/miniconda3/envs/imaging_analysis/lib/python3.7/site-packages/skimage/filters/rank/generic.py:264: UserWarning: Bad rank filter performance is expected due to a large number of bins (49739), equivalent to an approximate bitdepth of 15.6.\n",
      "  out_dtype)\n"
     ]
    },
    {
     "name": "stdout",
     "output_type": "stream",
     "text": [
      "113\n"
     ]
    },
    {
     "name": "stderr",
     "output_type": "stream",
     "text": [
      "/data/estorrs/miniconda3/envs/imaging_analysis/lib/python3.7/site-packages/skimage/filters/rank/generic.py:264: UserWarning: Bad rank filter performance is expected due to a large number of bins (54656), equivalent to an approximate bitdepth of 15.7.\n",
      "  out_dtype)\n"
     ]
    },
    {
     "name": "stdout",
     "output_type": "stream",
     "text": [
      "114\n"
     ]
    },
    {
     "name": "stderr",
     "output_type": "stream",
     "text": [
      "/data/estorrs/miniconda3/envs/imaging_analysis/lib/python3.7/site-packages/skimage/filters/rank/generic.py:264: UserWarning: Bad rank filter performance is expected due to a large number of bins (39392), equivalent to an approximate bitdepth of 15.3.\n",
      "  out_dtype)\n"
     ]
    },
    {
     "name": "stdout",
     "output_type": "stream",
     "text": [
      "115\n"
     ]
    },
    {
     "name": "stderr",
     "output_type": "stream",
     "text": [
      "/data/estorrs/miniconda3/envs/imaging_analysis/lib/python3.7/site-packages/skimage/filters/rank/generic.py:264: UserWarning: Bad rank filter performance is expected due to a large number of bins (22027), equivalent to an approximate bitdepth of 14.4.\n",
      "  out_dtype)\n"
     ]
    },
    {
     "name": "stdout",
     "output_type": "stream",
     "text": [
      "116\n"
     ]
    },
    {
     "name": "stderr",
     "output_type": "stream",
     "text": [
      "/data/estorrs/miniconda3/envs/imaging_analysis/lib/python3.7/site-packages/skimage/filters/rank/generic.py:264: UserWarning: Bad rank filter performance is expected due to a large number of bins (15702), equivalent to an approximate bitdepth of 13.9.\n",
      "  out_dtype)\n"
     ]
    },
    {
     "name": "stdout",
     "output_type": "stream",
     "text": [
      "117\n"
     ]
    },
    {
     "name": "stderr",
     "output_type": "stream",
     "text": [
      "/data/estorrs/miniconda3/envs/imaging_analysis/lib/python3.7/site-packages/skimage/filters/rank/generic.py:264: UserWarning: Bad rank filter performance is expected due to a large number of bins (51704), equivalent to an approximate bitdepth of 15.7.\n",
      "  out_dtype)\n"
     ]
    },
    {
     "name": "stdout",
     "output_type": "stream",
     "text": [
      "118\n",
      "119\n"
     ]
    },
    {
     "name": "stderr",
     "output_type": "stream",
     "text": [
      "/data/estorrs/miniconda3/envs/imaging_analysis/lib/python3.7/site-packages/skimage/filters/rank/generic.py:264: UserWarning: Bad rank filter performance is expected due to a large number of bins (32551), equivalent to an approximate bitdepth of 15.0.\n",
      "  out_dtype)\n"
     ]
    },
    {
     "name": "stdout",
     "output_type": "stream",
     "text": [
      "120\n"
     ]
    },
    {
     "name": "stderr",
     "output_type": "stream",
     "text": [
      "/data/estorrs/miniconda3/envs/imaging_analysis/lib/python3.7/site-packages/skimage/filters/rank/generic.py:264: UserWarning: Bad rank filter performance is expected due to a large number of bins (46381), equivalent to an approximate bitdepth of 15.5.\n",
      "  out_dtype)\n"
     ]
    },
    {
     "name": "stdout",
     "output_type": "stream",
     "text": [
      "121\n"
     ]
    },
    {
     "name": "stderr",
     "output_type": "stream",
     "text": [
      "/data/estorrs/miniconda3/envs/imaging_analysis/lib/python3.7/site-packages/skimage/filters/rank/generic.py:264: UserWarning: Bad rank filter performance is expected due to a large number of bins (29614), equivalent to an approximate bitdepth of 14.9.\n",
      "  out_dtype)\n"
     ]
    },
    {
     "name": "stdout",
     "output_type": "stream",
     "text": [
      "122\n"
     ]
    },
    {
     "name": "stderr",
     "output_type": "stream",
     "text": [
      "/data/estorrs/miniconda3/envs/imaging_analysis/lib/python3.7/site-packages/skimage/filters/rank/generic.py:264: UserWarning: Bad rank filter performance is expected due to a large number of bins (6762), equivalent to an approximate bitdepth of 12.7.\n",
      "  out_dtype)\n"
     ]
    },
    {
     "name": "stdout",
     "output_type": "stream",
     "text": [
      "123\n"
     ]
    },
    {
     "name": "stderr",
     "output_type": "stream",
     "text": [
      "/data/estorrs/miniconda3/envs/imaging_analysis/lib/python3.7/site-packages/skimage/filters/rank/generic.py:264: UserWarning: Bad rank filter performance is expected due to a large number of bins (64341), equivalent to an approximate bitdepth of 16.0.\n",
      "  out_dtype)\n"
     ]
    },
    {
     "name": "stdout",
     "output_type": "stream",
     "text": [
      "124\n"
     ]
    },
    {
     "name": "stderr",
     "output_type": "stream",
     "text": [
      "/data/estorrs/miniconda3/envs/imaging_analysis/lib/python3.7/site-packages/skimage/filters/rank/generic.py:264: UserWarning: Bad rank filter performance is expected due to a large number of bins (22639), equivalent to an approximate bitdepth of 14.5.\n",
      "  out_dtype)\n"
     ]
    },
    {
     "name": "stdout",
     "output_type": "stream",
     "text": [
      "125\n"
     ]
    },
    {
     "name": "stderr",
     "output_type": "stream",
     "text": [
      "/data/estorrs/miniconda3/envs/imaging_analysis/lib/python3.7/site-packages/skimage/filters/rank/generic.py:264: UserWarning: Bad rank filter performance is expected due to a large number of bins (39117), equivalent to an approximate bitdepth of 15.3.\n",
      "  out_dtype)\n"
     ]
    },
    {
     "name": "stdout",
     "output_type": "stream",
     "text": [
      "126\n"
     ]
    },
    {
     "name": "stderr",
     "output_type": "stream",
     "text": [
      "/data/estorrs/miniconda3/envs/imaging_analysis/lib/python3.7/site-packages/skimage/filters/rank/generic.py:264: UserWarning: Bad rank filter performance is expected due to a large number of bins (59596), equivalent to an approximate bitdepth of 15.9.\n",
      "  out_dtype)\n"
     ]
    },
    {
     "name": "stdout",
     "output_type": "stream",
     "text": [
      "127\n"
     ]
    },
    {
     "name": "stderr",
     "output_type": "stream",
     "text": [
      "/data/estorrs/miniconda3/envs/imaging_analysis/lib/python3.7/site-packages/skimage/filters/rank/generic.py:264: UserWarning: Bad rank filter performance is expected due to a large number of bins (51883), equivalent to an approximate bitdepth of 15.7.\n",
      "  out_dtype)\n"
     ]
    },
    {
     "name": "stdout",
     "output_type": "stream",
     "text": [
      "128\n"
     ]
    },
    {
     "name": "stderr",
     "output_type": "stream",
     "text": [
      "/data/estorrs/miniconda3/envs/imaging_analysis/lib/python3.7/site-packages/skimage/filters/rank/generic.py:264: UserWarning: Bad rank filter performance is expected due to a large number of bins (13550), equivalent to an approximate bitdepth of 13.7.\n",
      "  out_dtype)\n"
     ]
    },
    {
     "name": "stdout",
     "output_type": "stream",
     "text": [
      "129\n"
     ]
    },
    {
     "name": "stderr",
     "output_type": "stream",
     "text": [
      "/data/estorrs/miniconda3/envs/imaging_analysis/lib/python3.7/site-packages/skimage/filters/rank/generic.py:264: UserWarning: Bad rank filter performance is expected due to a large number of bins (4821), equivalent to an approximate bitdepth of 12.2.\n",
      "  out_dtype)\n"
     ]
    },
    {
     "name": "stdout",
     "output_type": "stream",
     "text": [
      "130\n"
     ]
    },
    {
     "name": "stderr",
     "output_type": "stream",
     "text": [
      "/data/estorrs/miniconda3/envs/imaging_analysis/lib/python3.7/site-packages/skimage/filters/rank/generic.py:264: UserWarning: Bad rank filter performance is expected due to a large number of bins (56871), equivalent to an approximate bitdepth of 15.8.\n",
      "  out_dtype)\n"
     ]
    },
    {
     "name": "stdout",
     "output_type": "stream",
     "text": [
      "131\n"
     ]
    },
    {
     "name": "stderr",
     "output_type": "stream",
     "text": [
      "/data/estorrs/miniconda3/envs/imaging_analysis/lib/python3.7/site-packages/skimage/filters/rank/generic.py:264: UserWarning: Bad rank filter performance is expected due to a large number of bins (57053), equivalent to an approximate bitdepth of 15.8.\n",
      "  out_dtype)\n"
     ]
    },
    {
     "name": "stdout",
     "output_type": "stream",
     "text": [
      "132\n",
      "133\n"
     ]
    },
    {
     "name": "stderr",
     "output_type": "stream",
     "text": [
      "/data/estorrs/miniconda3/envs/imaging_analysis/lib/python3.7/site-packages/skimage/filters/rank/generic.py:264: UserWarning: Bad rank filter performance is expected due to a large number of bins (18997), equivalent to an approximate bitdepth of 14.2.\n",
      "  out_dtype)\n"
     ]
    },
    {
     "name": "stdout",
     "output_type": "stream",
     "text": [
      "134\n"
     ]
    },
    {
     "name": "stderr",
     "output_type": "stream",
     "text": [
      "/data/estorrs/miniconda3/envs/imaging_analysis/lib/python3.7/site-packages/skimage/filters/rank/generic.py:264: UserWarning: Bad rank filter performance is expected due to a large number of bins (57220), equivalent to an approximate bitdepth of 15.8.\n",
      "  out_dtype)\n"
     ]
    },
    {
     "name": "stdout",
     "output_type": "stream",
     "text": [
      "135\n"
     ]
    },
    {
     "name": "stderr",
     "output_type": "stream",
     "text": [
      "/data/estorrs/miniconda3/envs/imaging_analysis/lib/python3.7/site-packages/skimage/filters/rank/generic.py:264: UserWarning: Bad rank filter performance is expected due to a large number of bins (57819), equivalent to an approximate bitdepth of 15.8.\n",
      "  out_dtype)\n"
     ]
    },
    {
     "name": "stdout",
     "output_type": "stream",
     "text": [
      "136\n"
     ]
    },
    {
     "name": "stderr",
     "output_type": "stream",
     "text": [
      "/data/estorrs/miniconda3/envs/imaging_analysis/lib/python3.7/site-packages/skimage/filters/rank/generic.py:264: UserWarning: Bad rank filter performance is expected due to a large number of bins (49890), equivalent to an approximate bitdepth of 15.6.\n",
      "  out_dtype)\n"
     ]
    },
    {
     "name": "stdout",
     "output_type": "stream",
     "text": [
      "137\n"
     ]
    },
    {
     "name": "stderr",
     "output_type": "stream",
     "text": [
      "/data/estorrs/miniconda3/envs/imaging_analysis/lib/python3.7/site-packages/skimage/filters/rank/generic.py:264: UserWarning: Bad rank filter performance is expected due to a large number of bins (4096), equivalent to an approximate bitdepth of 12.0.\n",
      "  out_dtype)\n"
     ]
    },
    {
     "name": "stdout",
     "output_type": "stream",
     "text": [
      "138\n"
     ]
    },
    {
     "name": "stderr",
     "output_type": "stream",
     "text": [
      "/data/estorrs/miniconda3/envs/imaging_analysis/lib/python3.7/site-packages/skimage/filters/rank/generic.py:264: UserWarning: Bad rank filter performance is expected due to a large number of bins (22611), equivalent to an approximate bitdepth of 14.5.\n",
      "  out_dtype)\n"
     ]
    },
    {
     "name": "stdout",
     "output_type": "stream",
     "text": [
      "139\n"
     ]
    },
    {
     "name": "stderr",
     "output_type": "stream",
     "text": [
      "/data/estorrs/miniconda3/envs/imaging_analysis/lib/python3.7/site-packages/skimage/filters/rank/generic.py:264: UserWarning: Bad rank filter performance is expected due to a large number of bins (50188), equivalent to an approximate bitdepth of 15.6.\n",
      "  out_dtype)\n"
     ]
    },
    {
     "name": "stdout",
     "output_type": "stream",
     "text": [
      "140\n"
     ]
    },
    {
     "name": "stderr",
     "output_type": "stream",
     "text": [
      "/data/estorrs/miniconda3/envs/imaging_analysis/lib/python3.7/site-packages/skimage/filters/rank/generic.py:264: UserWarning: Bad rank filter performance is expected due to a large number of bins (18729), equivalent to an approximate bitdepth of 14.2.\n",
      "  out_dtype)\n"
     ]
    },
    {
     "name": "stdout",
     "output_type": "stream",
     "text": [
      "141\n"
     ]
    },
    {
     "name": "stderr",
     "output_type": "stream",
     "text": [
      "/data/estorrs/miniconda3/envs/imaging_analysis/lib/python3.7/site-packages/skimage/filters/rank/generic.py:264: UserWarning: Bad rank filter performance is expected due to a large number of bins (29509), equivalent to an approximate bitdepth of 14.8.\n",
      "  out_dtype)\n"
     ]
    },
    {
     "name": "stdout",
     "output_type": "stream",
     "text": [
      "142\n"
     ]
    },
    {
     "name": "stderr",
     "output_type": "stream",
     "text": [
      "/data/estorrs/miniconda3/envs/imaging_analysis/lib/python3.7/site-packages/skimage/filters/rank/generic.py:264: UserWarning: Bad rank filter performance is expected due to a large number of bins (4346), equivalent to an approximate bitdepth of 12.1.\n",
      "  out_dtype)\n"
     ]
    },
    {
     "name": "stdout",
     "output_type": "stream",
     "text": [
      "143\n"
     ]
    },
    {
     "name": "stderr",
     "output_type": "stream",
     "text": [
      "/data/estorrs/miniconda3/envs/imaging_analysis/lib/python3.7/site-packages/skimage/filters/rank/generic.py:264: UserWarning: Bad rank filter performance is expected due to a large number of bins (26627), equivalent to an approximate bitdepth of 14.7.\n",
      "  out_dtype)\n"
     ]
    },
    {
     "name": "stdout",
     "output_type": "stream",
     "text": [
      "144\n"
     ]
    },
    {
     "name": "stderr",
     "output_type": "stream",
     "text": [
      "/data/estorrs/miniconda3/envs/imaging_analysis/lib/python3.7/site-packages/skimage/filters/rank/generic.py:264: UserWarning: Bad rank filter performance is expected due to a large number of bins (54626), equivalent to an approximate bitdepth of 15.7.\n",
      "  out_dtype)\n"
     ]
    },
    {
     "name": "stdout",
     "output_type": "stream",
     "text": [
      "145\n"
     ]
    },
    {
     "name": "stderr",
     "output_type": "stream",
     "text": [
      "/data/estorrs/miniconda3/envs/imaging_analysis/lib/python3.7/site-packages/skimage/filters/rank/generic.py:264: UserWarning: Bad rank filter performance is expected due to a large number of bins (8215), equivalent to an approximate bitdepth of 13.0.\n",
      "  out_dtype)\n"
     ]
    },
    {
     "name": "stdout",
     "output_type": "stream",
     "text": [
      "146\n"
     ]
    },
    {
     "name": "stderr",
     "output_type": "stream",
     "text": [
      "/data/estorrs/miniconda3/envs/imaging_analysis/lib/python3.7/site-packages/skimage/filters/rank/generic.py:264: UserWarning: Bad rank filter performance is expected due to a large number of bins (44053), equivalent to an approximate bitdepth of 15.4.\n",
      "  out_dtype)\n"
     ]
    },
    {
     "name": "stdout",
     "output_type": "stream",
     "text": [
      "147\n"
     ]
    },
    {
     "name": "stderr",
     "output_type": "stream",
     "text": [
      "/data/estorrs/miniconda3/envs/imaging_analysis/lib/python3.7/site-packages/skimage/filters/rank/generic.py:264: UserWarning: Bad rank filter performance is expected due to a large number of bins (53098), equivalent to an approximate bitdepth of 15.7.\n",
      "  out_dtype)\n"
     ]
    },
    {
     "name": "stdout",
     "output_type": "stream",
     "text": [
      "148\n"
     ]
    },
    {
     "name": "stderr",
     "output_type": "stream",
     "text": [
      "/data/estorrs/miniconda3/envs/imaging_analysis/lib/python3.7/site-packages/skimage/filters/rank/generic.py:264: UserWarning: Bad rank filter performance is expected due to a large number of bins (23609), equivalent to an approximate bitdepth of 14.5.\n",
      "  out_dtype)\n"
     ]
    },
    {
     "name": "stdout",
     "output_type": "stream",
     "text": [
      "149\n"
     ]
    },
    {
     "name": "stderr",
     "output_type": "stream",
     "text": [
      "/data/estorrs/miniconda3/envs/imaging_analysis/lib/python3.7/site-packages/skimage/filters/rank/generic.py:264: UserWarning: Bad rank filter performance is expected due to a large number of bins (64496), equivalent to an approximate bitdepth of 16.0.\n",
      "  out_dtype)\n"
     ]
    },
    {
     "name": "stdout",
     "output_type": "stream",
     "text": [
      "150\n",
      "151\n"
     ]
    },
    {
     "name": "stderr",
     "output_type": "stream",
     "text": [
      "/data/estorrs/miniconda3/envs/imaging_analysis/lib/python3.7/site-packages/skimage/filters/rank/generic.py:264: UserWarning: Bad rank filter performance is expected due to a large number of bins (20828), equivalent to an approximate bitdepth of 14.3.\n",
      "  out_dtype)\n"
     ]
    },
    {
     "name": "stdout",
     "output_type": "stream",
     "text": [
      "152\n"
     ]
    },
    {
     "name": "stderr",
     "output_type": "stream",
     "text": [
      "/data/estorrs/miniconda3/envs/imaging_analysis/lib/python3.7/site-packages/skimage/filters/rank/generic.py:264: UserWarning: Bad rank filter performance is expected due to a large number of bins (10195), equivalent to an approximate bitdepth of 13.3.\n",
      "  out_dtype)\n"
     ]
    },
    {
     "name": "stdout",
     "output_type": "stream",
     "text": [
      "153\n"
     ]
    },
    {
     "name": "stderr",
     "output_type": "stream",
     "text": [
      "/data/estorrs/miniconda3/envs/imaging_analysis/lib/python3.7/site-packages/skimage/filters/rank/generic.py:264: UserWarning: Bad rank filter performance is expected due to a large number of bins (21825), equivalent to an approximate bitdepth of 14.4.\n",
      "  out_dtype)\n"
     ]
    },
    {
     "name": "stdout",
     "output_type": "stream",
     "text": [
      "154\n"
     ]
    },
    {
     "name": "stderr",
     "output_type": "stream",
     "text": [
      "/data/estorrs/miniconda3/envs/imaging_analysis/lib/python3.7/site-packages/skimage/filters/rank/generic.py:264: UserWarning: Bad rank filter performance is expected due to a large number of bins (9508), equivalent to an approximate bitdepth of 13.2.\n",
      "  out_dtype)\n"
     ]
    },
    {
     "name": "stdout",
     "output_type": "stream",
     "text": [
      "155\n"
     ]
    },
    {
     "name": "stderr",
     "output_type": "stream",
     "text": [
      "/data/estorrs/miniconda3/envs/imaging_analysis/lib/python3.7/site-packages/skimage/filters/rank/generic.py:264: UserWarning: Bad rank filter performance is expected due to a large number of bins (14162), equivalent to an approximate bitdepth of 13.8.\n",
      "  out_dtype)\n"
     ]
    },
    {
     "name": "stdout",
     "output_type": "stream",
     "text": [
      "156\n",
      "157\n"
     ]
    },
    {
     "name": "stderr",
     "output_type": "stream",
     "text": [
      "/data/estorrs/miniconda3/envs/imaging_analysis/lib/python3.7/site-packages/skimage/filters/rank/generic.py:264: UserWarning: Bad rank filter performance is expected due to a large number of bins (36483), equivalent to an approximate bitdepth of 15.2.\n",
      "  out_dtype)\n"
     ]
    },
    {
     "name": "stdout",
     "output_type": "stream",
     "text": [
      "158\n"
     ]
    },
    {
     "name": "stderr",
     "output_type": "stream",
     "text": [
      "/data/estorrs/miniconda3/envs/imaging_analysis/lib/python3.7/site-packages/skimage/filters/rank/generic.py:264: UserWarning: Bad rank filter performance is expected due to a large number of bins (46549), equivalent to an approximate bitdepth of 15.5.\n",
      "  out_dtype)\n"
     ]
    },
    {
     "name": "stdout",
     "output_type": "stream",
     "text": [
      "159\n"
     ]
    },
    {
     "name": "stderr",
     "output_type": "stream",
     "text": [
      "/data/estorrs/miniconda3/envs/imaging_analysis/lib/python3.7/site-packages/skimage/filters/rank/generic.py:264: UserWarning: Bad rank filter performance is expected due to a large number of bins (58931), equivalent to an approximate bitdepth of 15.8.\n",
      "  out_dtype)\n"
     ]
    },
    {
     "name": "stdout",
     "output_type": "stream",
     "text": [
      "160\n"
     ]
    },
    {
     "name": "stderr",
     "output_type": "stream",
     "text": [
      "/data/estorrs/miniconda3/envs/imaging_analysis/lib/python3.7/site-packages/skimage/filters/rank/generic.py:264: UserWarning: Bad rank filter performance is expected due to a large number of bins (31110), equivalent to an approximate bitdepth of 14.9.\n",
      "  out_dtype)\n"
     ]
    },
    {
     "name": "stdout",
     "output_type": "stream",
     "text": [
      "161\n"
     ]
    },
    {
     "name": "stderr",
     "output_type": "stream",
     "text": [
      "/data/estorrs/miniconda3/envs/imaging_analysis/lib/python3.7/site-packages/skimage/filters/rank/generic.py:264: UserWarning: Bad rank filter performance is expected due to a large number of bins (19288), equivalent to an approximate bitdepth of 14.2.\n",
      "  out_dtype)\n"
     ]
    },
    {
     "name": "stdout",
     "output_type": "stream",
     "text": [
      "162\n"
     ]
    },
    {
     "name": "stderr",
     "output_type": "stream",
     "text": [
      "/data/estorrs/miniconda3/envs/imaging_analysis/lib/python3.7/site-packages/skimage/filters/rank/generic.py:264: UserWarning: Bad rank filter performance is expected due to a large number of bins (35430), equivalent to an approximate bitdepth of 15.1.\n",
      "  out_dtype)\n"
     ]
    },
    {
     "name": "stdout",
     "output_type": "stream",
     "text": [
      "163\n"
     ]
    },
    {
     "name": "stderr",
     "output_type": "stream",
     "text": [
      "/data/estorrs/miniconda3/envs/imaging_analysis/lib/python3.7/site-packages/skimage/filters/rank/generic.py:264: UserWarning: Bad rank filter performance is expected due to a large number of bins (8954), equivalent to an approximate bitdepth of 13.1.\n",
      "  out_dtype)\n"
     ]
    },
    {
     "name": "stdout",
     "output_type": "stream",
     "text": [
      "164\n"
     ]
    },
    {
     "name": "stderr",
     "output_type": "stream",
     "text": [
      "/data/estorrs/miniconda3/envs/imaging_analysis/lib/python3.7/site-packages/skimage/filters/rank/generic.py:264: UserWarning: Bad rank filter performance is expected due to a large number of bins (49465), equivalent to an approximate bitdepth of 15.6.\n",
      "  out_dtype)\n"
     ]
    },
    {
     "name": "stdout",
     "output_type": "stream",
     "text": [
      "165\n"
     ]
    },
    {
     "name": "stderr",
     "output_type": "stream",
     "text": [
      "/data/estorrs/miniconda3/envs/imaging_analysis/lib/python3.7/site-packages/skimage/filters/rank/generic.py:264: UserWarning: Bad rank filter performance is expected due to a large number of bins (5410), equivalent to an approximate bitdepth of 12.4.\n",
      "  out_dtype)\n"
     ]
    },
    {
     "name": "stdout",
     "output_type": "stream",
     "text": [
      "166\n"
     ]
    },
    {
     "name": "stderr",
     "output_type": "stream",
     "text": [
      "/data/estorrs/miniconda3/envs/imaging_analysis/lib/python3.7/site-packages/skimage/filters/rank/generic.py:264: UserWarning: Bad rank filter performance is expected due to a large number of bins (58638), equivalent to an approximate bitdepth of 15.8.\n",
      "  out_dtype)\n"
     ]
    },
    {
     "name": "stdout",
     "output_type": "stream",
     "text": [
      "167\n"
     ]
    },
    {
     "name": "stderr",
     "output_type": "stream",
     "text": [
      "/data/estorrs/miniconda3/envs/imaging_analysis/lib/python3.7/site-packages/skimage/filters/rank/generic.py:264: UserWarning: Bad rank filter performance is expected due to a large number of bins (50855), equivalent to an approximate bitdepth of 15.6.\n",
      "  out_dtype)\n"
     ]
    },
    {
     "name": "stdout",
     "output_type": "stream",
     "text": [
      "168\n"
     ]
    },
    {
     "name": "stderr",
     "output_type": "stream",
     "text": [
      "/data/estorrs/miniconda3/envs/imaging_analysis/lib/python3.7/site-packages/skimage/filters/rank/generic.py:264: UserWarning: Bad rank filter performance is expected due to a large number of bins (27734), equivalent to an approximate bitdepth of 14.8.\n",
      "  out_dtype)\n"
     ]
    },
    {
     "name": "stdout",
     "output_type": "stream",
     "text": [
      "169\n",
      "170\n"
     ]
    },
    {
     "name": "stderr",
     "output_type": "stream",
     "text": [
      "/data/estorrs/miniconda3/envs/imaging_analysis/lib/python3.7/site-packages/skimage/filters/rank/generic.py:264: UserWarning: Bad rank filter performance is expected due to a large number of bins (24165), equivalent to an approximate bitdepth of 14.6.\n",
      "  out_dtype)\n"
     ]
    },
    {
     "name": "stdout",
     "output_type": "stream",
     "text": [
      "171\n"
     ]
    },
    {
     "name": "stderr",
     "output_type": "stream",
     "text": [
      "/data/estorrs/miniconda3/envs/imaging_analysis/lib/python3.7/site-packages/skimage/filters/rank/generic.py:264: UserWarning: Bad rank filter performance is expected due to a large number of bins (53510), equivalent to an approximate bitdepth of 15.7.\n",
      "  out_dtype)\n"
     ]
    },
    {
     "name": "stdout",
     "output_type": "stream",
     "text": [
      "172\n"
     ]
    },
    {
     "name": "stderr",
     "output_type": "stream",
     "text": [
      "/data/estorrs/miniconda3/envs/imaging_analysis/lib/python3.7/site-packages/skimage/filters/rank/generic.py:264: UserWarning: Bad rank filter performance is expected due to a large number of bins (42096), equivalent to an approximate bitdepth of 15.4.\n",
      "  out_dtype)\n"
     ]
    },
    {
     "name": "stdout",
     "output_type": "stream",
     "text": [
      "173\n"
     ]
    },
    {
     "name": "stderr",
     "output_type": "stream",
     "text": [
      "/data/estorrs/miniconda3/envs/imaging_analysis/lib/python3.7/site-packages/skimage/filters/rank/generic.py:264: UserWarning: Bad rank filter performance is expected due to a large number of bins (7291), equivalent to an approximate bitdepth of 12.8.\n",
      "  out_dtype)\n"
     ]
    },
    {
     "name": "stdout",
     "output_type": "stream",
     "text": [
      "174\n"
     ]
    },
    {
     "name": "stderr",
     "output_type": "stream",
     "text": [
      "/data/estorrs/miniconda3/envs/imaging_analysis/lib/python3.7/site-packages/skimage/filters/rank/generic.py:264: UserWarning: Bad rank filter performance is expected due to a large number of bins (53549), equivalent to an approximate bitdepth of 15.7.\n",
      "  out_dtype)\n"
     ]
    },
    {
     "name": "stdout",
     "output_type": "stream",
     "text": [
      "175\n"
     ]
    },
    {
     "name": "stderr",
     "output_type": "stream",
     "text": [
      "/data/estorrs/miniconda3/envs/imaging_analysis/lib/python3.7/site-packages/skimage/filters/rank/generic.py:264: UserWarning: Bad rank filter performance is expected due to a large number of bins (6831), equivalent to an approximate bitdepth of 12.7.\n",
      "  out_dtype)\n"
     ]
    },
    {
     "name": "stdout",
     "output_type": "stream",
     "text": [
      "176\n"
     ]
    },
    {
     "name": "stderr",
     "output_type": "stream",
     "text": [
      "/data/estorrs/miniconda3/envs/imaging_analysis/lib/python3.7/site-packages/skimage/filters/rank/generic.py:264: UserWarning: Bad rank filter performance is expected due to a large number of bins (6068), equivalent to an approximate bitdepth of 12.6.\n",
      "  out_dtype)\n"
     ]
    },
    {
     "name": "stdout",
     "output_type": "stream",
     "text": [
      "177\n"
     ]
    },
    {
     "name": "stderr",
     "output_type": "stream",
     "text": [
      "/data/estorrs/miniconda3/envs/imaging_analysis/lib/python3.7/site-packages/skimage/filters/rank/generic.py:264: UserWarning: Bad rank filter performance is expected due to a large number of bins (27514), equivalent to an approximate bitdepth of 14.7.\n",
      "  out_dtype)\n"
     ]
    },
    {
     "name": "stdout",
     "output_type": "stream",
     "text": [
      "178\n"
     ]
    },
    {
     "name": "stderr",
     "output_type": "stream",
     "text": [
      "/data/estorrs/miniconda3/envs/imaging_analysis/lib/python3.7/site-packages/skimage/filters/rank/generic.py:264: UserWarning: Bad rank filter performance is expected due to a large number of bins (5679), equivalent to an approximate bitdepth of 12.5.\n",
      "  out_dtype)\n"
     ]
    },
    {
     "name": "stdout",
     "output_type": "stream",
     "text": [
      "179\n"
     ]
    },
    {
     "name": "stderr",
     "output_type": "stream",
     "text": [
      "/data/estorrs/miniconda3/envs/imaging_analysis/lib/python3.7/site-packages/skimage/filters/rank/generic.py:264: UserWarning: Bad rank filter performance is expected due to a large number of bins (24241), equivalent to an approximate bitdepth of 14.6.\n",
      "  out_dtype)\n"
     ]
    },
    {
     "name": "stdout",
     "output_type": "stream",
     "text": [
      "180\n"
     ]
    },
    {
     "name": "stderr",
     "output_type": "stream",
     "text": [
      "/data/estorrs/miniconda3/envs/imaging_analysis/lib/python3.7/site-packages/skimage/filters/rank/generic.py:264: UserWarning: Bad rank filter performance is expected due to a large number of bins (22552), equivalent to an approximate bitdepth of 14.5.\n",
      "  out_dtype)\n"
     ]
    },
    {
     "name": "stdout",
     "output_type": "stream",
     "text": [
      "181\n"
     ]
    },
    {
     "name": "stderr",
     "output_type": "stream",
     "text": [
      "/data/estorrs/miniconda3/envs/imaging_analysis/lib/python3.7/site-packages/skimage/filters/rank/generic.py:264: UserWarning: Bad rank filter performance is expected due to a large number of bins (4815), equivalent to an approximate bitdepth of 12.2.\n",
      "  out_dtype)\n"
     ]
    },
    {
     "name": "stdout",
     "output_type": "stream",
     "text": [
      "182\n"
     ]
    },
    {
     "name": "stderr",
     "output_type": "stream",
     "text": [
      "/data/estorrs/miniconda3/envs/imaging_analysis/lib/python3.7/site-packages/skimage/filters/rank/generic.py:264: UserWarning: Bad rank filter performance is expected due to a large number of bins (31875), equivalent to an approximate bitdepth of 15.0.\n",
      "  out_dtype)\n"
     ]
    },
    {
     "name": "stdout",
     "output_type": "stream",
     "text": [
      "183\n"
     ]
    },
    {
     "name": "stderr",
     "output_type": "stream",
     "text": [
      "/data/estorrs/miniconda3/envs/imaging_analysis/lib/python3.7/site-packages/skimage/filters/rank/generic.py:264: UserWarning: Bad rank filter performance is expected due to a large number of bins (56207), equivalent to an approximate bitdepth of 15.8.\n",
      "  out_dtype)\n"
     ]
    },
    {
     "name": "stdout",
     "output_type": "stream",
     "text": [
      "184\n"
     ]
    },
    {
     "name": "stderr",
     "output_type": "stream",
     "text": [
      "/data/estorrs/miniconda3/envs/imaging_analysis/lib/python3.7/site-packages/skimage/filters/rank/generic.py:264: UserWarning: Bad rank filter performance is expected due to a large number of bins (52437), equivalent to an approximate bitdepth of 15.7.\n",
      "  out_dtype)\n"
     ]
    },
    {
     "name": "stdout",
     "output_type": "stream",
     "text": [
      "185\n"
     ]
    },
    {
     "name": "stderr",
     "output_type": "stream",
     "text": [
      "/data/estorrs/miniconda3/envs/imaging_analysis/lib/python3.7/site-packages/skimage/filters/rank/generic.py:264: UserWarning: Bad rank filter performance is expected due to a large number of bins (21920), equivalent to an approximate bitdepth of 14.4.\n",
      "  out_dtype)\n"
     ]
    },
    {
     "name": "stdout",
     "output_type": "stream",
     "text": [
      "186\n"
     ]
    },
    {
     "name": "stderr",
     "output_type": "stream",
     "text": [
      "/data/estorrs/miniconda3/envs/imaging_analysis/lib/python3.7/site-packages/skimage/filters/rank/generic.py:264: UserWarning: Bad rank filter performance is expected due to a large number of bins (54587), equivalent to an approximate bitdepth of 15.7.\n",
      "  out_dtype)\n"
     ]
    },
    {
     "name": "stdout",
     "output_type": "stream",
     "text": [
      "187\n"
     ]
    },
    {
     "name": "stderr",
     "output_type": "stream",
     "text": [
      "/data/estorrs/miniconda3/envs/imaging_analysis/lib/python3.7/site-packages/skimage/filters/rank/generic.py:264: UserWarning: Bad rank filter performance is expected due to a large number of bins (20007), equivalent to an approximate bitdepth of 14.3.\n",
      "  out_dtype)\n"
     ]
    },
    {
     "name": "stdout",
     "output_type": "stream",
     "text": [
      "188\n"
     ]
    },
    {
     "name": "stderr",
     "output_type": "stream",
     "text": [
      "/data/estorrs/miniconda3/envs/imaging_analysis/lib/python3.7/site-packages/skimage/filters/rank/generic.py:264: UserWarning: Bad rank filter performance is expected due to a large number of bins (9192), equivalent to an approximate bitdepth of 13.2.\n",
      "  out_dtype)\n"
     ]
    },
    {
     "name": "stdout",
     "output_type": "stream",
     "text": [
      "189\n"
     ]
    },
    {
     "name": "stderr",
     "output_type": "stream",
     "text": [
      "/data/estorrs/miniconda3/envs/imaging_analysis/lib/python3.7/site-packages/skimage/filters/rank/generic.py:264: UserWarning: Bad rank filter performance is expected due to a large number of bins (51747), equivalent to an approximate bitdepth of 15.7.\n",
      "  out_dtype)\n"
     ]
    },
    {
     "name": "stdout",
     "output_type": "stream",
     "text": [
      "190\n"
     ]
    },
    {
     "name": "stderr",
     "output_type": "stream",
     "text": [
      "/data/estorrs/miniconda3/envs/imaging_analysis/lib/python3.7/site-packages/skimage/filters/rank/generic.py:264: UserWarning: Bad rank filter performance is expected due to a large number of bins (51668), equivalent to an approximate bitdepth of 15.7.\n",
      "  out_dtype)\n"
     ]
    },
    {
     "name": "stdout",
     "output_type": "stream",
     "text": [
      "191\n"
     ]
    },
    {
     "name": "stderr",
     "output_type": "stream",
     "text": [
      "/data/estorrs/miniconda3/envs/imaging_analysis/lib/python3.7/site-packages/skimage/filters/rank/generic.py:264: UserWarning: Bad rank filter performance is expected due to a large number of bins (53123), equivalent to an approximate bitdepth of 15.7.\n",
      "  out_dtype)\n"
     ]
    },
    {
     "name": "stdout",
     "output_type": "stream",
     "text": [
      "192\n"
     ]
    },
    {
     "name": "stderr",
     "output_type": "stream",
     "text": [
      "/data/estorrs/miniconda3/envs/imaging_analysis/lib/python3.7/site-packages/skimage/filters/rank/generic.py:264: UserWarning: Bad rank filter performance is expected due to a large number of bins (4261), equivalent to an approximate bitdepth of 12.1.\n",
      "  out_dtype)\n"
     ]
    },
    {
     "name": "stdout",
     "output_type": "stream",
     "text": [
      "193\n"
     ]
    },
    {
     "name": "stderr",
     "output_type": "stream",
     "text": [
      "/data/estorrs/miniconda3/envs/imaging_analysis/lib/python3.7/site-packages/skimage/filters/rank/generic.py:264: UserWarning: Bad rank filter performance is expected due to a large number of bins (19433), equivalent to an approximate bitdepth of 14.2.\n",
      "  out_dtype)\n"
     ]
    },
    {
     "name": "stdout",
     "output_type": "stream",
     "text": [
      "194\n",
      "195\n",
      "196\n"
     ]
    },
    {
     "name": "stderr",
     "output_type": "stream",
     "text": [
      "/data/estorrs/miniconda3/envs/imaging_analysis/lib/python3.7/site-packages/skimage/filters/rank/generic.py:264: UserWarning: Bad rank filter performance is expected due to a large number of bins (55583), equivalent to an approximate bitdepth of 15.8.\n",
      "  out_dtype)\n"
     ]
    },
    {
     "name": "stdout",
     "output_type": "stream",
     "text": [
      "197\n"
     ]
    },
    {
     "name": "stderr",
     "output_type": "stream",
     "text": [
      "/data/estorrs/miniconda3/envs/imaging_analysis/lib/python3.7/site-packages/skimage/filters/rank/generic.py:264: UserWarning: Bad rank filter performance is expected due to a large number of bins (49306), equivalent to an approximate bitdepth of 15.6.\n",
      "  out_dtype)\n"
     ]
    },
    {
     "name": "stdout",
     "output_type": "stream",
     "text": [
      "198\n"
     ]
    },
    {
     "name": "stderr",
     "output_type": "stream",
     "text": [
      "/data/estorrs/miniconda3/envs/imaging_analysis/lib/python3.7/site-packages/skimage/filters/rank/generic.py:264: UserWarning: Bad rank filter performance is expected due to a large number of bins (56996), equivalent to an approximate bitdepth of 15.8.\n",
      "  out_dtype)\n"
     ]
    },
    {
     "name": "stdout",
     "output_type": "stream",
     "text": [
      "199\n",
      "200\n"
     ]
    },
    {
     "name": "stderr",
     "output_type": "stream",
     "text": [
      "/data/estorrs/miniconda3/envs/imaging_analysis/lib/python3.7/site-packages/skimage/filters/rank/generic.py:264: UserWarning: Bad rank filter performance is expected due to a large number of bins (5557), equivalent to an approximate bitdepth of 12.4.\n",
      "  out_dtype)\n"
     ]
    },
    {
     "name": "stdout",
     "output_type": "stream",
     "text": [
      "201\n"
     ]
    },
    {
     "name": "stderr",
     "output_type": "stream",
     "text": [
      "/data/estorrs/miniconda3/envs/imaging_analysis/lib/python3.7/site-packages/skimage/filters/rank/generic.py:264: UserWarning: Bad rank filter performance is expected due to a large number of bins (30223), equivalent to an approximate bitdepth of 14.9.\n",
      "  out_dtype)\n"
     ]
    },
    {
     "name": "stdout",
     "output_type": "stream",
     "text": [
      "202\n",
      "203\n"
     ]
    },
    {
     "name": "stderr",
     "output_type": "stream",
     "text": [
      "/data/estorrs/miniconda3/envs/imaging_analysis/lib/python3.7/site-packages/skimage/filters/rank/generic.py:264: UserWarning: Bad rank filter performance is expected due to a large number of bins (4726), equivalent to an approximate bitdepth of 12.2.\n",
      "  out_dtype)\n"
     ]
    },
    {
     "name": "stdout",
     "output_type": "stream",
     "text": [
      "204\n"
     ]
    },
    {
     "name": "stderr",
     "output_type": "stream",
     "text": [
      "/data/estorrs/miniconda3/envs/imaging_analysis/lib/python3.7/site-packages/skimage/filters/rank/generic.py:264: UserWarning: Bad rank filter performance is expected due to a large number of bins (34469), equivalent to an approximate bitdepth of 15.1.\n",
      "  out_dtype)\n"
     ]
    },
    {
     "name": "stdout",
     "output_type": "stream",
     "text": [
      "205\n",
      "206\n"
     ]
    },
    {
     "name": "stderr",
     "output_type": "stream",
     "text": [
      "/data/estorrs/miniconda3/envs/imaging_analysis/lib/python3.7/site-packages/skimage/filters/rank/generic.py:264: UserWarning: Bad rank filter performance is expected due to a large number of bins (55020), equivalent to an approximate bitdepth of 15.7.\n",
      "  out_dtype)\n"
     ]
    },
    {
     "name": "stdout",
     "output_type": "stream",
     "text": [
      "207\n"
     ]
    },
    {
     "name": "stderr",
     "output_type": "stream",
     "text": [
      "/data/estorrs/miniconda3/envs/imaging_analysis/lib/python3.7/site-packages/skimage/filters/rank/generic.py:264: UserWarning: Bad rank filter performance is expected due to a large number of bins (5330), equivalent to an approximate bitdepth of 12.4.\n",
      "  out_dtype)\n"
     ]
    },
    {
     "name": "stdout",
     "output_type": "stream",
     "text": [
      "208\n"
     ]
    },
    {
     "name": "stderr",
     "output_type": "stream",
     "text": [
      "/data/estorrs/miniconda3/envs/imaging_analysis/lib/python3.7/site-packages/skimage/filters/rank/generic.py:264: UserWarning: Bad rank filter performance is expected due to a large number of bins (4183), equivalent to an approximate bitdepth of 12.0.\n",
      "  out_dtype)\n"
     ]
    },
    {
     "name": "stdout",
     "output_type": "stream",
     "text": [
      "209\n"
     ]
    },
    {
     "name": "stderr",
     "output_type": "stream",
     "text": [
      "/data/estorrs/miniconda3/envs/imaging_analysis/lib/python3.7/site-packages/skimage/filters/rank/generic.py:264: UserWarning: Bad rank filter performance is expected due to a large number of bins (4890), equivalent to an approximate bitdepth of 12.3.\n",
      "  out_dtype)\n"
     ]
    },
    {
     "name": "stdout",
     "output_type": "stream",
     "text": [
      "210\n"
     ]
    },
    {
     "name": "stderr",
     "output_type": "stream",
     "text": [
      "/data/estorrs/miniconda3/envs/imaging_analysis/lib/python3.7/site-packages/skimage/filters/rank/generic.py:264: UserWarning: Bad rank filter performance is expected due to a large number of bins (4551), equivalent to an approximate bitdepth of 12.2.\n",
      "  out_dtype)\n"
     ]
    },
    {
     "name": "stdout",
     "output_type": "stream",
     "text": [
      "211\n"
     ]
    },
    {
     "name": "stderr",
     "output_type": "stream",
     "text": [
      "/data/estorrs/miniconda3/envs/imaging_analysis/lib/python3.7/site-packages/skimage/filters/rank/generic.py:264: UserWarning: Bad rank filter performance is expected due to a large number of bins (23291), equivalent to an approximate bitdepth of 14.5.\n",
      "  out_dtype)\n"
     ]
    },
    {
     "name": "stdout",
     "output_type": "stream",
     "text": [
      "212\n"
     ]
    },
    {
     "name": "stderr",
     "output_type": "stream",
     "text": [
      "/data/estorrs/miniconda3/envs/imaging_analysis/lib/python3.7/site-packages/skimage/filters/rank/generic.py:264: UserWarning: Bad rank filter performance is expected due to a large number of bins (6299), equivalent to an approximate bitdepth of 12.6.\n",
      "  out_dtype)\n"
     ]
    },
    {
     "name": "stdout",
     "output_type": "stream",
     "text": [
      "213\n"
     ]
    },
    {
     "name": "stderr",
     "output_type": "stream",
     "text": [
      "/data/estorrs/miniconda3/envs/imaging_analysis/lib/python3.7/site-packages/skimage/filters/rank/generic.py:264: UserWarning: Bad rank filter performance is expected due to a large number of bins (15682), equivalent to an approximate bitdepth of 13.9.\n",
      "  out_dtype)\n"
     ]
    },
    {
     "name": "stdout",
     "output_type": "stream",
     "text": [
      "214\n"
     ]
    },
    {
     "name": "stderr",
     "output_type": "stream",
     "text": [
      "/data/estorrs/miniconda3/envs/imaging_analysis/lib/python3.7/site-packages/skimage/filters/rank/generic.py:264: UserWarning: Bad rank filter performance is expected due to a large number of bins (38065), equivalent to an approximate bitdepth of 15.2.\n",
      "  out_dtype)\n"
     ]
    },
    {
     "name": "stdout",
     "output_type": "stream",
     "text": [
      "215\n"
     ]
    },
    {
     "name": "stderr",
     "output_type": "stream",
     "text": [
      "/data/estorrs/miniconda3/envs/imaging_analysis/lib/python3.7/site-packages/skimage/filters/rank/generic.py:264: UserWarning: Bad rank filter performance is expected due to a large number of bins (59280), equivalent to an approximate bitdepth of 15.9.\n",
      "  out_dtype)\n"
     ]
    },
    {
     "name": "stdout",
     "output_type": "stream",
     "text": [
      "216\n",
      "217\n"
     ]
    },
    {
     "name": "stderr",
     "output_type": "stream",
     "text": [
      "/data/estorrs/miniconda3/envs/imaging_analysis/lib/python3.7/site-packages/skimage/filters/rank/generic.py:264: UserWarning: Bad rank filter performance is expected due to a large number of bins (4059), equivalent to an approximate bitdepth of 12.0.\n",
      "  out_dtype)\n"
     ]
    },
    {
     "name": "stdout",
     "output_type": "stream",
     "text": [
      "218\n"
     ]
    },
    {
     "name": "stderr",
     "output_type": "stream",
     "text": [
      "/data/estorrs/miniconda3/envs/imaging_analysis/lib/python3.7/site-packages/skimage/filters/rank/generic.py:264: UserWarning: Bad rank filter performance is expected due to a large number of bins (8625), equivalent to an approximate bitdepth of 13.1.\n",
      "  out_dtype)\n"
     ]
    },
    {
     "name": "stdout",
     "output_type": "stream",
     "text": [
      "219\n"
     ]
    },
    {
     "name": "stderr",
     "output_type": "stream",
     "text": [
      "/data/estorrs/miniconda3/envs/imaging_analysis/lib/python3.7/site-packages/skimage/filters/rank/generic.py:264: UserWarning: Bad rank filter performance is expected due to a large number of bins (17773), equivalent to an approximate bitdepth of 14.1.\n",
      "  out_dtype)\n"
     ]
    },
    {
     "name": "stdout",
     "output_type": "stream",
     "text": [
      "220\n"
     ]
    },
    {
     "name": "stderr",
     "output_type": "stream",
     "text": [
      "/data/estorrs/miniconda3/envs/imaging_analysis/lib/python3.7/site-packages/skimage/filters/rank/generic.py:264: UserWarning: Bad rank filter performance is expected due to a large number of bins (9265), equivalent to an approximate bitdepth of 13.2.\n",
      "  out_dtype)\n"
     ]
    },
    {
     "name": "stdout",
     "output_type": "stream",
     "text": [
      "221\n"
     ]
    },
    {
     "name": "stderr",
     "output_type": "stream",
     "text": [
      "/data/estorrs/miniconda3/envs/imaging_analysis/lib/python3.7/site-packages/skimage/filters/rank/generic.py:264: UserWarning: Bad rank filter performance is expected due to a large number of bins (41497), equivalent to an approximate bitdepth of 15.3.\n",
      "  out_dtype)\n"
     ]
    },
    {
     "name": "stdout",
     "output_type": "stream",
     "text": [
      "222\n"
     ]
    },
    {
     "name": "stderr",
     "output_type": "stream",
     "text": [
      "/data/estorrs/miniconda3/envs/imaging_analysis/lib/python3.7/site-packages/skimage/filters/rank/generic.py:264: UserWarning: Bad rank filter performance is expected due to a large number of bins (6824), equivalent to an approximate bitdepth of 12.7.\n",
      "  out_dtype)\n"
     ]
    },
    {
     "name": "stdout",
     "output_type": "stream",
     "text": [
      "223\n"
     ]
    },
    {
     "name": "stderr",
     "output_type": "stream",
     "text": [
      "/data/estorrs/miniconda3/envs/imaging_analysis/lib/python3.7/site-packages/skimage/filters/rank/generic.py:264: UserWarning: Bad rank filter performance is expected due to a large number of bins (16155), equivalent to an approximate bitdepth of 14.0.\n",
      "  out_dtype)\n"
     ]
    },
    {
     "name": "stdout",
     "output_type": "stream",
     "text": [
      "224\n"
     ]
    },
    {
     "name": "stderr",
     "output_type": "stream",
     "text": [
      "/data/estorrs/miniconda3/envs/imaging_analysis/lib/python3.7/site-packages/skimage/filters/rank/generic.py:264: UserWarning: Bad rank filter performance is expected due to a large number of bins (34145), equivalent to an approximate bitdepth of 15.1.\n",
      "  out_dtype)\n"
     ]
    },
    {
     "name": "stdout",
     "output_type": "stream",
     "text": [
      "225\n"
     ]
    },
    {
     "name": "stderr",
     "output_type": "stream",
     "text": [
      "/data/estorrs/miniconda3/envs/imaging_analysis/lib/python3.7/site-packages/skimage/filters/rank/generic.py:264: UserWarning: Bad rank filter performance is expected due to a large number of bins (7274), equivalent to an approximate bitdepth of 12.8.\n",
      "  out_dtype)\n"
     ]
    },
    {
     "name": "stdout",
     "output_type": "stream",
     "text": [
      "226\n"
     ]
    },
    {
     "name": "stderr",
     "output_type": "stream",
     "text": [
      "/data/estorrs/miniconda3/envs/imaging_analysis/lib/python3.7/site-packages/skimage/filters/rank/generic.py:264: UserWarning: Bad rank filter performance is expected due to a large number of bins (63575), equivalent to an approximate bitdepth of 16.0.\n",
      "  out_dtype)\n"
     ]
    },
    {
     "name": "stdout",
     "output_type": "stream",
     "text": [
      "227\n"
     ]
    },
    {
     "name": "stderr",
     "output_type": "stream",
     "text": [
      "/data/estorrs/miniconda3/envs/imaging_analysis/lib/python3.7/site-packages/skimage/filters/rank/generic.py:264: UserWarning: Bad rank filter performance is expected due to a large number of bins (51402), equivalent to an approximate bitdepth of 15.6.\n",
      "  out_dtype)\n"
     ]
    },
    {
     "name": "stdout",
     "output_type": "stream",
     "text": [
      "228\n"
     ]
    },
    {
     "name": "stderr",
     "output_type": "stream",
     "text": [
      "/data/estorrs/miniconda3/envs/imaging_analysis/lib/python3.7/site-packages/skimage/filters/rank/generic.py:264: UserWarning: Bad rank filter performance is expected due to a large number of bins (60344), equivalent to an approximate bitdepth of 15.9.\n",
      "  out_dtype)\n"
     ]
    },
    {
     "name": "stdout",
     "output_type": "stream",
     "text": [
      "229\n"
     ]
    },
    {
     "name": "stderr",
     "output_type": "stream",
     "text": [
      "/data/estorrs/miniconda3/envs/imaging_analysis/lib/python3.7/site-packages/skimage/filters/rank/generic.py:264: UserWarning: Bad rank filter performance is expected due to a large number of bins (54204), equivalent to an approximate bitdepth of 15.7.\n",
      "  out_dtype)\n"
     ]
    },
    {
     "name": "stdout",
     "output_type": "stream",
     "text": [
      "230\n"
     ]
    },
    {
     "name": "stderr",
     "output_type": "stream",
     "text": [
      "/data/estorrs/miniconda3/envs/imaging_analysis/lib/python3.7/site-packages/skimage/filters/rank/generic.py:264: UserWarning: Bad rank filter performance is expected due to a large number of bins (7715), equivalent to an approximate bitdepth of 12.9.\n",
      "  out_dtype)\n"
     ]
    },
    {
     "name": "stdout",
     "output_type": "stream",
     "text": [
      "231\n"
     ]
    },
    {
     "name": "stderr",
     "output_type": "stream",
     "text": [
      "/data/estorrs/miniconda3/envs/imaging_analysis/lib/python3.7/site-packages/skimage/filters/rank/generic.py:264: UserWarning: Bad rank filter performance is expected due to a large number of bins (8605), equivalent to an approximate bitdepth of 13.1.\n",
      "  out_dtype)\n"
     ]
    },
    {
     "name": "stdout",
     "output_type": "stream",
     "text": [
      "232\n"
     ]
    },
    {
     "name": "stderr",
     "output_type": "stream",
     "text": [
      "/data/estorrs/miniconda3/envs/imaging_analysis/lib/python3.7/site-packages/skimage/filters/rank/generic.py:264: UserWarning: Bad rank filter performance is expected due to a large number of bins (33228), equivalent to an approximate bitdepth of 15.0.\n",
      "  out_dtype)\n"
     ]
    },
    {
     "name": "stdout",
     "output_type": "stream",
     "text": [
      "233\n",
      "234\n"
     ]
    },
    {
     "name": "stderr",
     "output_type": "stream",
     "text": [
      "/data/estorrs/miniconda3/envs/imaging_analysis/lib/python3.7/site-packages/skimage/filters/rank/generic.py:264: UserWarning: Bad rank filter performance is expected due to a large number of bins (17662), equivalent to an approximate bitdepth of 14.1.\n",
      "  out_dtype)\n"
     ]
    },
    {
     "name": "stdout",
     "output_type": "stream",
     "text": [
      "235\n"
     ]
    },
    {
     "name": "stderr",
     "output_type": "stream",
     "text": [
      "/data/estorrs/miniconda3/envs/imaging_analysis/lib/python3.7/site-packages/skimage/filters/rank/generic.py:264: UserWarning: Bad rank filter performance is expected due to a large number of bins (8994), equivalent to an approximate bitdepth of 13.1.\n",
      "  out_dtype)\n"
     ]
    },
    {
     "name": "stdout",
     "output_type": "stream",
     "text": [
      "236\n",
      "237\n"
     ]
    },
    {
     "name": "stderr",
     "output_type": "stream",
     "text": [
      "/data/estorrs/miniconda3/envs/imaging_analysis/lib/python3.7/site-packages/skimage/filters/rank/generic.py:264: UserWarning: Bad rank filter performance is expected due to a large number of bins (51161), equivalent to an approximate bitdepth of 15.6.\n",
      "  out_dtype)\n"
     ]
    },
    {
     "name": "stdout",
     "output_type": "stream",
     "text": [
      "238\n"
     ]
    },
    {
     "name": "stderr",
     "output_type": "stream",
     "text": [
      "/data/estorrs/miniconda3/envs/imaging_analysis/lib/python3.7/site-packages/skimage/filters/rank/generic.py:264: UserWarning: Bad rank filter performance is expected due to a large number of bins (64592), equivalent to an approximate bitdepth of 16.0.\n",
      "  out_dtype)\n"
     ]
    },
    {
     "name": "stdout",
     "output_type": "stream",
     "text": [
      "239\n"
     ]
    },
    {
     "name": "stderr",
     "output_type": "stream",
     "text": [
      "/data/estorrs/miniconda3/envs/imaging_analysis/lib/python3.7/site-packages/skimage/filters/rank/generic.py:264: UserWarning: Bad rank filter performance is expected due to a large number of bins (4556), equivalent to an approximate bitdepth of 12.2.\n",
      "  out_dtype)\n"
     ]
    },
    {
     "name": "stdout",
     "output_type": "stream",
     "text": [
      "240\n"
     ]
    },
    {
     "name": "stderr",
     "output_type": "stream",
     "text": [
      "/data/estorrs/miniconda3/envs/imaging_analysis/lib/python3.7/site-packages/skimage/filters/rank/generic.py:264: UserWarning: Bad rank filter performance is expected due to a large number of bins (12877), equivalent to an approximate bitdepth of 13.7.\n",
      "  out_dtype)\n"
     ]
    },
    {
     "name": "stdout",
     "output_type": "stream",
     "text": [
      "241\n"
     ]
    },
    {
     "name": "stderr",
     "output_type": "stream",
     "text": [
      "/data/estorrs/miniconda3/envs/imaging_analysis/lib/python3.7/site-packages/skimage/filters/rank/generic.py:264: UserWarning: Bad rank filter performance is expected due to a large number of bins (7636), equivalent to an approximate bitdepth of 12.9.\n",
      "  out_dtype)\n"
     ]
    },
    {
     "name": "stdout",
     "output_type": "stream",
     "text": [
      "242\n"
     ]
    },
    {
     "name": "stderr",
     "output_type": "stream",
     "text": [
      "/data/estorrs/miniconda3/envs/imaging_analysis/lib/python3.7/site-packages/skimage/filters/rank/generic.py:264: UserWarning: Bad rank filter performance is expected due to a large number of bins (3721), equivalent to an approximate bitdepth of 11.9.\n",
      "  out_dtype)\n"
     ]
    },
    {
     "name": "stdout",
     "output_type": "stream",
     "text": [
      "243\n"
     ]
    },
    {
     "name": "stderr",
     "output_type": "stream",
     "text": [
      "/data/estorrs/miniconda3/envs/imaging_analysis/lib/python3.7/site-packages/skimage/filters/rank/generic.py:264: UserWarning: Bad rank filter performance is expected due to a large number of bins (14734), equivalent to an approximate bitdepth of 13.8.\n",
      "  out_dtype)\n"
     ]
    },
    {
     "name": "stdout",
     "output_type": "stream",
     "text": [
      "244\n"
     ]
    },
    {
     "name": "stderr",
     "output_type": "stream",
     "text": [
      "/data/estorrs/miniconda3/envs/imaging_analysis/lib/python3.7/site-packages/skimage/filters/rank/generic.py:264: UserWarning: Bad rank filter performance is expected due to a large number of bins (4323), equivalent to an approximate bitdepth of 12.1.\n",
      "  out_dtype)\n"
     ]
    },
    {
     "name": "stdout",
     "output_type": "stream",
     "text": [
      "245\n"
     ]
    },
    {
     "name": "stderr",
     "output_type": "stream",
     "text": [
      "/data/estorrs/miniconda3/envs/imaging_analysis/lib/python3.7/site-packages/skimage/filters/rank/generic.py:264: UserWarning: Bad rank filter performance is expected due to a large number of bins (46768), equivalent to an approximate bitdepth of 15.5.\n",
      "  out_dtype)\n"
     ]
    },
    {
     "name": "stdout",
     "output_type": "stream",
     "text": [
      "246\n"
     ]
    },
    {
     "name": "stderr",
     "output_type": "stream",
     "text": [
      "/data/estorrs/miniconda3/envs/imaging_analysis/lib/python3.7/site-packages/skimage/filters/rank/generic.py:264: UserWarning: Bad rank filter performance is expected due to a large number of bins (50618), equivalent to an approximate bitdepth of 15.6.\n",
      "  out_dtype)\n"
     ]
    },
    {
     "name": "stdout",
     "output_type": "stream",
     "text": [
      "247\n"
     ]
    },
    {
     "name": "stderr",
     "output_type": "stream",
     "text": [
      "/data/estorrs/miniconda3/envs/imaging_analysis/lib/python3.7/site-packages/skimage/filters/rank/generic.py:264: UserWarning: Bad rank filter performance is expected due to a large number of bins (51274), equivalent to an approximate bitdepth of 15.6.\n",
      "  out_dtype)\n"
     ]
    },
    {
     "name": "stdout",
     "output_type": "stream",
     "text": [
      "248\n"
     ]
    },
    {
     "name": "stderr",
     "output_type": "stream",
     "text": [
      "/data/estorrs/miniconda3/envs/imaging_analysis/lib/python3.7/site-packages/skimage/filters/rank/generic.py:264: UserWarning: Bad rank filter performance is expected due to a large number of bins (5210), equivalent to an approximate bitdepth of 12.3.\n",
      "  out_dtype)\n"
     ]
    },
    {
     "name": "stdout",
     "output_type": "stream",
     "text": [
      "249\n"
     ]
    },
    {
     "name": "stderr",
     "output_type": "stream",
     "text": [
      "/data/estorrs/miniconda3/envs/imaging_analysis/lib/python3.7/site-packages/skimage/filters/rank/generic.py:264: UserWarning: Bad rank filter performance is expected due to a large number of bins (3291), equivalent to an approximate bitdepth of 11.7.\n",
      "  out_dtype)\n"
     ]
    },
    {
     "name": "stdout",
     "output_type": "stream",
     "text": [
      "250\n"
     ]
    },
    {
     "name": "stderr",
     "output_type": "stream",
     "text": [
      "/data/estorrs/miniconda3/envs/imaging_analysis/lib/python3.7/site-packages/skimage/filters/rank/generic.py:264: UserWarning: Bad rank filter performance is expected due to a large number of bins (52390), equivalent to an approximate bitdepth of 15.7.\n",
      "  out_dtype)\n"
     ]
    },
    {
     "name": "stdout",
     "output_type": "stream",
     "text": [
      "251\n"
     ]
    },
    {
     "name": "stderr",
     "output_type": "stream",
     "text": [
      "/data/estorrs/miniconda3/envs/imaging_analysis/lib/python3.7/site-packages/skimage/filters/rank/generic.py:264: UserWarning: Bad rank filter performance is expected due to a large number of bins (52882), equivalent to an approximate bitdepth of 15.7.\n",
      "  out_dtype)\n"
     ]
    },
    {
     "name": "stdout",
     "output_type": "stream",
     "text": [
      "252\n"
     ]
    },
    {
     "name": "stderr",
     "output_type": "stream",
     "text": [
      "/data/estorrs/miniconda3/envs/imaging_analysis/lib/python3.7/site-packages/skimage/filters/rank/generic.py:264: UserWarning: Bad rank filter performance is expected due to a large number of bins (8176), equivalent to an approximate bitdepth of 13.0.\n",
      "  out_dtype)\n"
     ]
    },
    {
     "name": "stdout",
     "output_type": "stream",
     "text": [
      "253\n"
     ]
    },
    {
     "name": "stderr",
     "output_type": "stream",
     "text": [
      "/data/estorrs/miniconda3/envs/imaging_analysis/lib/python3.7/site-packages/skimage/filters/rank/generic.py:264: UserWarning: Bad rank filter performance is expected due to a large number of bins (52973), equivalent to an approximate bitdepth of 15.7.\n",
      "  out_dtype)\n"
     ]
    },
    {
     "name": "stdout",
     "output_type": "stream",
     "text": [
      "254\n"
     ]
    },
    {
     "name": "stderr",
     "output_type": "stream",
     "text": [
      "/data/estorrs/miniconda3/envs/imaging_analysis/lib/python3.7/site-packages/skimage/filters/rank/generic.py:264: UserWarning: Bad rank filter performance is expected due to a large number of bins (51658), equivalent to an approximate bitdepth of 15.7.\n",
      "  out_dtype)\n"
     ]
    },
    {
     "name": "stdout",
     "output_type": "stream",
     "text": [
      "255\n"
     ]
    },
    {
     "name": "stderr",
     "output_type": "stream",
     "text": [
      "/data/estorrs/miniconda3/envs/imaging_analysis/lib/python3.7/site-packages/skimage/filters/rank/generic.py:264: UserWarning: Bad rank filter performance is expected due to a large number of bins (57032), equivalent to an approximate bitdepth of 15.8.\n",
      "  out_dtype)\n"
     ]
    },
    {
     "name": "stdout",
     "output_type": "stream",
     "text": [
      "256\n",
      "257\n"
     ]
    },
    {
     "name": "stderr",
     "output_type": "stream",
     "text": [
      "/data/estorrs/miniconda3/envs/imaging_analysis/lib/python3.7/site-packages/skimage/filters/rank/generic.py:264: UserWarning: Bad rank filter performance is expected due to a large number of bins (20075), equivalent to an approximate bitdepth of 14.3.\n",
      "  out_dtype)\n"
     ]
    },
    {
     "name": "stdout",
     "output_type": "stream",
     "text": [
      "258\n",
      "259\n"
     ]
    }
   ],
   "source": [
    "myo = tifffile.imread('/data/multiplex/codex_inhouse/codex/HT206B1-H1/stiched/reg001_cyc005_ch003_Podoplanin.tif') + tifffile.imread('/data/multiplex/codex_inhouse/codex/HT206B1-H1/stiched/reg001_cyc008_ch002_SMA.tif')\n",
    "adata = score_region_boundaries(adata, myo, radius=50, marker='Myoepithelial', thickness=50, mask_outer=False)\n",
    "\n",
    "\n",
    "\n"
   ]
  },
  {
   "cell_type": "code",
   "execution_count": 217,
   "id": "910d2f40",
   "metadata": {},
   "outputs": [
    {
     "data": {
      "text/plain": [
       "<matplotlib.image.AxesImage at 0x7f2ed012e390>"
      ]
     },
     "execution_count": 217,
     "metadata": {},
     "output_type": "execute_result"
    },
    {
     "data": {
      "image/png": "[encoded data removed]",
      "text/plain": [
       "<Figure size 432x288 with 1 Axes>"
      ]
     },
     "metadata": {
      "needs_background": "light"
     },
     "output_type": "display_data"
    }
   ],
   "source": [
    "plt.imshow(adata.uns[f'MGP_gradient'])"
   ]
  },
  {
   "cell_type": "code",
   "execution_count": 218,
   "id": "c5dfb451",
   "metadata": {},
   "outputs": [
    {
     "data": {
      "text/plain": [
       "<matplotlib.image.AxesImage at 0x7f2e0dafcd50>"
      ]
     },
     "execution_count": 218,
     "metadata": {},
     "output_type": "execute_result"
    },
    {
     "data": {
      "image/png": "[encoded data removed]",
      "text/plain": [
       "<Figure size 432x288 with 1 Axes>"
      ]
     },
     "metadata": {
      "needs_background": "light"
     },
     "output_type": "display_data"
    }
   ],
   "source": [
    "plt.imshow(adata.uns[f'Myoepithelial_gradient'])"
   ]
  },
  {
   "cell_type": "code",
   "execution_count": 194,
   "id": "3cd93891",
   "metadata": {},
   "outputs": [
    {
     "data": {
      "text/plain": [
       "<matplotlib.image.AxesImage at 0x7f2e01e4bc90>"
      ]
     },
     "execution_count": 194,
     "metadata": {},
     "output_type": "execute_result"
    },
    {
     "data": {
      "image/png": "[encoded data removed]",
      "text/plain": [
       "<Figure size 432x288 with 1 Axes>"
      ]
     },
     "metadata": {
      "needs_background": "light"
     },
     "output_type": "display_data"
    }
   ],
   "source": [
    "plt.imshow(adata.uns[f'MGP_gradient'][9000:13000, 5000:8000])"
   ]
  },
  {
   "cell_type": "code",
   "execution_count": 219,
   "id": "38c6f669",
   "metadata": {},
   "outputs": [
    {
     "data": {
      "text/plain": [
       "<matplotlib.image.AxesImage at 0x7f2e0cde32d0>"
      ]
     },
     "execution_count": 219,
     "metadata": {},
     "output_type": "execute_result"
    },
    {
     "data": {
      "image/png": "[encoded data removed]",
      "text/plain": [
       "<Figure size 432x288 with 1 Axes>"
      ]
     },
     "metadata": {
      "needs_background": "light"
     },
     "output_type": "display_data"
    }
   ],
   "source": [
    "plt.imshow(adata.uns[f'Myoepithelial_gradient'][9000:13000, 5000:8000])"
   ]
  },
  {
   "cell_type": "code",
   "execution_count": 220,
   "id": "e8eb4105",
   "metadata": {},
   "outputs": [
    {
     "data": {
      "text/plain": [
       "<matplotlib.image.AxesImage at 0x7f2e06e59390>"
      ]
     },
     "execution_count": 220,
     "metadata": {},
     "output_type": "execute_result"
    },
    {
     "data": {
      "image/png": "[encoded data removed]",
      "text/plain": [
       "<Figure size 432x288 with 1 Axes>"
      ]
     },
     "metadata": {
      "needs_background": "light"
     },
     "output_type": "display_data"
    }
   ],
   "source": [
    "plt.imshow(adata.uns[f'MGP'][9000:13000, 5000:8000])"
   ]
  },
  {
   "cell_type": "code",
   "execution_count": 221,
   "id": "2a833ce1",
   "metadata": {},
   "outputs": [
    {
     "data": {
      "text/plain": [
       "dict_keys(['MGP', 'annotated_tumor_region_tif', 'cell type_colors', 'cell_segmentation_tif', 'leiden', 'leiden_colors', 'neighbors', 'tumor_region_tif', 'umap', 'unannotated_tumor_region_tif', 'MGP_gradient', 'region_to_MGP_score', 'MGP_score_img', 'edge_mean_MGP_score_img', 'region_to_edge_mean_MGP_score', 'edge_breaks_MGP_score_img', 'region_to_mean_MGP_score', 'mean_MGP_score_img', 'region_to_edge_breaks_MGP_score', 'breaks_MGP_score_img', 'region_to_breaks_MGP_score', 'Myoepithelial_gradient', 'edge_mean_Myoepithelial_score_img', 'region_to_edge_mean_Myoepithelial_score', 'edge_breaks_Myoepithelial_score_img', 'region_to_mean_Myoepithelial_score', 'mean_Myoepithelial_score_img', 'region_to_edge_breaks_Myoepithelial_score', 'breaks_Myoepithelial_score_img', 'region_to_breaks_Myoepithelial_score'])"
      ]
     },
     "execution_count": 221,
     "metadata": {},
     "output_type": "execute_result"
    }
   ],
   "source": [
    "adata.uns.keys()"
   ]
  },
  {
   "cell_type": "code",
   "execution_count": 222,
   "id": "d98fac45",
   "metadata": {},
   "outputs": [
    {
     "data": {
      "text/plain": [
       "<matplotlib.image.AxesImage at 0x7f2ecff49750>"
      ]
     },
     "execution_count": 222,
     "metadata": {},
     "output_type": "execute_result"
    },
    {
     "data": {
      "image/png": "[encoded data removed]",
      "text/plain": [
       "<Figure size 432x288 with 1 Axes>"
      ]
     },
     "metadata": {
      "needs_background": "light"
     },
     "output_type": "display_data"
    }
   ],
   "source": [
    "plt.imshow(adata.uns[f'edge_mean_MGP_score_img'][9000:13000, 5000:8000])"
   ]
  },
  {
   "cell_type": "code",
   "execution_count": 223,
   "id": "24e4924d",
   "metadata": {},
   "outputs": [
    {
     "data": {
      "text/plain": [
       "<matplotlib.image.AxesImage at 0x7f2e0720c410>"
      ]
     },
     "execution_count": 223,
     "metadata": {},
     "output_type": "execute_result"
    },
    {
     "data": {
      "image/png": "[encoded data removed]",
      "text/plain": [
       "<Figure size 432x288 with 1 Axes>"
      ]
     },
     "metadata": {
      "needs_background": "light"
     },
     "output_type": "display_data"
    }
   ],
   "source": [
    "plt.imshow(adata.uns[f'edge_mean_MGP_score_img'])"
   ]
  },
  {
   "cell_type": "code",
   "execution_count": 224,
   "id": "56eea9c7",
   "metadata": {},
   "outputs": [
    {
     "data": {
      "text/plain": [
       "<matplotlib.image.AxesImage at 0x7f2e0cd04410>"
      ]
     },
     "execution_count": 224,
     "metadata": {},
     "output_type": "execute_result"
    },
    {
     "data": {
      "image/png": "[encoded data removed]",
      "text/plain": [
       "<Figure size 432x288 with 1 Axes>"
      ]
     },
     "metadata": {
      "needs_background": "light"
     },
     "output_type": "display_data"
    }
   ],
   "source": [
    "plt.imshow(adata.uns[f'mean_MGP_score_img'][9000:13000, 5000:8000])"
   ]
  },
  {
   "cell_type": "code",
   "execution_count": 225,
   "id": "57824321",
   "metadata": {},
   "outputs": [
    {
     "data": {
      "text/plain": [
       "<matplotlib.image.AxesImage at 0x7f2e06d635d0>"
      ]
     },
     "execution_count": 225,
     "metadata": {},
     "output_type": "execute_result"
    },
    {
     "data": {
      "image/png": "[encoded data removed]",
      "text/plain": [
       "<Figure size 432x288 with 1 Axes>"
      ]
     },
     "metadata": {
      "needs_background": "light"
     },
     "output_type": "display_data"
    }
   ],
   "source": [
    "plt.imshow(adata.uns[f'edge_breaks_MGP_score_img'][9000:13000, 5000:8000])"
   ]
  },
  {
   "cell_type": "code",
   "execution_count": 226,
   "id": "edafc1b9",
   "metadata": {},
   "outputs": [
    {
     "data": {
      "text/plain": [
       "<matplotlib.image.AxesImage at 0x7f2e0bba7810>"
      ]
     },
     "execution_count": 226,
     "metadata": {},
     "output_type": "execute_result"
    },
    {
     "data": {
      "image/png": "[encoded data removed]",
      "text/plain": [
       "<Figure size 432x288 with 1 Axes>"
      ]
     },
     "metadata": {
      "needs_background": "light"
     },
     "output_type": "display_data"
    }
   ],
   "source": [
    "plt.imshow(adata.uns[f'breaks_MGP_score_img'][9000:13000, 5000:8000])"
   ]
  },
  {
   "cell_type": "code",
   "execution_count": 227,
   "id": "77b338a8",
   "metadata": {},
   "outputs": [
    {
     "data": {
      "text/plain": [
       "<matplotlib.image.AxesImage at 0x7f2ecfec86d0>"
      ]
     },
     "execution_count": 227,
     "metadata": {},
     "output_type": "execute_result"
    },
    {
     "data": {
      "image/png": "[encoded data removed]",
      "text/plain": [
       "<Figure size 432x288 with 1 Axes>"
      ]
     },
     "metadata": {
      "needs_background": "light"
     },
     "output_type": "display_data"
    }
   ],
   "source": [
    "plt.imshow(adata.uns[f'MGP_score_img'])"
   ]
  },
  {
   "cell_type": "code",
   "execution_count": null,
   "id": "9fd983a5",
   "metadata": {},
   "outputs": [],
   "source": []
  },
  {
   "cell_type": "code",
   "execution_count": 229,
   "id": "5080421a",
   "metadata": {},
   "outputs": [
    {
     "data": {
      "text/plain": [
       "<matplotlib.image.AxesImage at 0x7f2e0cb64c90>"
      ]
     },
     "execution_count": 229,
     "metadata": {},
     "output_type": "execute_result"
    },
    {
     "data": {
      "image/png": "[encoded data removed]",
      "text/plain": [
       "<Figure size 432x288 with 1 Axes>"
      ]
     },
     "metadata": {
      "needs_background": "light"
     },
     "output_type": "display_data"
    }
   ],
   "source": [
    "plt.imshow(adata.uns[f'edge_mean_Myoepithelial_score_img'][9000:13000, 5000:8000])"
   ]
  },
  {
   "cell_type": "code",
   "execution_count": 231,
   "id": "f71627e0",
   "metadata": {},
   "outputs": [
    {
     "data": {
      "text/plain": [
       "<matplotlib.image.AxesImage at 0x7f2e0dfb4e50>"
      ]
     },
     "execution_count": 231,
     "metadata": {},
     "output_type": "execute_result"
    },
    {
     "data": {
      "image/png": "[encoded data removed]",
      "text/plain": [
       "<Figure size 432x288 with 1 Axes>"
      ]
     },
     "metadata": {
      "needs_background": "light"
     },
     "output_type": "display_data"
    }
   ],
   "source": [
    "plt.imshow(adata.uns[f'Myoepithelial_gradient'][9000:13000, 5000:8000])"
   ]
  },
  {
   "cell_type": "code",
   "execution_count": null,
   "id": "598d2409",
   "metadata": {},
   "outputs": [],
   "source": []
  },
  {
   "cell_type": "markdown",
   "id": "035c4284",
   "metadata": {},
   "source": [
    "plot gradient correlations"
   ]
  },
  {
   "cell_type": "code",
   "execution_count": 235,
   "id": "58b82bd1",
   "metadata": {},
   "outputs": [
    {
     "data": {
      "text/plain": [
       "8432852"
      ]
     },
     "execution_count": 235,
     "metadata": {},
     "output_type": "execute_result"
    }
   ],
   "source": [
    "mask = adata.uns['edge_mean_MGP_score_img']>0\n",
    "mgp_pixels = adata.uns['MGP_gradient'][mask]\n",
    "myo_pixels = adata.uns['Myoepithelial_gradient'][mask]\n",
    "len(mgp_pixels)"
   ]
  },
  {
   "cell_type": "code",
   "execution_count": 241,
   "id": "6e026dbf",
   "metadata": {},
   "outputs": [
    {
     "name": "stdout",
     "output_type": "stream",
     "text": [
      "0.29065818275252714 0.0\n"
     ]
    }
   ],
   "source": [
    "# randomly correlate n pixels\n",
    "\n",
    "from scipy.stats import pearsonr\n",
    "\n",
    "coef, p_value = pearsonr(mgp_pixels, myo_pixels)\n",
    "print(coef, p_value)\n",
    "\n",
    "\n"
   ]
  },
  {
   "cell_type": "code",
   "execution_count": 255,
   "id": "5e16448a",
   "metadata": {},
   "outputs": [
    {
     "data": {
      "text/plain": [
       "<AxesSubplot:>"
      ]
     },
     "execution_count": 255,
     "metadata": {},
     "output_type": "execute_result"
    },
    {
     "data": {
      "image/png": "[encoded data removed]",
      "text/plain": [
       "<Figure size 432x288 with 1 Axes>"
      ]
     },
     "metadata": {
      "needs_background": "light"
     },
     "output_type": "display_data"
    }
   ],
   "source": [
    "idxs = np.random.choice(np.arange(len(mgp_pixels)), size=10000)\n",
    "sns.scatterplot(x=mgp_pixels[idxs], y=myo_pixels[idxs], size=1)"
   ]
  },
  {
   "cell_type": "code",
   "execution_count": 246,
   "id": "78f4b072",
   "metadata": {},
   "outputs": [
    {
     "data": {
      "text/html": [
       "<div>\n",
       "<style scoped>\n",
       "    .dataframe tbody tr th:only-of-type {\n",
       "        vertical-align: middle;\n",
       "    }\n",
       "\n",
       "    .dataframe tbody tr th {\n",
       "        vertical-align: top;\n",
       "    }\n",
       "\n",
       "    .dataframe thead th {\n",
       "        text-align: right;\n",
       "    }\n",
       "</style>\n",
       "<table border=\"1\" class=\"dataframe\">\n",
       "  <thead>\n",
       "    <tr style=\"text-align: right;\">\n",
       "      <th></th>\n",
       "      <th>MGP_score</th>\n",
       "      <th>Myoepithelial_score</th>\n",
       "    </tr>\n",
       "  </thead>\n",
       "  <tbody>\n",
       "    <tr>\n",
       "      <th>0</th>\n",
       "      <td>10108.433541</td>\n",
       "      <td>1349.940158</td>\n",
       "    </tr>\n",
       "    <tr>\n",
       "      <th>1</th>\n",
       "      <td>7105.925362</td>\n",
       "      <td>1927.787504</td>\n",
       "    </tr>\n",
       "    <tr>\n",
       "      <th>2</th>\n",
       "      <td>5456.223731</td>\n",
       "      <td>3851.325244</td>\n",
       "    </tr>\n",
       "    <tr>\n",
       "      <th>3</th>\n",
       "      <td>5489.578682</td>\n",
       "      <td>1532.114359</td>\n",
       "    </tr>\n",
       "    <tr>\n",
       "      <th>4</th>\n",
       "      <td>5674.435563</td>\n",
       "      <td>1625.830671</td>\n",
       "    </tr>\n",
       "    <tr>\n",
       "      <th>...</th>\n",
       "      <td>...</td>\n",
       "      <td>...</td>\n",
       "    </tr>\n",
       "    <tr>\n",
       "      <th>466</th>\n",
       "      <td>2273.576263</td>\n",
       "      <td>918.391532</td>\n",
       "    </tr>\n",
       "    <tr>\n",
       "      <th>467</th>\n",
       "      <td>4543.680091</td>\n",
       "      <td>1045.187184</td>\n",
       "    </tr>\n",
       "    <tr>\n",
       "      <th>468</th>\n",
       "      <td>7219.575120</td>\n",
       "      <td>914.045408</td>\n",
       "    </tr>\n",
       "    <tr>\n",
       "      <th>469</th>\n",
       "      <td>5960.711886</td>\n",
       "      <td>1195.519757</td>\n",
       "    </tr>\n",
       "    <tr>\n",
       "      <th>470</th>\n",
       "      <td>3956.007176</td>\n",
       "      <td>1151.530229</td>\n",
       "    </tr>\n",
       "  </tbody>\n",
       "</table>\n",
       "<p>471 rows × 2 columns</p>\n",
       "</div>"
      ],
      "text/plain": [
       "        MGP_score  Myoepithelial_score\n",
       "0    10108.433541          1349.940158\n",
       "1     7105.925362          1927.787504\n",
       "2     5456.223731          3851.325244\n",
       "3     5489.578682          1532.114359\n",
       "4     5674.435563          1625.830671\n",
       "..            ...                  ...\n",
       "466   2273.576263           918.391532\n",
       "467   4543.680091          1045.187184\n",
       "468   7219.575120           914.045408\n",
       "469   5960.711886          1195.519757\n",
       "470   3956.007176          1151.530229\n",
       "\n",
       "[471 rows x 2 columns]"
      ]
     },
     "execution_count": 246,
     "metadata": {},
     "output_type": "execute_result"
    }
   ],
   "source": [
    "labels = np.unique(adata.uns['tumor_region_tif'][adata.uns['tumor_region_tif']>0])\n",
    "data = []\n",
    "for l in labels:\n",
    "    x, y = adata.uns['region_to_edge_mean_MGP_score'].get(l), adata.uns['region_to_edge_mean_Myoepithelial_score'].get(l)\n",
    "    if x is not None and y is not None:\n",
    "        data.append([x, y])\n",
    "        \n",
    "df = pd.DataFrame(data=data, columns=['MGP_score', 'Myoepithelial_score'])\n",
    "df\n",
    "        "
   ]
  },
  {
   "cell_type": "code",
   "execution_count": 248,
   "id": "f8e25f5b",
   "metadata": {},
   "outputs": [
    {
     "data": {
      "text/plain": [
       "<AxesSubplot:xlabel='MGP_score', ylabel='Myoepithelial_score'>"
      ]
     },
     "execution_count": 248,
     "metadata": {},
     "output_type": "execute_result"
    },
    {
     "data": {
      "image/png": "[encoded data removed]",
      "text/plain": [
       "<Figure size 432x288 with 1 Axes>"
      ]
     },
     "metadata": {
      "needs_background": "light"
     },
     "output_type": "display_data"
    }
   ],
   "source": [
    "sns.regplot(data=df, x='MGP_score', y='Myoepithelial_score')"
   ]
  },
  {
   "cell_type": "code",
   "execution_count": null,
   "id": "046b01fc",
   "metadata": {},
   "outputs": [],
   "source": []
  },
  {
   "cell_type": "code",
   "execution_count": null,
   "id": "4f8cb880",
   "metadata": {},
   "outputs": [],
   "source": []
  },
  {
   "cell_type": "code",
   "execution_count": null,
   "id": "89b3b0bd",
   "metadata": {},
   "outputs": [],
   "source": []
  },
  {
   "cell_type": "code",
   "execution_count": null,
   "id": "ac034fa1",
   "metadata": {},
   "outputs": [],
   "source": []
  },
  {
   "cell_type": "code",
   "execution_count": null,
   "id": "2848eee4",
   "metadata": {},
   "outputs": [],
   "source": []
  },
  {
   "cell_type": "code",
   "execution_count": null,
   "id": "b34dd209",
   "metadata": {},
   "outputs": [],
   "source": []
  },
  {
   "cell_type": "code",
   "execution_count": null,
   "id": "2403557c",
   "metadata": {},
   "outputs": [],
   "source": []
  },
  {
   "cell_type": "code",
   "execution_count": null,
   "id": "e516d0f7",
   "metadata": {},
   "outputs": [],
   "source": []
  },
  {
   "cell_type": "code",
   "execution_count": null,
   "id": "6dd93cb8",
   "metadata": {},
   "outputs": [],
   "source": []
  },
  {
   "cell_type": "code",
   "execution_count": null,
   "id": "22450cf9",
   "metadata": {},
   "outputs": [],
   "source": []
  },
  {
   "cell_type": "code",
   "execution_count": null,
   "id": "7004d070",
   "metadata": {},
   "outputs": [],
   "source": []
  },
  {
   "cell_type": "code",
   "execution_count": null,
   "id": "0701876b",
   "metadata": {},
   "outputs": [],
   "source": []
  },
  {
   "cell_type": "code",
   "execution_count": null,
   "id": "c2530ec3",
   "metadata": {},
   "outputs": [],
   "source": []
  },
  {
   "cell_type": "code",
   "execution_count": null,
   "id": "3617d9c0",
   "metadata": {},
   "outputs": [],
   "source": []
  },
  {
   "cell_type": "code",
   "execution_count": null,
   "id": "cc86a9aa",
   "metadata": {},
   "outputs": [],
   "source": []
  },
  {
   "cell_type": "code",
   "execution_count": null,
   "id": "d5f46fb2",
   "metadata": {},
   "outputs": [],
   "source": []
  },
  {
   "cell_type": "code",
   "execution_count": null,
   "id": "6d845160",
   "metadata": {},
   "outputs": [],
   "source": [
    "plt.imshow(adata.uns[f'MGP_score_img'][9000:13000, 5000:8000])"
   ]
  },
  {
   "cell_type": "code",
   "execution_count": null,
   "id": "0f27d766",
   "metadata": {},
   "outputs": [],
   "source": []
  },
  {
   "cell_type": "code",
   "execution_count": 228,
   "id": "2d997ee0",
   "metadata": {},
   "outputs": [],
   "source": [
    "adata.write_h5ad('/data/multiplex/codex_inhouse/codex/HT206B1-H1/analysis/processed_with_scores.h5ad')\n",
    "# adata"
   ]
  },
  {
   "cell_type": "code",
   "execution_count": null,
   "id": "0003d29f",
   "metadata": {},
   "outputs": [],
   "source": []
  },
  {
   "cell_type": "code",
   "execution_count": null,
   "id": "39f1eea5",
   "metadata": {},
   "outputs": [],
   "source": []
  },
  {
   "cell_type": "code",
   "execution_count": 178,
   "id": "b1cd3ac4",
   "metadata": {},
   "outputs": [
    {
     "name": "stderr",
     "output_type": "stream",
     "text": [
      "/data/estorrs/miniconda3/envs/imaging_analysis/lib/python3.7/site-packages/seaborn/distributions.py:2619: FutureWarning: `distplot` is a deprecated function and will be removed in a future version. Please adapt your code to use either `displot` (a figure-level function with similar flexibility) or `histplot` (an axes-level function for histograms).\n",
      "  warnings.warn(msg, FutureWarning)\n"
     ]
    },
    {
     "data": {
      "text/plain": [
       "<AxesSubplot:ylabel='Density'>"
      ]
     },
     "execution_count": 178,
     "metadata": {},
     "output_type": "execute_result"
    },
    {
     "data": {
      "image/png": "[encoded data removed]",
      "text/plain": [
       "<Figure size 432x288 with 1 Axes>"
      ]
     },
     "metadata": {
      "needs_background": "light"
     },
     "output_type": "display_data"
    }
   ],
   "source": [
    "xs = [x for x in adata.uns['MGP_gradient'].flatten() if x != 0]\n",
    "sns.distplot(np.random.choice(xs, size=10000))\n",
    "# plt.xlim((0, 5000))"
   ]
  },
  {
   "cell_type": "code",
   "execution_count": null,
   "id": "4ffe8023",
   "metadata": {},
   "outputs": [],
   "source": []
  },
  {
   "cell_type": "code",
   "execution_count": 186,
   "id": "2c12f3fb",
   "metadata": {},
   "outputs": [
    {
     "data": {
      "text/plain": [
       "<matplotlib.image.AxesImage at 0x7f2ed078e950>"
      ]
     },
     "execution_count": 186,
     "metadata": {},
     "output_type": "execute_result"
    },
    {
     "data": {
      "image/png": "[encoded data removed]",
      "text/plain": [
       "<Figure size 432x288 with 1 Axes>"
      ]
     },
     "metadata": {
      "needs_background": "light"
     },
     "output_type": "display_data"
    }
   ],
   "source": [
    "plt.imshow(adata.uns[f'MGP_gradient'][9000:13000, 5000:8000]>np.max(adata.uns[f'MGP_gradient']) * .25)"
   ]
  },
  {
   "cell_type": "code",
   "execution_count": 180,
   "id": "24bdc885",
   "metadata": {},
   "outputs": [
    {
     "data": {
      "text/plain": [
       "<matplotlib.image.AxesImage at 0x7f2ed072e210>"
      ]
     },
     "execution_count": 180,
     "metadata": {},
     "output_type": "execute_result"
    },
    {
     "data": {
      "image/png": "[encoded data removed]",
      "text/plain": [
       "<Figure size 432x288 with 1 Axes>"
      ]
     },
     "metadata": {
      "needs_background": "light"
     },
     "output_type": "display_data"
    }
   ],
   "source": [
    "plt.imshow(adata.uns[f'MGP_gradient'][9000:13000, 5000:8000])"
   ]
  },
  {
   "cell_type": "code",
   "execution_count": null,
   "id": "d4e9f5ff",
   "metadata": {},
   "outputs": [],
   "source": []
  },
  {
   "cell_type": "code",
   "execution_count": null,
   "id": "eac7929c",
   "metadata": {},
   "outputs": [],
   "source": []
  },
  {
   "cell_type": "code",
   "execution_count": null,
   "id": "63a4ad6a",
   "metadata": {},
   "outputs": [],
   "source": []
  },
  {
   "cell_type": "code",
   "execution_count": 3,
   "id": "c5739730",
   "metadata": {},
   "outputs": [
    {
     "data": {
      "text/plain": [
       "(15120, 13440)"
      ]
     },
     "execution_count": 3,
     "metadata": {},
     "output_type": "execute_result"
    }
   ],
   "source": [
    "img = tifffile.imread('/data/multiplex/codex_inhouse/codex/HT206B1-H1/exports/annotation_mask.tif')\n",
    "img.shape"
   ]
  },
  {
   "cell_type": "code",
   "execution_count": 5,
   "id": "724a3192",
   "metadata": {},
   "outputs": [
    {
     "data": {
      "text/plain": [
       "<matplotlib.image.AxesImage at 0x7f1f674072d0>"
      ]
     },
     "execution_count": 5,
     "metadata": {},
     "output_type": "execute_result"
    },
    {
     "data": {
      "image/png": "[encoded data removed]",
      "text/plain": [
       "<Figure size 432x288 with 1 Axes>"
      ]
     },
     "metadata": {
      "needs_background": "light"
     },
     "output_type": "display_data"
    }
   ],
   "source": [
    "plt.imshow(img[3000:4000, 3000:4000])"
   ]
  },
  {
   "cell_type": "code",
   "execution_count": 6,
   "id": "1583c7af",
   "metadata": {},
   "outputs": [
    {
     "data": {
      "text/plain": [
       "True"
      ]
     },
     "execution_count": 6,
     "metadata": {},
     "output_type": "execute_result"
    }
   ],
   "source": [
    "np.max(img)"
   ]
  },
  {
   "cell_type": "code",
   "execution_count": 8,
   "id": "e6ef38b5",
   "metadata": {},
   "outputs": [],
   "source": [
    "labeled = label(img)\n"
   ]
  },
  {
   "cell_type": "code",
   "execution_count": 9,
   "id": "a5e5acfb",
   "metadata": {},
   "outputs": [
    {
     "data": {
      "text/plain": [
       "<matplotlib.image.AxesImage at 0x7f1ca5e43350>"
      ]
     },
     "execution_count": 9,
     "metadata": {},
     "output_type": "execute_result"
    },
    {
     "data": {
      "image/png": "[encoded data removed]",
      "text/plain": [
       "<Figure size 432x288 with 1 Axes>"
      ]
     },
     "metadata": {
      "needs_background": "light"
     },
     "output_type": "display_data"
    }
   ],
   "source": [
    "plt.imshow(labeled[:5000, :5000])"
   ]
  },
  {
   "cell_type": "code",
   "execution_count": 10,
   "id": "9af84212",
   "metadata": {},
   "outputs": [
    {
     "data": {
      "text/plain": [
       "<matplotlib.image.AxesImage at 0x7f1ca6047bd0>"
      ]
     },
     "execution_count": 10,
     "metadata": {},
     "output_type": "execute_result"
    },
    {
     "data": {
      "image/png": "[encoded data removed]",
      "text/plain": [
       "<Figure size 432x288 with 1 Axes>"
      ]
     },
     "metadata": {
      "needs_background": "light"
     },
     "output_type": "display_data"
    }
   ],
   "source": [
    "plt.imshow(labeled[4500:5000, 3000:4000])"
   ]
  },
  {
   "cell_type": "code",
   "execution_count": 12,
   "id": "985f8afd",
   "metadata": {},
   "outputs": [
    {
     "data": {
      "text/plain": [
       "array([ 0,  1,  2,  3,  4,  5,  6,  7,  8,  9, 10, 11, 12, 13, 14, 15, 16,\n",
       "       17, 18, 19, 20, 21, 22, 23, 24, 25, 26, 27, 28, 29, 30, 31, 32, 33,\n",
       "       34, 35], dtype=int32)"
      ]
     },
     "execution_count": 12,
     "metadata": {},
     "output_type": "execute_result"
    }
   ],
   "source": [
    "np.unique(labeled)"
   ]
  },
  {
   "cell_type": "code",
   "execution_count": 14,
   "id": "87f5ff4b",
   "metadata": {},
   "outputs": [
    {
     "data": {
      "text/plain": [
       "<matplotlib.image.AxesImage at 0x7f1c6f210c90>"
      ]
     },
     "execution_count": 14,
     "metadata": {},
     "output_type": "execute_result"
    },
    {
     "data": {
      "image/png": "[encoded data removed]",
      "text/plain": [
       "<Figure size 432x288 with 1 Axes>"
      ]
     },
     "metadata": {
      "needs_background": "light"
     },
     "output_type": "display_data"
    }
   ],
   "source": [
    "filled = binary_fill_holes(img)\n",
    "plt.imshow(filled[:5000, :5000])"
   ]
  },
  {
   "cell_type": "code",
   "execution_count": 15,
   "id": "2138b8d1",
   "metadata": {},
   "outputs": [],
   "source": [
    "labeled = label(filled)\n"
   ]
  },
  {
   "cell_type": "code",
   "execution_count": 16,
   "id": "d3eb4d24",
   "metadata": {},
   "outputs": [
    {
     "data": {
      "text/plain": [
       "<matplotlib.image.AxesImage at 0x7f1c6f2f3b90>"
      ]
     },
     "execution_count": 16,
     "metadata": {},
     "output_type": "execute_result"
    },
    {
     "data": {
      "image/png": "[encoded data removed]",
      "text/plain": [
       "<Figure size 432x288 with 1 Axes>"
      ]
     },
     "metadata": {
      "needs_background": "light"
     },
     "output_type": "display_data"
    }
   ],
   "source": [
    "plt.imshow(labeled[:5000, :5000])"
   ]
  },
  {
   "cell_type": "code",
   "execution_count": 17,
   "id": "b0de61d1",
   "metadata": {},
   "outputs": [
    {
     "data": {
      "text/plain": [
       "<matplotlib.image.AxesImage at 0x7f1c6f1b0c50>"
      ]
     },
     "execution_count": 17,
     "metadata": {},
     "output_type": "execute_result"
    },
    {
     "data": {
      "image/png": "[encoded data removed]",
      "text/plain": [
       "<Figure size 432x288 with 1 Axes>"
      ]
     },
     "metadata": {
      "needs_background": "light"
     },
     "output_type": "display_data"
    }
   ],
   "source": [
    "plt.imshow(labeled)"
   ]
  },
  {
   "cell_type": "code",
   "execution_count": null,
   "id": "682b37c6",
   "metadata": {},
   "outputs": [],
   "source": []
  }
 ],
 "metadata": {
  "kernelspec": {
   "display_name": "Python 3 (ipykernel)",
   "language": "python",
   "name": "python3"
  },
  "language_info": {
   "codemirror_mode": {
    "name": "ipython",
    "version": 3
   },
   "file_extension": ".py",
   "mimetype": "text/x-python",
   "name": "python",
   "nbconvert_exporter": "python",
   "pygments_lexer": "ipython3",
   "version": "3.7.12"
  }
 },
 "nbformat": 4,
 "nbformat_minor": 5
}
