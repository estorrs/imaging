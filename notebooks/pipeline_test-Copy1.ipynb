{
 "cells": [
  {
   "cell_type": "code",
   "execution_count": null,
   "metadata": {},
   "outputs": [],
   "source": [
    "import re\n",
    "import os\n",
    "\n",
    "import tifffile\n",
    "from tifffile import TiffFile\n",
    "import scanpy as sc\n",
    "import pandas as pd\n",
    "import numpy as np\n",
    "import anndata\n",
    "import matplotlib.pyplot as plt\n",
    "import mgitools.os_helpers as os_helpers\n",
    "import cv2\n",
    "\n",
    "from skimage.io import imread\n",
    "from skimage import exposure\n",
    "from deepcell.applications import MultiplexSegmentation\n",
    "from ome_types import from_tiff, from_xml\n"
   ]
  },
  {
   "cell_type": "markdown",
   "metadata": {
    "heading_collapsed": true
   },
   "source": [
    "#### convert mcd"
   ]
  },
  {
   "cell_type": "code",
   "execution_count": null,
   "metadata": {
    "hidden": true
   },
   "outputs": [],
   "source": []
  },
  {
   "cell_type": "code",
   "execution_count": null,
   "metadata": {
    "hidden": true
   },
   "outputs": [],
   "source": [
    "from imctools.io.mcd.mcdparser import McdParser"
   ]
  },
  {
   "cell_type": "code",
   "execution_count": null,
   "metadata": {
    "hidden": true
   },
   "outputs": [],
   "source": [
    "fn_mcd = '../data/hyperion/b3_09012020/mcd/HT122P1 S1H3 L1 L4 090320.mcd'\n",
    "\n",
    "parser = McdParser(fn_mcd)"
   ]
  },
  {
   "cell_type": "code",
   "execution_count": null,
   "metadata": {
    "hidden": true
   },
   "outputs": [],
   "source": [
    "session = parser.session\n",
    "\n",
    "# Get all acquisition IDs\n",
    "ids = parser.session.acquisition_ids\n",
    "\n",
    "# The common class to represent a single IMC acquisition is AcquisitionData class.\n",
    "# Get acquisition data for acquisition with id 2\n",
    "ids"
   ]
  },
  {
   "cell_type": "code",
   "execution_count": null,
   "metadata": {
    "hidden": true
   },
   "outputs": [],
   "source": [
    "ac_data = parser.get_acquisition_data(1)"
   ]
  },
  {
   "cell_type": "code",
   "execution_count": null,
   "metadata": {
    "hidden": true
   },
   "outputs": [],
   "source": [
    "ac_data.channel_labels"
   ]
  },
  {
   "cell_type": "code",
   "execution_count": null,
   "metadata": {
    "hidden": true
   },
   "outputs": [],
   "source": [
    "ac_data = parser.get_acquisition_data(4)"
   ]
  },
  {
   "cell_type": "code",
   "execution_count": null,
   "metadata": {
    "hidden": true
   },
   "outputs": [],
   "source": []
  },
  {
   "cell_type": "code",
   "execution_count": null,
   "metadata": {
    "hidden": true
   },
   "outputs": [],
   "source": [
    "\n",
    "ac_data.save_ome_tiff('../data/john_will_grant_imageing/test.ome.tiff',)"
   ]
  },
  {
   "cell_type": "code",
   "execution_count": null,
   "metadata": {
    "hidden": true
   },
   "outputs": [],
   "source": [
    "t = tifffile.TiffFile('../data/john_will_grant_imageing/test.ome.tiff')\n",
    "t.ome_metadata"
   ]
  },
  {
   "cell_type": "code",
   "execution_count": null,
   "metadata": {
    "hidden": true
   },
   "outputs": [],
   "source": [
    "ac_data"
   ]
  },
  {
   "cell_type": "code",
   "execution_count": null,
   "metadata": {
    "hidden": true
   },
   "outputs": [],
   "source": [
    "ac_data.channel_labels"
   ]
  },
  {
   "cell_type": "code",
   "execution_count": null,
   "metadata": {
    "hidden": true
   },
   "outputs": [],
   "source": [
    "ac_data.acquisition.metadata"
   ]
  },
  {
   "cell_type": "code",
   "execution_count": null,
   "metadata": {
    "hidden": true
   },
   "outputs": [],
   "source": [
    "ac_data.acquisition.roi_start_x_pos_um - ac_data.acquisition.roi_end_x_pos_um"
   ]
  },
  {
   "cell_type": "code",
   "execution_count": null,
   "metadata": {
    "hidden": true
   },
   "outputs": [],
   "source": [
    "ac_data.image_data"
   ]
  },
  {
   "cell_type": "code",
   "execution_count": null,
   "metadata": {
    "hidden": true
   },
   "outputs": [],
   "source": [
    "ac_data.acquisition."
   ]
  },
  {
   "cell_type": "markdown",
   "metadata": {
    "heading_collapsed": true
   },
   "source": [
    "#### inspect tiffs"
   ]
  },
  {
   "cell_type": "code",
   "execution_count": null,
   "metadata": {
    "hidden": true
   },
   "outputs": [],
   "source": []
  },
  {
   "cell_type": "code",
   "execution_count": null,
   "metadata": {
    "hidden": true
   },
   "outputs": [],
   "source": [
    "import mgitools.os_helpers as os_helpers\n",
    "fps = sorted(os_helpers.listfiles('../data/hyperion/b1_01042020/ome-tiff_htan/', regex=r'.tiff$'))\n",
    "fps = [fp for fp in fps if 'HT056' in fp]\n",
    "fps"
   ]
  },
  {
   "cell_type": "code",
   "execution_count": null,
   "metadata": {
    "hidden": true
   },
   "outputs": [],
   "source": [
    "from ome_types import from_tiff, from_xml\n",
    "for fp in fps:\n",
    "    print(fp)\n",
    "    header = from_tiff(fp)\n",
    "    print(header.images[0])\n",
    "    "
   ]
  },
  {
   "cell_type": "code",
   "execution_count": null,
   "metadata": {
    "hidden": true
   },
   "outputs": [],
   "source": []
  },
  {
   "cell_type": "code",
   "execution_count": null,
   "metadata": {
    "hidden": true
   },
   "outputs": [],
   "source": []
  },
  {
   "cell_type": "code",
   "execution_count": null,
   "metadata": {
    "hidden": true
   },
   "outputs": [],
   "source": []
  },
  {
   "cell_type": "markdown",
   "metadata": {},
   "source": [
    "#### extract nuclear and membrane markers"
   ]
  },
  {
   "cell_type": "markdown",
   "metadata": {},
   "source": [
    "###### multichannel extraction (hyperion)"
   ]
  },
  {
   "cell_type": "code",
   "execution_count": 1,
   "metadata": {},
   "outputs": [],
   "source": [
    "def get_channels(fp):   \n",
    "    tif = TiffFile(fp)\n",
    "    ome = from_xml(tif.ome_metadata)\n",
    "    im = ome.images[0]\n",
    "    return [channel.name for channel in im.pixels.channels]\n",
    "\n",
    "def extract_htan_ome_tiff(fp):   \n",
    "    tif = TiffFile(fp)\n",
    "    ome = from_xml(tif.ome_metadata)\n",
    "    im = ome.images[0]\n",
    "    d = {}\n",
    "    for c, p in zip(im.pixels.channels, tif.pages):\n",
    "        img = p.asarray()\n",
    "        d[c.name] = img\n",
    "    return d"
   ]
  },
  {
   "cell_type": "code",
   "execution_count": null,
   "metadata": {},
   "outputs": [],
   "source": [
    "# def extract_hyperion(fp, ome_source='halo'):\n",
    "#     tif = TiffFile(fp)\n",
    "#     d = {}\n",
    "#     if ome_source == 'halo':\n",
    "#         for page in tif.pages:\n",
    "#             img = page.asarray()\n",
    "#             channel = re.sub(r'^.*Name..(.*)SamplesPerPixel.*$', r'\\1', page.description.replace('\\r\\n', ''))\n",
    "#             channel = re.sub(r'^[0-9]+[A-Z][a-z]?-?(.*)\\(.*$', r'\\1', channel)\n",
    "#             channel = re.sub(r'^[A-Z][a-z]?[0-9]+-?(.*)\\(.*$', r'\\1', channel)\n",
    "#             d[channel] = img\n",
    "#         d.pop('')\n",
    "        \n",
    "        \n",
    "#     else:\n",
    "#         description = tif.pages[0].description\n",
    "#         metadatas = re.findall(r'<Channel [^>]*>', p.description)\n",
    "#         for i, page in enumerate(tif.pages):\n",
    "#             img = page.asarray()\n",
    "#             m = metadatas[i]\n",
    "#             channel = re.sub(r'^.* Name..(.*). SamplesPerPixel.*$', r'\\1', m)\n",
    "#             channel = re.sub(r'^.*-(.*)$', r'\\1', channel)\n",
    "#             if channel and channel[0].isdigit(): channel = ''\n",
    "# #             channel = re.sub(r'^[0-9]+[A-Z][a-z]?-?(.*)\\(.*$', r'\\1', channel)\n",
    "# #             channel = re.sub(r'^[A-Z][a-z]?[0-9]+-?(.*)\\(.*$', r'\\1', channel)\n",
    "#             d[channel] = img\n",
    "#         if '' in d: d.pop('')\n",
    "        \n",
    "#     return d\n",
    "    \n",
    "# def extract_codex(fp):\n",
    "#     tifs = os_helpers.listfiles(fp, regex='.tif')\n",
    "#     channel_to_tif = {fp.split('/')[-1].split('.')[0].split('_')[-1]:tifffile.imread(fp) for fp in tifs}\n",
    "#     return channel_to_tif\n",
    "    \n",
    "    "
   ]
  },
  {
   "cell_type": "code",
   "execution_count": null,
   "metadata": {},
   "outputs": [],
   "source": [
    "# CHANNEL_MAP = {\n",
    "    \n",
    "# }\n",
    "\n",
    "# def rename_channels(channel_to_img):\n",
    "#     channel_to_img = {c.lower():v for c, v in channel_to_img.items()}\n",
    "#     channel_to_img = {CHANNEL_MAP.get(c, c):v for c, v in channel_to_img.items()}\n",
    "#     return channel_to_img"
   ]
  },
  {
   "cell_type": "code",
   "execution_count": null,
   "metadata": {},
   "outputs": [],
   "source": [
    "def merge_channels(channel_to_img, channels):\n",
    "    img = None\n",
    "    for c in channels:\n",
    "        X = np.expand_dims(channel_to_img[c], 0)\n",
    "        if img is None:\n",
    "            img = X\n",
    "        else:\n",
    "            X = np.concatenate((img, X))\n",
    "    return np.mean(img, axis=0)"
   ]
  },
  {
   "cell_type": "code",
   "execution_count": null,
   "metadata": {},
   "outputs": [],
   "source": []
  },
  {
   "cell_type": "code",
   "execution_count": null,
   "metadata": {},
   "outputs": [],
   "source": []
  },
  {
   "cell_type": "markdown",
   "metadata": {
    "heading_collapsed": true
   },
   "source": [
    "###### one channel tif extraction (codex)"
   ]
  },
  {
   "cell_type": "code",
   "execution_count": null,
   "metadata": {
    "hidden": true
   },
   "outputs": [],
   "source": [
    "tif = TiffFile(\n",
    "    '/home/estorrs/imaging/data/codex/codex_processed_hu_pancreas_TrisEDTA_2020-10-08/reg001_cyc001_ch001_DAPI1.tif')\n",
    "tif"
   ]
  },
  {
   "cell_type": "code",
   "execution_count": null,
   "metadata": {
    "hidden": true
   },
   "outputs": [],
   "source": [
    "img = tifffile.imread(\n",
    "    '/home/estorrs/imaging/data/codex/codex_processed_hu_pancreas_TrisEDTA_2020-10-08/reg001_cyc001_ch001_DAPI1.tif')\n",
    "img"
   ]
  },
  {
   "cell_type": "code",
   "execution_count": null,
   "metadata": {
    "hidden": true
   },
   "outputs": [],
   "source": [
    "p.description"
   ]
  },
  {
   "cell_type": "code",
   "execution_count": null,
   "metadata": {
    "hidden": true
   },
   "outputs": [],
   "source": [
    "re.findall(r'<Channel [^>]*>', p.description)"
   ]
  },
  {
   "cell_type": "code",
   "execution_count": null,
   "metadata": {
    "hidden": true
   },
   "outputs": [],
   "source": [
    "len(tif.pages)"
   ]
  },
  {
   "cell_type": "code",
   "execution_count": null,
   "metadata": {
    "hidden": true
   },
   "outputs": [],
   "source": [
    "def extract_codex(fp):\n",
    "    fps = sorted(os_helpers.listfiles(fp, regex='.tif'))\n",
    "    \n",
    "    "
   ]
  },
  {
   "cell_type": "code",
   "execution_count": null,
   "metadata": {
    "hidden": true
   },
   "outputs": [],
   "source": []
  },
  {
   "cell_type": "markdown",
   "metadata": {
    "heading_collapsed": true
   },
   "source": [
    "##### hyperion"
   ]
  },
  {
   "cell_type": "code",
   "execution_count": null,
   "metadata": {
    "hidden": true
   },
   "outputs": [],
   "source": [
    "# hyperior_folder = '/home/estorrs/imaging/data/hyperion/b1_01042020/ome-tiff_htan/'\n",
    "hyperior_folder = '/home/estorrs/imaging/data/hyperion/b4_10062020/ome-tiff_htan/'\n",
    "# hyperior_folder = '../data/john_will_grant_imageing/'"
   ]
  },
  {
   "cell_type": "code",
   "execution_count": null,
   "metadata": {
    "hidden": true
   },
   "outputs": [],
   "source": [
    "fps = sorted(os_helpers.listfiles(hyperior_folder, regex='.tiff$'))\n",
    "sample_fp_tups = []\n",
    "for fp in fps:\n",
    "    sample = fp.split('/')[-1].replace('.ome.tiff', '')\n",
    "    sample_fp_tups.append((sample + '_b1', fp))\n",
    "len(sample_fp_tups), sample_fp_tups[:5]"
   ]
  },
  {
   "cell_type": "code",
   "execution_count": null,
   "metadata": {
    "hidden": true
   },
   "outputs": [],
   "source": []
  },
  {
   "cell_type": "code",
   "execution_count": null,
   "metadata": {
    "hidden": true
   },
   "outputs": [],
   "source": [
    "# just keep a few for now\n",
    "keep = ['HT_077B1_S1H1_A1_A4_100620_ROI_A4_b1']\n",
    "sample_fp_tups = [(s, fp) for s, fp in sample_fp_tups if s in keep]\n",
    "sample_fp_tups"
   ]
  },
  {
   "cell_type": "code",
   "execution_count": null,
   "metadata": {
    "hidden": true
   },
   "outputs": [],
   "source": [
    "sample_fp_tups[0] = ('PDAC_1', sample_fp_tups[0][1])\n",
    "sample_fp_tups[1] = ('PDAC_2', sample_fp_tups[1][1])\n",
    "sample_fp_tups[2] = ('PDAC_3', sample_fp_tups[2][1])"
   ]
  },
  {
   "cell_type": "code",
   "execution_count": null,
   "metadata": {
    "hidden": true
   },
   "outputs": [],
   "source": [
    "get_channels(sample_fp_tups[0][1])"
   ]
  },
  {
   "cell_type": "code",
   "execution_count": null,
   "metadata": {
    "hidden": true,
    "scrolled": true
   },
   "outputs": [],
   "source": [
    "# NUCLEAR = ['HistoneH3']\n",
    "NUCLEAR = ['Histone H3']\n",
    "MEMBRANE = ['cellseg2']\n",
    "# MEMBRANE = ['ICSK1', 'ICSK2', 'ICSK3']\n",
    "\n",
    "sample_to_imgs = {}\n",
    "for sample, fp in sample_fp_tups:\n",
    "#     channel_to_img = extract_hyperion(fp, ome_source='a')\n",
    "    channel_to_img = extract_htan_ome_tiff(fp)\n",
    "#     print(channel_to_img.keys())\n",
    "    nuclear_img = merge_channels(channel_to_img, NUCLEAR)\n",
    "    membrane_img = merge_channels(channel_to_img, MEMBRANE)\n",
    "    channel_to_img['nuclear'] = nuclear_img\n",
    "    channel_to_img['membrane'] = membrane_img\n",
    "    sample_to_imgs[sample] = channel_to_img    "
   ]
  },
  {
   "cell_type": "code",
   "execution_count": null,
   "metadata": {
    "hidden": true
   },
   "outputs": [],
   "source": []
  },
  {
   "cell_type": "markdown",
   "metadata": {},
   "source": [
    "##### codex"
   ]
  },
  {
   "cell_type": "code",
   "execution_count": null,
   "metadata": {},
   "outputs": [],
   "source": [
    "codex_folder = '/home/estorrs/imaging/data/codex/adult_kidney/ome-tiff_htan/'"
   ]
  },
  {
   "cell_type": "code",
   "execution_count": null,
   "metadata": {},
   "outputs": [],
   "source": [
    "sample_fp_tups = [('adult_kidney', os.path.join(codex_folder, 'adult_kidney.ome.tiff'))]"
   ]
  },
  {
   "cell_type": "code",
   "execution_count": null,
   "metadata": {},
   "outputs": [],
   "source": [
    "NUCLEAR = ['dapi1']\n",
    "MEMBRANE = ['CD3']\n",
    "\n",
    "sample_to_imgs = {}\n",
    "for sample, fp in sample_fp_tups:\n",
    "    channel_to_img = extract_codex(fp)\n",
    "    nuclear_img = merge_channels(channel_to_img, NUCLEAR)\n",
    "    membrane_img = merge_channels(channel_to_img, MEMBRANE)\n",
    "    channel_to_img['nuclear'] = nuclear_img\n",
    "    channel_to_img['membrane'] = membrane_img\n",
    "    sample_to_imgs[sample] = channel_to_img    "
   ]
  },
  {
   "cell_type": "code",
   "execution_count": null,
   "metadata": {},
   "outputs": [],
   "source": []
  },
  {
   "cell_type": "code",
   "execution_count": null,
   "metadata": {},
   "outputs": [],
   "source": [
    "## from the new tiffs\n",
    "sample_to_imgs = {}\n",
    "for sample, fp in sample_fp_tups:\n",
    "    tif = TiffFile(fp)\n",
    "    m = re.sub(r'<Acquis.*AcquisitionDate>', r'', tif.ome_metadata)\n",
    "    ome = from_xml(m)\n",
    "    im = ome.images[0]\n",
    "    channel_to_img = {}\n",
    "    for channel, page in zip(im.pixels.channels, tif.pages):\n",
    "        channel_to_img[channel.name] = page.asarray()\n",
    "    sample_to_imgs[sample] = channel_to_img"
   ]
  },
  {
   "cell_type": "code",
   "execution_count": null,
   "metadata": {},
   "outputs": [],
   "source": []
  },
  {
   "cell_type": "code",
   "execution_count": null,
   "metadata": {},
   "outputs": [],
   "source": []
  },
  {
   "cell_type": "code",
   "execution_count": null,
   "metadata": {},
   "outputs": [],
   "source": []
  },
  {
   "cell_type": "markdown",
   "metadata": {},
   "source": [
    "#### display images"
   ]
  },
  {
   "cell_type": "code",
   "execution_count": null,
   "metadata": {},
   "outputs": [],
   "source": [
    "next(iter(sample_to_imgs.values())).keys()"
   ]
  },
  {
   "cell_type": "code",
   "execution_count": null,
   "metadata": {},
   "outputs": [],
   "source": [
    "# red, green, light blue, blue, purple, yellow, white\n",
    "DEFAULTS = ['#ff0000', '#00ff04', '#00fff7', '#0008ff', '#ff00e1', '#fbff00', '#ffffff']\n",
    "def hex_to_rgb(h):\n",
    "    h = h.replace('#', '').lower()\n",
    "    return tuple(int(h[i:i+2], 16) / 255. for i in (0, 2, 4))\n",
    "\n",
    "from skimage import color\n"
   ]
  },
  {
   "cell_type": "code",
   "execution_count": null,
   "metadata": {},
   "outputs": [],
   "source": [
    "def add_scale(img, mpm=1):\n",
    "    x = img.shape[1] - 210\n",
    "    y = img.shape[0] - 20\n",
    "    \n",
    "    x1, x2 = int(x), int(x + 200)\n",
    "    y1, y2 = int(y), int(y + 5)\n",
    "    \n",
    "    for r in range(img.shape[0]):\n",
    "        for c in range(img.shape[1]):\n",
    "            if r > y1 and r <= y2 and c > x1 and c <= x2:\n",
    "                img[r, c, 0] = 1.\n",
    "                img[r, c, 1] = 1.\n",
    "                img[r, c, 2] = 1.\n",
    "    plt.text(x, y - 10, '200 um', fontsize=12, color='white')\n",
    "    return img\n",
    "    "
   ]
  },
  {
   "cell_type": "code",
   "execution_count": null,
   "metadata": {},
   "outputs": [],
   "source": [
    "im = next(iter(sample_to_imgs.values()))['Pan Keratin'].copy()\n",
    "im = ((im / max(im.flatten())) * 255).astype(np.uint8)\n",
    "plt.imshow(im)"
   ]
  },
  {
   "cell_type": "code",
   "execution_count": null,
   "metadata": {},
   "outputs": [],
   "source": [
    "plt.imshow((exposure.equalize_adapthist(im, clip_limit=.03) * 255).astype(np.uint8))"
   ]
  },
  {
   "cell_type": "code",
   "execution_count": null,
   "metadata": {},
   "outputs": [],
   "source": [
    "import seaborn as sns\n",
    "sns.distplot(im[im>5], bins=100)\n",
    "plt.xscale('log')\n",
    "plt.xlim((5, 255))"
   ]
  },
  {
   "cell_type": "code",
   "execution_count": null,
   "metadata": {},
   "outputs": [],
   "source": [
    "plt.imshow(cv2.fastNlMeansDenoising(im, ))"
   ]
  },
  {
   "cell_type": "code",
   "execution_count": null,
   "metadata": {},
   "outputs": [],
   "source": [
    "from skimage.filters import gaussian\n",
    "g = gaussian(im)\n",
    "print(np.min(g), np.max(g))\n",
    "plt.imshow((gaussian(im)*255).astype(np.uint8))"
   ]
  },
  {
   "cell_type": "code",
   "execution_count": null,
   "metadata": {},
   "outputs": [],
   "source": [
    "idxs = np.argsort(im.flatten())\n",
    "mark = im.flatten()[idxs[int(.999 * len(idxs))]]\n",
    "print(mark)\n",
    "img = im.copy()\n",
    "img[img>=mark] = mark\n",
    "plt.imshow(((img / max(img.flatten())) * 255).astype(np.uint8))"
   ]
  },
  {
   "cell_type": "code",
   "execution_count": null,
   "metadata": {},
   "outputs": [],
   "source": [
    "def convert_channels_raw(channel_to_img):\n",
    "    new = {}\n",
    "    for channel, img in channel_to_img.items():\n",
    "        im = img.copy()\n",
    "        if not isinstance(img, np.uint8):\n",
    "            new[channel] = ((im / max(im.flatten())) * 255).astype(np.uint8)\n",
    "    return new\n",
    "\n",
    "def convert_channels_CLAHE(channel_to_img, clip_limit=.05):\n",
    "    new = {}\n",
    "    for channel, img in channel_to_img.items():   \n",
    "        im = img.copy()\n",
    "        if not isinstance(img, np.uint8):\n",
    "            im = ((im / max(im.flatten())) * 255).astype(np.uint8)\n",
    "        try:\n",
    "            new[channel] = (exposure.equalize_adapthist(im, clip_limit=clip_limit) * 255).astype(np.uint8)\n",
    "        except ZeroDivisionError:\n",
    "            new[channel] = im\n",
    "            print(f'channel {channel} failed')\n",
    "    return new\n",
    "\n",
    "def convert_channels_gaussian(channel_to_img):\n",
    "    new = {}\n",
    "    for channel, img in channel_to_img.items():\n",
    "        im = img.copy()\n",
    "        if not isinstance(img, np.uint8):\n",
    "            im = ((im / max(im.flatten())) * 255).astype(np.uint8)\n",
    "        new[channel] = (gaussian(im) * 255).astype(np.uint8)\n",
    "    return new\n",
    "\n",
    "def convert_channels_threshold(channel_to_img, thresh=.99):\n",
    "    new = {}\n",
    "    for channel, img in channel_to_img.items():\n",
    "        # get 99th percentile\n",
    "        idxs = np.argsort(img.flatten())\n",
    "        mark = img[idxs[int(thresh * len(idxs))]]\n",
    "        \n",
    "        im = img.copy()\n",
    "        im[im>=mark] = mark\n",
    "        new[channel] = ((im / max(im.flatten())) * 255).astype(np.uint8)\n",
    "    return new"
   ]
  },
  {
   "cell_type": "code",
   "execution_count": null,
   "metadata": {
    "scrolled": true
   },
   "outputs": [],
   "source": [
    "# convert channels\n",
    "sti_raw, sti_CLAHE, sti_gaussian, sti_CLAHE_gaussian, sti_gaussian_CLAHE = {}, {}, {}, {}, {}\n",
    "for sample, channel_to_imgs in sample_to_imgs.items():\n",
    "    sti_raw[sample] = convert_channels_raw(channel_to_imgs)\n",
    "    sti_CLAHE[sample] = convert_channels_CLAHE(channel_to_imgs)\n",
    "    sti_gaussian[sample] = convert_channels_gaussian(channel_to_imgs)\n",
    "    sti_gaussian_CLAHE[sample] = convert_channels_gaussian(sti_CLAHE[sample])\n",
    "    sti_CLAHE_gaussian[sample] = convert_channels_CLAHE(sti_gaussian[sample])\n",
    "        "
   ]
  },
  {
   "cell_type": "code",
   "execution_count": null,
   "metadata": {},
   "outputs": [],
   "source": [
    "def colorize_bw(img, rgb):\n",
    "    grayscale_image = img / max(img.flatten())\n",
    "    image = color.gray2rgb(grayscale_image)\n",
    "    \n",
    "    colored = rgb * image\n",
    "    return colored\n",
    "\n",
    "def display_image(channel_to_image, channels):\n",
    "    channel_to_color = {ch:hex_to_rgb(c) for ch, c in channels.items()}\n",
    "    final = None\n",
    "    for c, color in channel_to_color.items():\n",
    "        img = channel_to_img[c].copy()\n",
    "        colorized = colorize_bw(img, list(color))\n",
    "        if final is None:\n",
    "            final = colorized\n",
    "        else:\n",
    "            final += colorized\n",
    "    p1, p2 = np.percentile(final, (0, 100))\n",
    "    final = exposure.rescale_intensity(final, in_range=(p1, p2))\n",
    "    return final\n",
    "\n",
    "def display_image_CLAHE(channel_to_image, channels, clip_limit=.03):\n",
    "    channel_to_color = {ch:hex_to_rgb(c) for ch, c in channels.items()}\n",
    "    final = None\n",
    "    for c, color in channel_to_color.items():\n",
    "        img = channel_to_img[c].copy()\n",
    "        colorized = colorize_bw(img, list(color))\n",
    "        if final is None:\n",
    "            final = colorized\n",
    "        else:\n",
    "            final += colorized\n",
    "    p1, p2 = np.percentile(final, (0, 100))\n",
    "    final = exposure.rescale_intensity(final, in_range=(p1, p2))\n",
    "    final = (exposure.equalize_adapthist(final, clip_limit=clip_limit) * 255).astype(np.uint8)\n",
    "    \n",
    "    return final\n",
    "\n",
    "def display_image_gamma(channel_to_image, channels):\n",
    "    if isinstance(channels, dict):\n",
    "        channel_to_color = {ch:(hex_to_rgb(c), g) for ch, (c, g) in channels.items()}\n",
    "    else:\n",
    "        channel_to_color = {c:(hex_to_rgb(DEFAULTS[i]), .5) for i, c in enumerate(channels)}\n",
    "    \n",
    "    final = None\n",
    "    for c, (color, g) in channel_to_color.items():\n",
    "        img = channel_to_img[c].copy()\n",
    "        colorized = colorize_bw(img, list(color))\n",
    "        img = exposure.adjust_gamma(colorized, gamma=g)\n",
    "#         p1, p2 = np.percentile(img, (0, 100))\n",
    "#         img = exposure.rescale_intensity(img, in_range=(p1, p2))\n",
    "        \n",
    "        if final is None:\n",
    "            final = img\n",
    "        else:\n",
    "            final += img\n",
    "#     p1, p2 = np.percentile(final, (0, 100))\n",
    "#     final = exposure.rescale_intensity(final, in_range=(p1, p2))\n",
    "    return final"
   ]
  },
  {
   "cell_type": "code",
   "execution_count": null,
   "metadata": {
    "scrolled": true
   },
   "outputs": [],
   "source": [
    "## hyperion\n",
    "channel_map = {\n",
    "    'Histone H3': '#0000ff', ## blue\n",
    "    'Pan Keratin': '#ff0000', ## red\n",
    "    'CD3': '#00ff00', ## green\n",
    "    'CD20': '#ff00ff', ## purple\n",
    "    'CD8a': '#ffff00', ## yellow\n",
    "    'CD68': '#00ffff', ## light blue\n",
    "}\n",
    "from pathlib import Path\n",
    "fig_dir = hyperior_folder.replace('/ome-tiff_htan/', '/thumbnails/generic_hyperion_qc_presentation')\n",
    "Path(fig_dir).mkdir(parents=True, exist_ok=True)\n",
    "for sample, channel_to_img in sti_raw.items():\n",
    "    print(sample)\n",
    "    img = display_image(channel_to_img, channel_map)\n",
    "    plt.imshow(img)\n",
    "#     plt.imsave(os.path.join(fig_dir, f'{sample}.png'), img)\n",
    "    plt.show()\n",
    "# display_legend({k:m for k, m in channel_map.items()})\n",
    "plt.subplots_adjust(wspace=2.)\n",
    "# plt.savefig(os.path.join(fig_dir, 'legend.png'))"
   ]
  },
  {
   "cell_type": "code",
   "execution_count": null,
   "metadata": {
    "scrolled": true
   },
   "outputs": [],
   "source": [
    "for sample, channel_to_img in sti_raw.items():\n",
    "    print(sample)\n",
    "    img = display_image_CLAHE(channel_to_img, channel_map)\n",
    "    plt.imshow(img)\n",
    "    plt.show()"
   ]
  },
  {
   "cell_type": "code",
   "execution_count": null,
   "metadata": {
    "scrolled": true
   },
   "outputs": [],
   "source": [
    "for sample, channel_to_img in sti_gaussian.items():\n",
    "    print(sample)\n",
    "    img = display_image(channel_to_img, channel_map)\n",
    "    plt.imshow(img)\n",
    "    plt.show()"
   ]
  },
  {
   "cell_type": "code",
   "execution_count": null,
   "metadata": {
    "scrolled": true
   },
   "outputs": [],
   "source": [
    "for sample, channel_to_img in sti_CLAHE.items():\n",
    "    print(sample)\n",
    "    img = display_image(channel_to_img, channel_map)\n",
    "    plt.imshow(img)\n",
    "    plt.show()"
   ]
  },
  {
   "cell_type": "code",
   "execution_count": null,
   "metadata": {
    "scrolled": true
   },
   "outputs": [],
   "source": [
    "for sample, channel_to_img in sti_CLAHE_gaussian.items():\n",
    "    print(sample)\n",
    "    img = display_image(channel_to_img, channel_map)\n",
    "    plt.imshow(img)\n",
    "    plt.show()"
   ]
  },
  {
   "cell_type": "code",
   "execution_count": null,
   "metadata": {
    "scrolled": true
   },
   "outputs": [],
   "source": [
    "for sample, channel_to_img in sti_gaussian_CLAHE.items():\n",
    "    print(sample)\n",
    "    img = display_image(channel_to_img, channel_map)\n",
    "    plt.imshow(img)\n",
    "    plt.show()"
   ]
  },
  {
   "cell_type": "code",
   "execution_count": null,
   "metadata": {
    "scrolled": true
   },
   "outputs": [],
   "source": [
    "gamma_map = {\n",
    "    'Histone H3': ('#0000ff', .2), ## blue\n",
    "    'Pan Keratin': ('#ff0000', .2), ## red\n",
    "    'CD8a': ('#00ff00', .1), ## green\n",
    "#     'CD20': ('#ff00ff', .1), ## purple\n",
    "    'Ki67': ('#ffff00', .5), ## yellow\n",
    "#     'CD20': ('#00ffff', .2), ## light blue\n",
    "}\n",
    "for sample, channel_to_img in sample_to_imgs.items():\n",
    "    print(sample)\n",
    "    img = display_image_gamma(channel_to_img, gamma_map)\n",
    "#     img = exposure.equalize_adapthist(img, clip_limit=.03)\n",
    "    plt.imshow(img)\n",
    "    plt.show()"
   ]
  },
  {
   "cell_type": "code",
   "execution_count": null,
   "metadata": {},
   "outputs": [],
   "source": [
    "gamma_map = {\n",
    "    'Histone H3': ('#0000ff', .2), ## blue\n",
    "    'Pan Keratin': ('#ff0000', .2), ## red\n",
    "    'CD8a': ('#00ff00', .5), ## green\n",
    "#     'CD20': ('#ff00ff', .1), ## purple\n",
    "    'Ki67': ('#ffff00', .3), ## yellow\n",
    "#     'CD20': ('#00ffff', .2), ## light blue\n",
    "}\n",
    "for sample, channel_to_img in sti_gaussian.items():\n",
    "    print(sample)\n",
    "    img = display_image_gamma(channel_to_img, gamma_map)\n",
    "#     img = exposure.equalize_adapthist(img, clip_limit=.03)\n",
    "    plt.imshow(img)\n",
    "    plt.show()"
   ]
  },
  {
   "cell_type": "code",
   "execution_count": null,
   "metadata": {},
   "outputs": [],
   "source": [
    "gamma_map = {\n",
    "    'Histone H3': ('#0000ff', .8), ## blue\n",
    "    'Pan Keratin': ('#ff0000', .8), ## red\n",
    "    'CD8a': ('#00ff00', .8), ## green\n",
    "#     'CD20': ('#ff00ff', .1), ## purple\n",
    "    'Ki67': ('#ffff00', .8), ## yellow\n",
    "#     'CD20': ('#00ffff', .2), ## light blue\n",
    "}\n",
    "for sample, channel_to_img in sti_CLAHE.items():\n",
    "    print(sample)\n",
    "    img = display_image_gamma(channel_to_img, gamma_map)\n",
    "#     img = exposure.equalize_adapthist(img, clip_limit=.03)\n",
    "    plt.imshow(img)\n",
    "    plt.show()"
   ]
  },
  {
   "cell_type": "code",
   "execution_count": null,
   "metadata": {},
   "outputs": [],
   "source": []
  },
  {
   "cell_type": "markdown",
   "metadata": {
    "heading_collapsed": true
   },
   "source": [
    "###### sandbox"
   ]
  },
  {
   "cell_type": "code",
   "execution_count": null,
   "metadata": {
    "hidden": true
   },
   "outputs": [],
   "source": [
    "def colorize_bw(img, rgb):\n",
    "    grayscale_image = img / max(img.flatten())\n",
    "    image = color.gray2rgb(grayscale_image)\n",
    "    \n",
    "    colored = rgb * image\n",
    "    return colored\n",
    "\n",
    "def display_image_raw(channel_to_img, channels):\n",
    "    channel_to_color = {ch:hex_to_rgb(c) for ch, c in channels.items()}\n",
    "\n",
    "    final = None\n",
    "    for c, color in channel_to_color.items():\n",
    "        img = channel_to_img[c].copy()\n",
    "        colorized = colorize_bw(img, list(color))\n",
    "        if final is None:\n",
    "            final = colorized\n",
    "        else:\n",
    "            final += colorized\n",
    "    p1, p2 = np.percentile(final, (0, 100))\n",
    "    final = exposure.rescale_intensity(final, in_range=(p1, p2))\n",
    "    return final\n",
    "\n",
    "def display_image_CLAHE(channel_to_img, channels, clip=.03):\n",
    "    channel_to_color = {ch:hex_to_rgb(c) for ch, c in channels.items()}\n",
    "\n",
    "    final = None\n",
    "    for c, color in channel_to_color.items():\n",
    "        img = channel_to_img[c].copy()\n",
    "        colorized = colorize_bw(img, list(color))\n",
    "        if final is None:\n",
    "            final = colorized\n",
    "        else:\n",
    "            final += colorized\n",
    "    p1, p2 = np.percentile(final, (0, 100))\n",
    "    final = exposure.rescale_intensity(final, in_range=(p1, p2))\n",
    "    try:\n",
    "        final = exposure.equalize_adapthist(final, clip_limit=clip)\n",
    "    except ZeroDivisionError:\n",
    "        print('zero division error encountered')\n",
    "    return final\n",
    "\n",
    "def display_image_generic_v2(channel_to_img, channels, clip=.03):\n",
    "    channel_to_color = {ch:hex_to_rgb(c) for ch, c in channels.items()}\n",
    "\n",
    "    final = None\n",
    "    for c, color in channel_to_color.items():\n",
    "        img = channel_to_img[c].copy()\n",
    "        colorized = colorize_bw(img, list(color))\n",
    "        if final is None:\n",
    "            final = colorized\n",
    "        else:\n",
    "            final += colorized\n",
    "            p1, p2 = np.percentile(final, (0, 100))\n",
    "            final = exposure.rescale_intensity(final, in_range=(p1, p2))\n",
    "            final = exposure.equalize_adapthist(final, clip_limit=clip)\n",
    "    p1, p2 = np.percentile(final, (0, 100))\n",
    "    final = exposure.rescale_intensity(final, in_range=(p1, p2))\n",
    "#     final = exposure.equalize_adapthist(final, clip_limit=clip)\n",
    "    return final  \n",
    "\n",
    "def display_image_gamma(channel_to_img, channels, clip=.03):\n",
    "    if isinstance(channels, dict):\n",
    "        channel_to_color = {ch:(hex_to_rgb(c), g) for ch, (c, g) in channels.items()}\n",
    "    else:\n",
    "        channel_to_color = {c:(hex_to_rgb(DEFAULTS[i]), .5) for i, c in enumerate(channels)}\n",
    "    \n",
    "    final = None\n",
    "    for c, (color, g) in channel_to_color.items():\n",
    "        img = channel_to_img[c].copy()\n",
    "        colorized = colorize_bw(img, list(color))\n",
    "#         p1, p2 = np.percentile(colorized, (5, 100))\n",
    "#         colorized = exposure.rescale_intensity(colorized, in_range=(p1, p2))\n",
    "        img = exposure.adjust_gamma(colorized, gamma=g)\n",
    "#         img = colorized\n",
    "#         p1, p2 = np.percentile(img, (0, 100))\n",
    "#         img = exposure.rescale_intensity(img, in_range=(p1, p2))\n",
    "        \n",
    "        if final is None:\n",
    "            final = img\n",
    "        else:\n",
    "            final += img\n",
    "    p1, p2 = np.percentile(final, (0, 100))\n",
    "    final = exposure.rescale_intensity(final, in_range=(p1, p2))\n",
    "#     final = exposure.adjust_gamma(final, gamma=.5)\n",
    "    try:\n",
    "        final = exposure.equalize_adapthist(final, clip_limit=clip)\n",
    "    except ZeroDivisionError:\n",
    "        print('zero division error encountered')\n",
    "    return final"
   ]
  },
  {
   "cell_type": "code",
   "execution_count": null,
   "metadata": {
    "hidden": true
   },
   "outputs": [],
   "source": [
    "def display_legend(channel_map):\n",
    "    fig, axs = plt.subplots(ncols=len(channel_map), figsize=(5, 1))\n",
    "    for i, (c, color) in enumerate(channel_map.items()):\n",
    "        ax = axs[i]\n",
    "        ax.axhline(0, color=color, linewidth=110)\n",
    "        ax.set_ylabel(c)\n",
    "        ax.set_xticks([])\n",
    "        ax.set_yticks([])\n",
    "    return axs"
   ]
  },
  {
   "cell_type": "code",
   "execution_count": null,
   "metadata": {
    "hidden": true
   },
   "outputs": [],
   "source": [
    "def generate_comparison_plot(channel_to_img, channels, func_map, figsize=(20, 4), **kwargs):\n",
    "    fig, axs = plt.subplots(nrows=1, ncols=len(func_map), figsize=figsize)\n",
    "    for i, (name, func) in enumerate(func_map):\n",
    "        ax = axs[i]\n",
    "        \n",
    "        if name == 'raw':\n",
    "            img = display_image_raw(channel_to_img, channels)\n",
    "            ax.imshow(img)\n",
    "        if name == 'CLAHE':\n",
    "            "
   ]
  },
  {
   "cell_type": "code",
   "execution_count": null,
   "metadata": {
    "hidden": true
   },
   "outputs": [],
   "source": [
    "channel_to_img.keys()"
   ]
  },
  {
   "cell_type": "code",
   "execution_count": null,
   "metadata": {
    "hidden": true,
    "scrolled": true
   },
   "outputs": [],
   "source": [
    "## hyperion\n",
    "channel_map = {\n",
    "    'Histone H3': '#0000ff', ## blue\n",
    "    'Pan Keratin': '#ff0000', ## red\n",
    "    'CD3': '#00ff00', ## green\n",
    "    'CD20': '#ff00ff', ## purple\n",
    "    'Ki67': '#ffff00', ## yellow\n",
    "    'CD68': '#00ffff', ## light blue\n",
    "}\n",
    "\n",
    "# fig_dir = '/home/estorrs/imaging/data/hyperion/b1_01042020/thumbnails/generic'\n",
    "fig_dir = hyperior_folder.replace('/ome-tiff_htan/', '/thumbnails/generic_hyperion_qc_presentation')\n",
    "Path(fig_dir).mkdir(parents=True, exist_ok=True)\n",
    "for sample, channel_to_img in sample_to_imgs.items():\n",
    "    print(sample)\n",
    "    img = display_image_generic(channel_to_img, channel_map, clip=.03)\n",
    "    plt.imshow(img)\n",
    "    plt.imsave(os.path.join(fig_dir, f'{sample}.png'), img)\n",
    "    plt.show()\n",
    "display_legend({k:m for k, m in channel_map.items()})\n",
    "plt.subplots_adjust(wspace=2.)\n",
    "plt.savefig(os.path.join(fig_dir, 'legend.png'))\n",
    "\n",
    "\n",
    "\n",
    "# channel_map = {\n",
    "#     'Histone H3': ('#0000ff', .6), ## blue\n",
    "#     'Pan Keratin': ('#ff0000', .35), ## red\n",
    "#     'CD3': ('#00ff00', .95), ## green\n",
    "#     'CD20': ('#ff00ff', .6), ## purple\n",
    "#     'Ki67': ('#ffff00', .6), ## yellow\n",
    "#     'CD68': ('#00ffff', .6), ## light blue\n",
    "# }\n",
    "# # fig_dir = '/home/estorrs/imaging/data/hyperion/b1_01042020/thumbnails/generic'\n",
    "# fig_dir = hyperior_folder.replace('/ome-tiff_htan/', '/thumbnails/generic_high_gamma')\n",
    "# Path(fig_dir).mkdir(parents=True, exist_ok=True)\n",
    "# for sample, channel_to_img in sample_to_imgs.items():\n",
    "#     print(sample)\n",
    "#     img = display_image_gamma(channel_to_img, channel_map, clip=.03)\n",
    "#     plt.imshow(img)\n",
    "#     plt.imsave(os.path.join(fig_dir, f'{sample}.png'), img)\n",
    "#     plt.show()\n",
    "# display_legend({k:m for k, (m, g) in channel_map.items()})\n",
    "# plt.subplots_adjust(wspace=2.)\n",
    "# plt.savefig(os.path.join(fig_dir, 'legend.png'))"
   ]
  },
  {
   "cell_type": "code",
   "execution_count": null,
   "metadata": {
    "hidden": true
   },
   "outputs": [],
   "source": [
    "import os\n",
    "channel_map = {\n",
    "    'DAPI1': ('#0000ff', .9),\n",
    "    'ecadherin': ('#ff0000', .9),\n",
    "    'CD8': ('#00ff00', .9),\n",
    "    'CD20': ('#ff00ff', .9),\n",
    "#     'CD31': ('#00ffff', .9),\n",
    "    'Ki67': ('#ffff00', .9),\n",
    "}\n",
    "\n",
    "channel_map = {\n",
    "    'CD49f': ('#0000ff', .9),\n",
    "    'CD90': ('#ff0000', .9),\n",
    "    'CD21': ('#00ff00', .9),\n",
    "    'CD169': ('#ff00ff', .9),\n",
    "    'CD45R': ('#00ffff', .9),\n",
    "    'CD31': ('#ffff00', .9),\n",
    "}\n",
    "# ['CD140', 'CD90.2', 'CD31', 'MHCII', 'CD38', 'PDCA-1'])\n",
    "channel_map = {\n",
    "    'CD140': '#0000ff', ## blue\n",
    "    'CD90.2': '#ff0000', ## red\n",
    "    'PDCA-1': '#00ff00', ## green\n",
    "    'MHCII': '#ff00ff', ## purple\n",
    "    'Ki67': '#ffff00', ## yellow\n",
    "    'CD31': '#00ffff', ## light blue\n",
    "}\n",
    "# channel_map = {\n",
    "#     'CD140': ('#0000ff', .5), ## blue\n",
    "#     'CD90.2': ('#ff0000', .5), ## red\n",
    "#     'CD90.2': ('#00ff00', .5), ## green\n",
    "#     'MHCII': ('#ff00ff', .5), ## purple\n",
    "#     'PDCA-1': ('#ffff00', .5), ## yellow\n",
    "#     'CD31': ('#00ffff', .5), ## light blue\n",
    "# }\n",
    "\n",
    "\n",
    "channel_to_img = next(iter(sample_to_imgs.values()))\n",
    "print('start')\n",
    "# img = display_image_gamma(channel_to_img, channel_map)\n",
    "# img = display_image_raw(channel_to_img, channel_map)\n",
    "img = display_image_generic(channel_to_img, channel_map, clip=.03)\n",
    "print('done creating')\n",
    "from pathlib import Path\n",
    "fig_dir = '/home/estorrs/imaging/results/display/adult_kidney'\n",
    "Path(fig_dir).mkdir(parents=True, exist_ok=True)\n",
    "print('saving')\n",
    "plt.imsave(os.path.join(fig_dir, f'test_kidney.png'), img)"
   ]
  },
  {
   "cell_type": "code",
   "execution_count": null,
   "metadata": {
    "hidden": true
   },
   "outputs": [],
   "source": [
    "plt.subplots(figsize=(10, 10))\n",
    "plt.imshow(img[:5000, :5000])"
   ]
  },
  {
   "cell_type": "code",
   "execution_count": null,
   "metadata": {
    "hidden": true
   },
   "outputs": [],
   "source": [
    "img.shape"
   ]
  },
  {
   "cell_type": "code",
   "execution_count": null,
   "metadata": {
    "hidden": true
   },
   "outputs": [],
   "source": [
    "def display_legend(channel_map):\n",
    "    fig, axs = plt.subplots(ncols=len(channel_map), figsize=(5, 1))\n",
    "    for i, (c, color) in enumerate(channel_map.items()):\n",
    "        ax = axs[i]\n",
    "        ax.axhline(0, color=color, linewidth=110)\n",
    "        ax.set_ylabel(c)\n",
    "        ax.set_xticks([])\n",
    "        ax.set_yticks([])\n",
    "    return axs"
   ]
  },
  {
   "cell_type": "code",
   "execution_count": null,
   "metadata": {
    "hidden": true
   },
   "outputs": [],
   "source": [
    "# display_legend(channel_map)\n",
    "import os\n",
    "display_legend({k:m for k, (m, g) in channel_map.items()})\n",
    "# display_legend({k:m for k, m in channel_map.items()})\n",
    "# plt.tight_layout(pad=50.0)\n",
    "plt.subplots_adjust(wspace=2.)\n",
    "plt.savefig(os.path.join(fig_dir, 'legend.png'))"
   ]
  },
  {
   "cell_type": "markdown",
   "metadata": {},
   "source": [
    "#### do nuclear and membrane segmentation"
   ]
  },
  {
   "cell_type": "code",
   "execution_count": null,
   "metadata": {},
   "outputs": [],
   "source": [
    "# from deepcell.applications import ScaleDetection"
   ]
  },
  {
   "cell_type": "code",
   "execution_count": null,
   "metadata": {},
   "outputs": [],
   "source": [
    "# m = ScaleDetection()"
   ]
  },
  {
   "cell_type": "code",
   "execution_count": null,
   "metadata": {},
   "outputs": [],
   "source": [
    "app = MultiplexSegmentation()\n",
    "def get_coordinates(img):\n",
    "    ids = sorted(set(img.flatten()))\n",
    "    d = {}\n",
    "    for c_id in ids:\n",
    "        idxs = np.argwhere(img==c_id)\n",
    "        r1, r2 = min(idxs[:, 0].flatten()), max(idxs[:, 0].flatten())\n",
    "        c1, c2 = min(idxs[:, 1].flatten()), max(idxs[:, 1].flatten())\n",
    "        d[c_id] = (r1 + ((r2 - r1) * .5), c1 + ((c2 - c1) * .5))\n",
    "    return d\n",
    "\n",
    "def run_whole_cell_segmentation(nuclear_img, membrane_img):\n",
    "    img = np.stack((nuclear_img, membrane_img), axis=-1)\n",
    "    img = np.expand_dims(img, 0)\n",
    "    return app.predict(img, image_mpp=1)[0, :, :, 0]\n",
    "\n",
    "# def run_whole_cell_segmentation(nuclear_img, membrane_img, w=140, p=30):\n",
    "#     \"\"\"Return 64 bit int segmentation mask for given nuclear and membrane images\"\"\"\n",
    "#     im = np.stack((nuclear_img, membrane_img), axis=-1)\n",
    "#     w = 140\n",
    "#     p = 30\n",
    "\n",
    "#     nrows = int(im.shape[0] / w) + 1\n",
    "#     ncols = int(im.shape[1] / w) + 1\n",
    "\n",
    "#     img = np.zeros(((w * nrows) + (p*2), (w * ncols) + (p*2), im.shape[2]))\n",
    "#     img[p:im.shape[0] + p, p:im.shape[1] + p, :] = im\n",
    "#     imgs = None\n",
    "#     for r in range(nrows):\n",
    "#         for c in range(ncols):\n",
    "#             r1, r2 = (r * w), ((r+1) * w) + (p*2)\n",
    "#             c1, c2 = (c * w), ((c+1) * w) + (p*2)\n",
    "\n",
    "#             small = img[r1:r2, c1:c2]\n",
    "#             small = np.expand_dims(small, 0)\n",
    "\n",
    "#             if imgs is None:\n",
    "#                 imgs = small\n",
    "#             else:\n",
    "#                 imgs = np.concatenate((imgs, small), axis=0)\n",
    "\n",
    "#     labeled_img = app.predict(imgs, image_mpp=1)\n",
    "    \n",
    "    \n",
    "#     final = np.zeros(((w * nrows) + (p*2), (w * ncols) + (p*2))).astype(np.int64)\n",
    "#     count = 0\n",
    "#     for r in range(nrows):\n",
    "#         for c in range(ncols):\n",
    "#             r1, r2 = (r * w), ((r+1) * w) + (p*2)\n",
    "#             c1, c2 = (c * w), ((c+1) * w) + (p*2)\n",
    "#             small = labeled_img[count, :, :, 0].copy()\n",
    "\n",
    "#             wr1, wr2 = r1 + p, r2 - p\n",
    "#             wc1, wc2 = c1 + p, c2 - p\n",
    "#             cell_to_center = get_coordinates(small)\n",
    "#             # remove cells whose center point fall outside of the window\n",
    "#             for c_id in sorted(set(small.flatten())):\n",
    "#                 x, y = cell_to_center[c_id]\n",
    "#     #             print(x, y)\n",
    "#                 if y < p: small[small==c_id] = 0\n",
    "#                 if y > small.shape[0] - p: small[small==c_id] = 0\n",
    "#                 if x < p: small[small==c_id] = 0\n",
    "#                 if x > small.shape[1] - p: small[small==c_id] = 0\n",
    "\n",
    "#             current = len(set(final.flatten()))\n",
    "#             labels = sorted(set(small.flatten()))\n",
    "#             for label in labels:\n",
    "#                 if label != 0: small[small==label] = label + current\n",
    "#             i2 = np.zeros(final.shape)\n",
    "#             i2[r1:r2, c1:c2] = small\n",
    "#             final = final + i2\n",
    "#             count+=1\n",
    "\n",
    "#     final = final[p:im.shape[0] + p, p:im.shape[1] + p]\n",
    "\n",
    "#     # reassign labels so they actually are in order\n",
    "#     to_new_label = {c:i for i, c in enumerate(sorted(set(final.flatten())))}\n",
    "#     for old, new in to_new_label.items():\n",
    "#         final[final==old] = int(new)\n",
    "#     final = final.astype(np.int64)\n",
    "\n",
    "#     return final\n",
    "            \n"
   ]
  },
  {
   "cell_type": "code",
   "execution_count": null,
   "metadata": {},
   "outputs": [],
   "source": [
    "next(iter(sample_to_imgs.values())).keys()"
   ]
  },
  {
   "cell_type": "code",
   "execution_count": null,
   "metadata": {},
   "outputs": [],
   "source": []
  },
  {
   "cell_type": "code",
   "execution_count": null,
   "metadata": {
    "scrolled": true
   },
   "outputs": [],
   "source": [
    "for obj in [sti_raw, sti_CLAHE, sti_gaussian]:\n",
    "    for sample, d in obj.items():\n",
    "        print(sample)\n",
    "        mask = run_whole_cell_segmentation(d['nuclear'], d['membrane'])\n",
    "#         mask = run_whole_cell_segmentation(d['nuclear'], np.zeros(d['membrane'].shape))\n",
    "        d['segmentation_mask'] = mask"
   ]
  },
  {
   "cell_type": "code",
   "execution_count": null,
   "metadata": {},
   "outputs": [],
   "source": [
    "# for obj in [sti_raw, sti_CLAHE, sti_gaussian, sti_CLAHE_gaussian, sti_gaussian_CLAHE]:\n",
    "#     for sample, d in obj.items():\n",
    "#         print(sample)\n",
    "#         mask = run_nuclear_segmentation(d['nuclear'])\n",
    "#         d['nuclear_segmentation_mask'] = mask"
   ]
  },
  {
   "cell_type": "code",
   "execution_count": null,
   "metadata": {},
   "outputs": [],
   "source": [
    "import random\n",
    "def display_mask(mask):\n",
    "    colors = sns.color_palette('tab20')\n",
    "#     colors = [(1., 0., 0.), (0., 1., 0.), (0., 0., 1.)]\n",
    "    new = np.zeros((mask.shape[0], mask.shape[1], 3), dtype=np.float32)\n",
    "    for i in sorted(set(mask.flatten())):\n",
    "        if i:\n",
    "            red, green, blue = random.choice(colors)\n",
    "            rs, cs = np.where(mask==i)\n",
    "            for r, c in zip(rs, cs):\n",
    "                new[r, c, 0] = red * 255\n",
    "                new[r, c, 1] = green * 255\n",
    "                new[r, c, 2] = blue * 255\n",
    "    new = new.astype(np.uint8)\n",
    "    return new\n",
    "        \n",
    "    "
   ]
  },
  {
   "cell_type": "code",
   "execution_count": null,
   "metadata": {},
   "outputs": [],
   "source": [
    "sti_raw.keys()"
   ]
  },
  {
   "cell_type": "code",
   "execution_count": null,
   "metadata": {},
   "outputs": [],
   "source": [
    "k = 'HT_077B1_S1H1_A1_A4_100620_ROI_A4_b1'\n",
    "w = [(100, 600), (100, 800)]"
   ]
  },
  {
   "cell_type": "code",
   "execution_count": null,
   "metadata": {},
   "outputs": [],
   "source": []
  },
  {
   "cell_type": "code",
   "execution_count": null,
   "metadata": {},
   "outputs": [],
   "source": [
    "# labeled_img = app.predict(np.expand_dims(np.stack((sti_raw[k]['nuclear'], sti_raw[k]['membrane']), axis=-1), 0),\n",
    "#                          image_mpp=1)"
   ]
  },
  {
   "cell_type": "code",
   "execution_count": null,
   "metadata": {},
   "outputs": [],
   "source": [
    "# plt.imshow(display_mask(labeled_img[0, :, :, 0]))"
   ]
  },
  {
   "cell_type": "code",
   "execution_count": null,
   "metadata": {},
   "outputs": [],
   "source": [
    "n = display_mask(sti_raw[k]['segmentation_mask'])\n",
    "plt.imshow(n, )"
   ]
  },
  {
   "cell_type": "code",
   "execution_count": null,
   "metadata": {},
   "outputs": [],
   "source": [
    "# n = display_mask(sti_raw[k]['segmentation_mask'][w[0][0]:w[0][1], w[1][0]:w[1][1]])\n",
    "# plt.imshow(n, )"
   ]
  },
  {
   "cell_type": "code",
   "execution_count": null,
   "metadata": {},
   "outputs": [],
   "source": [
    "plt.imshow(exposure.adjust_gamma(sti_raw[k]['nuclear'], .4))"
   ]
  },
  {
   "cell_type": "code",
   "execution_count": null,
   "metadata": {},
   "outputs": [],
   "source": [
    "plt.imshow(exposure.adjust_gamma(sti_raw[k]['membrane'], .4))"
   ]
  },
  {
   "cell_type": "code",
   "execution_count": null,
   "metadata": {},
   "outputs": [],
   "source": [
    "plt.imshow(exposure.adjust_gamma(sti_raw[k]['cellseg2'], .4))"
   ]
  },
  {
   "cell_type": "code",
   "execution_count": null,
   "metadata": {},
   "outputs": [],
   "source": [
    "def get_segmentation_comparison(objs, labels, window=None, figsize=(10, 10)):\n",
    "    fig, axs = plt.subplots(nrows=3, ncols=len(labels), sharex=True, sharey=True)\n",
    "    for i, obj in enumerate(objs):\n",
    "        if window is None: window = [(0, obj[k]['segmentation_mask'].shape[0]), (0, obj[k]['segmentation_mask'].shape[1])]\n",
    "        ax1, ax2, ax3 = axs[0, i], axs[1, i], axs[2, i]\n",
    "        mask = obj[k]['segmentation_mask'][window[0][0]:window[0][1], window[1][0]:window[1][1]]\n",
    "        img1 = display_mask(mask).copy()\n",
    "        \n",
    "        img = obj[k]['nuclear'][window[0][0]:window[0][1], window[1][0]:window[1][1]]\n",
    "        if labels[i] !='CLAHE': img = exposure.adjust_gamma(img, .4)\n",
    "        img2 = img.copy()\n",
    "        \n",
    "        img = obj[k]['membrane'][window[0][0]:window[0][1], window[1][0]:window[1][1]]\n",
    "        if labels[i] !='CLAHE': img = exposure.adjust_gamma(img, .4)\n",
    "        img3 = img.copy()\n",
    "        \n",
    "        ax1.imshow(img1)\n",
    "        ax1.set_title(labels[i])\n",
    "        \n",
    "        ax2.imshow(img2)\n",
    "        ax3.imshow(img3)\n",
    "        \n",
    "    plt.tight_layout()"
   ]
  },
  {
   "cell_type": "code",
   "execution_count": null,
   "metadata": {},
   "outputs": [],
   "source": []
  },
  {
   "cell_type": "code",
   "execution_count": null,
   "metadata": {},
   "outputs": [],
   "source": [
    "import matplotlib as mpl\n",
    "mpl.rcParams['figure.dpi'] = 300"
   ]
  },
  {
   "cell_type": "code",
   "execution_count": null,
   "metadata": {},
   "outputs": [],
   "source": [
    "get_segmentation_comparison([sti_raw, sti_CLAHE, sti_gaussian],\n",
    "                           ['raw', 'CLAHE', 'gaussian'])"
   ]
  },
  {
   "cell_type": "code",
   "execution_count": null,
   "metadata": {},
   "outputs": [],
   "source": [
    "w1 = [(100, 200), (500, 600)]\n",
    "get_segmentation_comparison([sti_raw, sti_CLAHE, sti_gaussian],\n",
    "                           ['raw', 'CLAHE', 'gaussian'],\n",
    "                           window=w1)"
   ]
  },
  {
   "cell_type": "code",
   "execution_count": null,
   "metadata": {},
   "outputs": [],
   "source": [
    "w1 = [(400, 500), (200, 300)]\n",
    "get_segmentation_comparison([sti_raw, sti_CLAHE, sti_gaussian],\n",
    "                           ['raw', 'CLAHE', 'gaussian'],\n",
    "                           window=w1)"
   ]
  },
  {
   "cell_type": "code",
   "execution_count": null,
   "metadata": {},
   "outputs": [],
   "source": [
    "w1 = [(0, 200), (-200, -1)]\n",
    "get_segmentation_comparison([sti_raw, sti_CLAHE, sti_gaussian],\n",
    "                           ['raw', 'CLAHE', 'gaussian'],\n",
    "                           window=w1)"
   ]
  },
  {
   "cell_type": "code",
   "execution_count": null,
   "metadata": {},
   "outputs": [],
   "source": [
    "w1 = [(200, 300), (300, 400)]\n",
    "get_segmentation_comparison([sti_raw, sti_CLAHE, sti_gaussian],\n",
    "                           ['raw', 'CLAHE', 'gaussian'],\n",
    "                           window=w1)"
   ]
  },
  {
   "cell_type": "code",
   "execution_count": null,
   "metadata": {},
   "outputs": [],
   "source": []
  },
  {
   "cell_type": "code",
   "execution_count": null,
   "metadata": {},
   "outputs": [],
   "source": []
  },
  {
   "cell_type": "code",
   "execution_count": null,
   "metadata": {},
   "outputs": [],
   "source": [
    "## save segmentation_mask\n",
    "seg_dir = hyperior_folder.replace('/ome-tiff_htan/', '/segmentation')\n",
    "Path(seg_dir).mkdir(exist_ok=True, parents=True)\n",
    "for sample, d in sample_to_imgs.items():\n",
    "    tifffile.imsave(os.path.join(seg_dir, f'{sample}.ome.tiff'), d['segmentation_mask'].astype(np.int32), ome=True)"
   ]
  },
  {
   "cell_type": "markdown",
   "metadata": {},
   "source": [
    "#### get intensities and normalize"
   ]
  },
  {
   "cell_type": "code",
   "execution_count": null,
   "metadata": {},
   "outputs": [],
   "source": [
    "def initialize_anndata(sample_to_imgs):\n",
    "    adata = None\n",
    "    for sample, d in sample_to_imgs.items():\n",
    "        print(sample)\n",
    "        segmentation_mask = d['segmentation_mask']\n",
    "        # we exclude 0 bc thats not a cell\n",
    "        cells = sorted(set(segmentation_mask.flatten()))[1:]\n",
    "        data, channels = [], [c for c in d.keys() if c not in ['segmentation_mask', 'nuclear', 'membrane']]\n",
    "        areas, xs, ys = [], [], []\n",
    "        for cell in cells:\n",
    "            mask = segmentation_mask==cell\n",
    "            area = np.count_nonzero(mask)\n",
    "            rs, cs = np.where(mask)\n",
    "            xs.append(int((np.max(cs) - np.min(cs)) / 2) + np.min(cs))\n",
    "            ys.append(int((np.max(rs) - np.min(rs)) / 2) + np.min(rs))\n",
    "            areas.append(area)\n",
    "            ls = []\n",
    "            for channel in channels:\n",
    "                ls.append(np.sum(d[channel][mask]) / area)\n",
    "            data.append(ls)\n",
    "\n",
    "        df = pd.DataFrame(data=data, columns=channels, index=[f'{sample}_{i}' for i in range(1, len(cells)+1)])\n",
    "        small = anndata.AnnData(X=df.values)\n",
    "        small.obs.index = df.index.to_list()\n",
    "        small.var.index = df.columns\n",
    "        small.obs['area'] = areas\n",
    "        small.obs['x'] = xs\n",
    "        small.obs['y'] = ys\n",
    "        small.obs['sample'] = sample\n",
    "        small.obs['batch'] = sample.split('_')[-1]\n",
    "\n",
    "        if adata is None:\n",
    "            adata = small\n",
    "        else:\n",
    "            adata = anndata.concat((adata, small))\n",
    "    return adata"
   ]
  },
  {
   "cell_type": "code",
   "execution_count": null,
   "metadata": {
    "scrolled": true
   },
   "outputs": [],
   "source": [
    "adata_map = {name:initialize_anndata(obj)\n",
    "            for obj, name in zip([sti_raw, sti_CLAHE, sti_gaussian],\n",
    "                          ['raw', 'CLAHE', 'gaussian', 'CLAHE_gaussian', 'gaussian_CLAHE'])}"
   ]
  },
  {
   "cell_type": "code",
   "execution_count": null,
   "metadata": {
    "scrolled": true
   },
   "outputs": [],
   "source": [
    "# adata = None\n",
    "# for sample, d in sample_to_imgs.items():\n",
    "#     print(sample)\n",
    "#     segmentation_mask = d['segmentation_mask']\n",
    "#     # we exclude 0 bc thats not a cell\n",
    "#     cells = sorted(set(segmentation_mask.flatten()))[1:]\n",
    "#     data, channels = [], [c for c in d.keys() if c not in ['segmentation_mask', 'nuclear', 'membrane']]\n",
    "#     areas, xs, ys = [], [], []\n",
    "#     for cell in cells:\n",
    "#         mask = segmentation_mask==cell\n",
    "#         area = np.count_nonzero(mask)\n",
    "#         rs, cs = np.where(mask)\n",
    "#         xs.append(int((np.max(cs) - np.min(cs)) / 2) + np.min(cs))\n",
    "#         ys.append(int((np.max(rs) - np.min(rs)) / 2) + np.min(rs))\n",
    "#         areas.append(area)\n",
    "#         ls = []\n",
    "#         for channel in channels:\n",
    "#             ls.append(np.sum(d[channel][mask]) / area)\n",
    "#         data.append(ls)\n",
    "    \n",
    "#     df = pd.DataFrame(data=data, columns=channels, index=[f'{sample}_{i}' for i in range(len(cells))])\n",
    "#     small = anndata.AnnData(X=df.values)\n",
    "#     small.obs.index = df.index.to_list()\n",
    "#     small.var.index = df.columns\n",
    "#     small.obs['area'] = areas\n",
    "#     small.obs['x'] = xs\n",
    "#     small.obs['y'] = ys\n",
    "#     small.obs['sample'] = sample\n",
    "    \n",
    "#     if adata is None:\n",
    "#         adata = small\n",
    "#     else:\n",
    "#         adata = anndata.concat((adata, small))\n",
    "# adata"
   ]
  },
  {
   "cell_type": "code",
   "execution_count": null,
   "metadata": {},
   "outputs": [],
   "source": [
    "adata_map['raw']"
   ]
  },
  {
   "cell_type": "code",
   "execution_count": null,
   "metadata": {
    "scrolled": true
   },
   "outputs": [],
   "source": [
    "adata_map['raw'].obs"
   ]
  },
  {
   "cell_type": "code",
   "execution_count": null,
   "metadata": {},
   "outputs": [],
   "source": [
    "import seaborn as sns\n",
    "sns.distplot([x for x in adata_map['raw'].obs['area'] if x <= 1000])"
   ]
  },
  {
   "cell_type": "code",
   "execution_count": null,
   "metadata": {},
   "outputs": [],
   "source": [
    "for name, adata in adata_map.items():\n",
    "#     filtered = adata[adata.obs['area']<=500]\n",
    "    filtered = adata[adata.obs['area']>=4]\n",
    "    adata_map[name] = filtered"
   ]
  },
  {
   "cell_type": "code",
   "execution_count": null,
   "metadata": {},
   "outputs": [],
   "source": [
    "# # save adatas \n",
    "# adata.write_h5ad('../results/sandbox/presentation_adata.h5ad')\n",
    "# filtered.write_h5ad('../results/sandbox/presentation_filtered.h5ad')"
   ]
  },
  {
   "cell_type": "markdown",
   "metadata": {},
   "source": [
    "###### trying svca"
   ]
  },
  {
   "cell_type": "markdown",
   "metadata": {},
   "source": [
    "#### UMAP/leiden based cell typing"
   ]
  },
  {
   "cell_type": "code",
   "execution_count": null,
   "metadata": {},
   "outputs": [],
   "source": [
    "def process_intensity_adata(adata):\n",
    "    adata.raw = adata\n",
    "    sc.pp.scale(adata)\n",
    "    sc.pp.pca(adata)\n",
    "    sc.pp.neighbors(adata, n_neighbors=5)\n",
    "    sc.tl.umap(adata)\n",
    "    \n",
    "    return adata"
   ]
  },
  {
   "cell_type": "code",
   "execution_count": null,
   "metadata": {},
   "outputs": [],
   "source": [
    "regular_map = {}\n",
    "for name, adata in adata_map.items():\n",
    "    regular_map[name] = process_intensity_adata(adata.copy())"
   ]
  },
  {
   "cell_type": "code",
   "execution_count": null,
   "metadata": {},
   "outputs": [],
   "source": [
    "mpl.rcParams['figure.figsize']"
   ]
  },
  {
   "cell_type": "code",
   "execution_count": null,
   "metadata": {},
   "outputs": [],
   "source": [
    "mpl.rcParams['figure.figsize'] = (5, 5)\n",
    "sc.pl.umap(regular_map['raw'], color='sample')"
   ]
  },
  {
   "cell_type": "code",
   "execution_count": null,
   "metadata": {},
   "outputs": [],
   "source": [
    "sc.pl.umap(regular_map['raw'], color='Pan Keratin')"
   ]
  },
  {
   "cell_type": "code",
   "execution_count": null,
   "metadata": {},
   "outputs": [],
   "source": []
  },
  {
   "cell_type": "code",
   "execution_count": null,
   "metadata": {},
   "outputs": [],
   "source": []
  },
  {
   "cell_type": "code",
   "execution_count": null,
   "metadata": {},
   "outputs": [],
   "source": [
    "adata = adata_map['raw'].copy()\n",
    "set(adata.obs['sample'])"
   ]
  },
  {
   "cell_type": "code",
   "execution_count": null,
   "metadata": {},
   "outputs": [],
   "source": [
    "ref = adata[adata.obs['sample']=='HT061P1_PA_A1_A4_ROI_03_b1']\n",
    "ref"
   ]
  },
  {
   "cell_type": "code",
   "execution_count": null,
   "metadata": {},
   "outputs": [],
   "source": [
    "rest = adata[adata.obs['sample']!='HT061P1_PA_A1_A4_ROI_03_b1']\n",
    "rest"
   ]
  },
  {
   "cell_type": "code",
   "execution_count": null,
   "metadata": {},
   "outputs": [],
   "source": [
    "rest_processed = process_intensity_adata(rest.copy())"
   ]
  },
  {
   "cell_type": "code",
   "execution_count": null,
   "metadata": {},
   "outputs": [],
   "source": [
    "ref_processed = process_intensity_adata(ref.copy())\n",
    "sc.pl.umap(ref_processed, color=['Pan Keratin'])"
   ]
  },
  {
   "cell_type": "code",
   "execution_count": null,
   "metadata": {},
   "outputs": [],
   "source": [
    "sc.tl.leiden(ref_processed, resolution=1.)\n",
    "sc.pl.umap(ref_processed, color=['Pan Keratin', 'leiden'])"
   ]
  },
  {
   "cell_type": "code",
   "execution_count": null,
   "metadata": {},
   "outputs": [],
   "source": [
    "sc.pl.umap(ref_processed, color=['Pan Keratin', 'CD8a', 'Ki67'])"
   ]
  },
  {
   "cell_type": "code",
   "execution_count": null,
   "metadata": {},
   "outputs": [],
   "source": [
    "# from sklearn.preprocessing import StandardScaler\n",
    "# import umap\n",
    "# X = umap.UMAP().fit_transform(StandardScaler().fit_transform(ref.X))\n",
    "# ref_processed.obsm['X_umap_2'] = X"
   ]
  },
  {
   "cell_type": "code",
   "execution_count": null,
   "metadata": {},
   "outputs": [],
   "source": [
    "ref_processed.var"
   ]
  },
  {
   "cell_type": "code",
   "execution_count": null,
   "metadata": {},
   "outputs": [],
   "source": [
    "# sc.pl.embedding(ref_processed, basis='X_umap_2', color=['Pan Keratin', 'CD8a', 'Ki67'])"
   ]
  },
  {
   "cell_type": "code",
   "execution_count": null,
   "metadata": {},
   "outputs": [],
   "source": [
    "# sc.pl.embedding(ref_processed, basis='X_umap_2', color=['leiden'])"
   ]
  },
  {
   "cell_type": "code",
   "execution_count": null,
   "metadata": {},
   "outputs": [],
   "source": []
  },
  {
   "cell_type": "code",
   "execution_count": null,
   "metadata": {},
   "outputs": [],
   "source": [
    "sc.tl.ingest(rest_processed, ref_processed, obs='leiden')"
   ]
  },
  {
   "cell_type": "code",
   "execution_count": null,
   "metadata": {},
   "outputs": [],
   "source": [
    "sc.pl.embedding(rest_processed, basis='X_umap', color=['leiden'])"
   ]
  },
  {
   "cell_type": "code",
   "execution_count": null,
   "metadata": {},
   "outputs": [],
   "source": [
    "sc.pl.embedding(rest_processed, basis='X_umap', color=['Pan Keratin', 'CD8a', 'Ki67'])"
   ]
  },
  {
   "cell_type": "code",
   "execution_count": null,
   "metadata": {},
   "outputs": [],
   "source": [
    "integrated = ref_processed.concatenate(rest_processed)\n",
    "integrated"
   ]
  },
  {
   "cell_type": "code",
   "execution_count": null,
   "metadata": {},
   "outputs": [],
   "source": [
    "sc.pl.umap(integrated, color=['leiden'])"
   ]
  },
  {
   "cell_type": "code",
   "execution_count": null,
   "metadata": {},
   "outputs": [],
   "source": [
    "sc.pl.umap(integrated, color=['Pan Keratin', 'CD8a', 'Ki67'], vmax=30., use_raw=True)"
   ]
  },
  {
   "cell_type": "code",
   "execution_count": null,
   "metadata": {},
   "outputs": [],
   "source": [
    "sc.pl.umap(integrated, color=['Pan Keratin', 'CD8a', 'CD4', 'Ki67'], vmax=10., use_raw=False)"
   ]
  },
  {
   "cell_type": "code",
   "execution_count": null,
   "metadata": {},
   "outputs": [],
   "source": [
    "sc.pl.umap(integrated, color=integrated.var.index, use_raw=True)"
   ]
  },
  {
   "cell_type": "code",
   "execution_count": null,
   "metadata": {},
   "outputs": [],
   "source": [
    "sc.pl.umap(integrated, color=['Pan Keratin', 'CD8a', 'Ki67'], vmax=10., use_raw=False)"
   ]
  },
  {
   "cell_type": "code",
   "execution_count": null,
   "metadata": {},
   "outputs": [],
   "source": [
    "sc.pl.umap(integrated, color=['batch', 'sample'], vmax=10., use_raw=False)"
   ]
  },
  {
   "cell_type": "code",
   "execution_count": null,
   "metadata": {},
   "outputs": [],
   "source": []
  },
  {
   "cell_type": "code",
   "execution_count": null,
   "metadata": {},
   "outputs": [],
   "source": [
    "# pull up high ki67 cells across each sample"
   ]
  },
  {
   "cell_type": "code",
   "execution_count": null,
   "metadata": {},
   "outputs": [],
   "source": []
  },
  {
   "cell_type": "code",
   "execution_count": null,
   "metadata": {},
   "outputs": [],
   "source": []
  },
  {
   "cell_type": "code",
   "execution_count": null,
   "metadata": {},
   "outputs": [],
   "source": []
  },
  {
   "cell_type": "code",
   "execution_count": null,
   "metadata": {},
   "outputs": [],
   "source": []
  },
  {
   "cell_type": "code",
   "execution_count": null,
   "metadata": {},
   "outputs": [],
   "source": [
    "tumor = integrated[integrated.obs['leiden']=='7']\n",
    "tumor"
   ]
  },
  {
   "cell_type": "code",
   "execution_count": null,
   "metadata": {},
   "outputs": [],
   "source": [
    "tumor[:, 'Ki67'].raw.X.flatten()"
   ]
  },
  {
   "cell_type": "code",
   "execution_count": null,
   "metadata": {},
   "outputs": [],
   "source": [
    "target = tumor[tumor[:, 'Ki67'].X.flatten() >= 2.]\n",
    "target"
   ]
  },
  {
   "cell_type": "code",
   "execution_count": null,
   "metadata": {},
   "outputs": [],
   "source": [
    "target.obs.index"
   ]
  },
  {
   "cell_type": "code",
   "execution_count": null,
   "metadata": {},
   "outputs": [],
   "source": [
    "sample_adata = integrated[integrated.obs['sample']=='HT064B1_H1_A1_A4_ROI_03_b1']\n",
    "sample_adata.obs"
   ]
  },
  {
   "cell_type": "code",
   "execution_count": null,
   "metadata": {},
   "outputs": [],
   "source": [
    "sample_adata.obs['highlight'] = [True if x in target.obs.index else False for x in sample_adata.obs.index]"
   ]
  },
  {
   "cell_type": "code",
   "execution_count": null,
   "metadata": {},
   "outputs": [],
   "source": [
    "sc.pl.scatter(sample_adata, x='y', y='x', color='highlight')"
   ]
  },
  {
   "cell_type": "code",
   "execution_count": null,
   "metadata": {},
   "outputs": [],
   "source": []
  },
  {
   "cell_type": "code",
   "execution_count": null,
   "metadata": {},
   "outputs": [],
   "source": []
  },
  {
   "cell_type": "code",
   "execution_count": null,
   "metadata": {},
   "outputs": [],
   "source": []
  },
  {
   "cell_type": "code",
   "execution_count": null,
   "metadata": {},
   "outputs": [],
   "source": []
  },
  {
   "cell_type": "code",
   "execution_count": null,
   "metadata": {},
   "outputs": [],
   "source": []
  },
  {
   "cell_type": "code",
   "execution_count": null,
   "metadata": {},
   "outputs": [],
   "source": []
  },
  {
   "cell_type": "code",
   "execution_count": null,
   "metadata": {},
   "outputs": [],
   "source": []
  },
  {
   "cell_type": "code",
   "execution_count": null,
   "metadata": {},
   "outputs": [],
   "source": [
    "# !pip install leidenalg"
   ]
  },
  {
   "cell_type": "code",
   "execution_count": null,
   "metadata": {},
   "outputs": [],
   "source": [
    "clustering = filtered.copy()\n",
    "exclude = {'PD1', 'PD-L1', 'Lag3', 'CD45RO', 'HLA-DR', 'HistoneH3', 'DNA', 'cellseg1', 'cellseg2', 'cellseg3',\n",
    "          'CKG', 'GranzymeB', 'CD11c', 'CD133'}\n",
    "clustering = clustering[:, [v for v in clustering.var.index if v not in exclude]]\n",
    "sc.pp.pca(clustering)\n",
    "sc.pp.neighbors(clustering, n_neighbors=15)\n",
    "sc.tl.umap(clustering)\n",
    "sc.tl.leiden(clustering, resolution=1.)"
   ]
  },
  {
   "cell_type": "code",
   "execution_count": null,
   "metadata": {},
   "outputs": [],
   "source": [
    "sc.pl.umap(clustering, color=[c for c in clustering.var.index], ncols=3)"
   ]
  },
  {
   "cell_type": "code",
   "execution_count": null,
   "metadata": {},
   "outputs": [],
   "source": [
    "sc.pl.umap(clustering, color=['sample', 'leiden'], ncols=1, legend_loc='on data')"
   ]
  },
  {
   "cell_type": "code",
   "execution_count": null,
   "metadata": {},
   "outputs": [],
   "source": [
    "cell_to_cluster = {\n",
    "    'Malignant': ['13', '7', '15', '19', '21'],\n",
    "    'Endothelial/CAF': ['4', '12', '11', '20', '6'],\n",
    "    'Monocyte': ['1'],\n",
    "    'CD4': ['16'],\n",
    "    'CD8': ['9'],\n",
    "    'Treg': ['18'],\n",
    "    'Dendritic': ['14'],\n",
    "    'B': ['8'],\n",
    "    'Proliferating': ['2', '3']\n",
    "}\n",
    "cluster_to_cell = {v:k for k, vs in cell_to_cluster.items() for v in vs}\n",
    "clustering.obs['cell_type'] = [cluster_to_cell.get(x, 'Other') for x in clustering.obs['leiden']]\n"
   ]
  },
  {
   "cell_type": "code",
   "execution_count": null,
   "metadata": {},
   "outputs": [],
   "source": [
    "sc.pl.umap(clustering, color=['leiden', 'cell_type'])"
   ]
  },
  {
   "cell_type": "code",
   "execution_count": null,
   "metadata": {},
   "outputs": [],
   "source": [
    "small = clustering.copy()\n",
    "small = small[small.obs['cell_type']=='Endothelial/CAF']\n",
    "sc.pp.pca(small)\n",
    "sc.pp.neighbors(small, n_neighbors=15)\n",
    "sc.tl.umap(small)\n",
    "sc.tl.leiden(small, resolution=.5)"
   ]
  },
  {
   "cell_type": "code",
   "execution_count": null,
   "metadata": {},
   "outputs": [],
   "source": [
    "sc.pl.umap(small, color=['leiden', 'SMA', 'Vimentin', 'FAP', 'CD74', 'Type1Coll', 'CD31'])"
   ]
  },
  {
   "cell_type": "code",
   "execution_count": null,
   "metadata": {},
   "outputs": [],
   "source": [
    "d = {\n",
    "    'myCAF': ['7'],\n",
    "    'Endothelial': ['8', '0', '6'],\n",
    "    'CAF1': ['1'],\n",
    "    'CAF2': ['2']\n",
    "}\n",
    "r = {v:k for k, vs in d.items() for v in vs}\n",
    "small.obs['cell_type'] = [r.get(x, 'Other') for x in small.obs['leiden']]\n"
   ]
  },
  {
   "cell_type": "code",
   "execution_count": null,
   "metadata": {},
   "outputs": [],
   "source": [
    "sc.pl.umap(small, color=['cell_type'])"
   ]
  },
  {
   "cell_type": "code",
   "execution_count": null,
   "metadata": {},
   "outputs": [],
   "source": [
    "clustering.obs['cell_type'] = [small.obs.loc[i, 'cell_type'] if c=='Endothelial/CAF' else c\n",
    "                                             for i, c in zip(clustering.obs.index, clustering.obs['cell_type'])]\n",
    "sc.pl.umap(clustering, color=['cell_type'])"
   ]
  },
  {
   "cell_type": "code",
   "execution_count": null,
   "metadata": {},
   "outputs": [],
   "source": []
  },
  {
   "cell_type": "code",
   "execution_count": null,
   "metadata": {},
   "outputs": [],
   "source": []
  },
  {
   "cell_type": "markdown",
   "metadata": {},
   "source": [
    "#### downstream"
   ]
  },
  {
   "cell_type": "markdown",
   "metadata": {},
   "source": [
    "cell porportions"
   ]
  },
  {
   "cell_type": "code",
   "execution_count": null,
   "metadata": {},
   "outputs": [],
   "source": [
    "clustering.obs"
   ]
  },
  {
   "cell_type": "code",
   "execution_count": null,
   "metadata": {},
   "outputs": [],
   "source": [
    "clustering.obs['image_id'] = clustering.obs['sample'].to_list()\n",
    "clustering.obs['sample_id'] = ['_'.join(x.split('_')[:2]) for x in clustering.obs['image_id']]\n",
    "clustering.obs"
   ]
  },
  {
   "cell_type": "code",
   "execution_count": null,
   "metadata": {},
   "outputs": [],
   "source": [
    "from collections import Counter\n",
    "def plot_proportion(adata, percentage=True):\n",
    "    samples = sorted(set(adata.obs['sample_id']))\n",
    "    cell_types = sorted(set(adata.obs['cell_type']))\n",
    "\n",
    "    data = []\n",
    "    for s in samples:\n",
    "        mini = adata.obs[adata.obs['sample_id']==s]\n",
    "        counts = Counter(mini['cell_type'])\n",
    "        for c in cell_types:\n",
    "            data.append([s, c, counts.get(c, 0)/mini.shape[0] if percentage else counts.get(c, 0)])\n",
    "    df = pd.DataFrame(data=data)\n",
    "    df.columns = ['sample', 'cell_type', 'fraction' if percentage else 'count']\n",
    "\n",
    "    return alt.Chart(df).mark_bar().encode(\n",
    "        x='sample',\n",
    "        y='fraction' if percentage else 'count',\n",
    "        color='cell_type'\n",
    "    )\n",
    "    \n",
    "plot_proportion(clustering, percentage=False)"
   ]
  },
  {
   "cell_type": "code",
   "execution_count": null,
   "metadata": {},
   "outputs": [],
   "source": [
    "plot_proportion(clustering, percentage=True)"
   ]
  },
  {
   "cell_type": "code",
   "execution_count": null,
   "metadata": {},
   "outputs": [],
   "source": [
    "caf_mask = [True if 'CAF' in c else False for c in clustering.obs['cell_type']]\n",
    "plot_proportion(clustering[caf_mask], percentage=False)"
   ]
  },
  {
   "cell_type": "code",
   "execution_count": null,
   "metadata": {},
   "outputs": [],
   "source": [
    "plot_proportion(clustering[caf_mask], percentage=True)"
   ]
  },
  {
   "cell_type": "markdown",
   "metadata": {},
   "source": [
    "display image"
   ]
  },
  {
   "cell_type": "code",
   "execution_count": null,
   "metadata": {},
   "outputs": [],
   "source": [
    "img = sample_to_imgs[]"
   ]
  },
  {
   "cell_type": "code",
   "execution_count": null,
   "metadata": {},
   "outputs": [],
   "source": []
  },
  {
   "cell_type": "code",
   "execution_count": null,
   "metadata": {},
   "outputs": [],
   "source": [
    "d = next(iter(sample_to_imgs.values()))\n",
    "d.keys()"
   ]
  },
  {
   "cell_type": "code",
   "execution_count": null,
   "metadata": {},
   "outputs": [],
   "source": [
    "plt.imshow(grayscale_image)"
   ]
  },
  {
   "cell_type": "code",
   "execution_count": null,
   "metadata": {},
   "outputs": [],
   "source": [
    "max(d['HLA-DR'].flatten())"
   ]
  },
  {
   "cell_type": "code",
   "execution_count": null,
   "metadata": {},
   "outputs": [],
   "source": [
    "from skimage import color\n",
    "# c = .1\n",
    "# grayscale_image = d['HLA-DR'] / (max(d['HLA-DR'].flatten()) * c)\n",
    "grayscale_image = d['HLA-DR'] / max(d['HLA-DR'].flatten())\n",
    "# p1, p2 = np.percentile(grayscale_image, (2, 98))\n",
    "# grayscale_image = exposure.rescale_intensity(grayscale_image, in_range=(p1, p2), )\n",
    "# grayscale_image = exposure.equalize_adapthist(grayscale_image, clip_limit=0.03)\n",
    "# grayscale_image[grayscale_image>1] = 1.\n",
    "image = color.gray2rgb(grayscale_image)\n",
    "\n",
    "red_multiplier = [1, 0, 0]\n",
    "yellow_multiplier = [1, 1, 0]\n",
    "\n",
    "fig, (ax1, ax2, ax3) = plt.subplots(nrows=3, figsize=(16, 16*3),\n",
    "                               sharex=True, sharey=True)\n",
    "r = (red_multiplier * image) / max((red_multiplier * image).flatten())\n",
    "ax1.imshow(r)\n",
    "ax2.imshow(yellow_multiplier * image)\n",
    "ax3.imshow((yellow_multiplier * image) + (red_multiplier * image))\n"
   ]
  },
  {
   "cell_type": "code",
   "execution_count": null,
   "metadata": {},
   "outputs": [],
   "source": [
    "from skimage import exposure"
   ]
  },
  {
   "cell_type": "code",
   "execution_count": null,
   "metadata": {
    "scrolled": true
   },
   "outputs": [],
   "source": [
    "print(max(r.flatten()))"
   ]
  },
  {
   "cell_type": "code",
   "execution_count": null,
   "metadata": {},
   "outputs": [],
   "source": [
    "# Contrast stretching\n",
    "img = r.copy()\n",
    "p2, p98 = np.percentile(img, (2, 98))\n",
    "img_rescale = exposure.rescale_intensity(img, in_range=(p2, p98), )\n",
    "\n",
    "# Equalization\n",
    "img_eq = exposure.equalize_hist(img)\n",
    "\n",
    "# Adaptive Equalization\n",
    "print(max(img.flatten()))\n",
    "img_adapteq = exposure.equalize_adapthist(img, clip_limit=0.03)\n",
    "\n",
    "# Display results\n",
    "fig = plt.figure(figsize=(8, 5))\n",
    "axes = np.zeros((2, 4), dtype=np.object)\n",
    "axes[0, 0] = fig.add_subplot(2, 4, 1)\n",
    "for i in range(1, 4):\n",
    "    axes[0, i] = fig.add_subplot(2, 4, 1+i, sharex=axes[0,0], sharey=axes[0,0])\n",
    "for i in range(0, 4):\n",
    "    axes[1, i] = fig.add_subplot(2, 4, 5+i)\n"
   ]
  },
  {
   "cell_type": "code",
   "execution_count": null,
   "metadata": {},
   "outputs": [],
   "source": [
    "plt.subplots(figsize=(10, 10))\n",
    "plt.imshow(img)"
   ]
  },
  {
   "cell_type": "code",
   "execution_count": null,
   "metadata": {},
   "outputs": [],
   "source": [
    "plt.subplots(figsize=(10, 10))\n",
    "plt.imshow(exposure.equalize_adapthist(r, clip_limit=0.03))"
   ]
  },
  {
   "cell_type": "code",
   "execution_count": null,
   "metadata": {},
   "outputs": [],
   "source": [
    "plt.subplots(figsize=(10, 10))\n",
    "plt.imshow(exposure.equalize_adapthist(img, clip_limit=0.01))"
   ]
  },
  {
   "cell_type": "code",
   "execution_count": null,
   "metadata": {},
   "outputs": [],
   "source": []
  }
 ],
 "metadata": {
  "kernelspec": {
   "display_name": "Python 3",
   "language": "python",
   "name": "python3"
  },
  "language_info": {
   "codemirror_mode": {
    "name": "ipython",
    "version": 3
   },
   "file_extension": ".py",
   "mimetype": "text/x-python",
   "name": "python",
   "nbconvert_exporter": "python",
   "pygments_lexer": "ipython3",
   "version": "3.7.9"
  }
 },
 "nbformat": 4,
 "nbformat_minor": 4
}
