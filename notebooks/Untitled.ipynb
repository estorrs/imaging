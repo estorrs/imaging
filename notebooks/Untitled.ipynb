{
 "cells": [
  {
   "cell_type": "code",
   "execution_count": 1,
   "metadata": {},
   "outputs": [],
   "source": [
    "import re\n",
    "import os\n",
    "\n",
    "import tifffile\n",
    "from tifffile import TiffFile\n",
    "import scanpy as sc\n",
    "import pandas as pd\n",
    "import numpy as np\n",
    "import anndata\n",
    "import matplotlib.pyplot as plt\n",
    "import mgitools.os_helpers as os_helpers\n",
    "import cv2\n",
    "\n",
    "from skimage.io import imread\n",
    "from skimage import exposure\n",
    "from deepcell.applications import MultiplexSegmentation, ScaleDetection\n",
    "from ome_types import from_tiff, from_xml\n"
   ]
  },
  {
   "cell_type": "code",
   "execution_count": null,
   "metadata": {},
   "outputs": [],
   "source": []
  },
  {
   "cell_type": "code",
   "execution_count": 3,
   "metadata": {},
   "outputs": [],
   "source": [
    "def get_channels(fp):   \n",
    "    tif = TiffFile(fp)\n",
    "    ome = from_xml(tif.ome_metadata)\n",
    "    im = ome.images[0]\n",
    "    return [channel.name for channel in im.pixels.channels]\n",
    "\n",
    "def extract_htan_ome_tiff(fp):   \n",
    "    tif = TiffFile(fp)\n",
    "    ome = from_xml(tif.ome_metadata)\n",
    "    im = ome.images[0]\n",
    "    d = {}\n",
    "    for c, p in zip(im.pixels.channels, tif.pages):\n",
    "        img = p.asarray()\n",
    "        d[c.name] = img\n",
    "    return d"
   ]
  },
  {
   "cell_type": "code",
   "execution_count": 15,
   "metadata": {},
   "outputs": [
    {
     "data": {
      "text/plain": [
       "[(0, 'SMA'),\n",
       " (1, 'Vimentin'),\n",
       " (2, 'CD163'),\n",
       " (3, 'Pan Keratin'),\n",
       " (4, 'CD11b'),\n",
       " (5, 'PD-L1'),\n",
       " (6, 'CD31'),\n",
       " (7, 'CD45'),\n",
       " (8, 'Lag3'),\n",
       " (9, 'CD11c'),\n",
       " (10, 'FOXP3'),\n",
       " (11, 'CD4'),\n",
       " (12, 'Ecadherin'),\n",
       " (13, 'CD68'),\n",
       " (14, 'CD20'),\n",
       " (15, 'CD8a'),\n",
       " (16, 'PD-1'),\n",
       " (17, 'CD45RA'),\n",
       " (18, 'Granzyme B'),\n",
       " (19, 'Ki67'),\n",
       " (20, 'T1 Collagen'),\n",
       " (21, 'CD3'),\n",
       " (22, 'PD-L2'),\n",
       " (23, 'CD45RO'),\n",
       " (24, 'HLA-DR'),\n",
       " (25, 'Histone H3'),\n",
       " (26, 'DNA'),\n",
       " (27, 'DNA')]"
      ]
     },
     "execution_count": 15,
     "metadata": {},
     "output_type": "execute_result"
    }
   ],
   "source": [
    "d = get_channels('../data/hyperion/b1_01042020/ome-tiff_htan/HT061P1_PA_A1_A4_ROI_03.ome.tiff')\n",
    "list(enumerate(d))"
   ]
  },
  {
   "cell_type": "code",
   "execution_count": 21,
   "metadata": {},
   "outputs": [
    {
     "data": {
      "text/plain": [
       "(28, 590, 842)"
      ]
     },
     "execution_count": 21,
     "metadata": {},
     "output_type": "execute_result"
    }
   ],
   "source": [
    "X = tifffile.imread('../data/hyperion/test/my_experiment-dfp.tif')\n",
    "X.shape"
   ]
  },
  {
   "cell_type": "code",
   "execution_count": null,
   "metadata": {},
   "outputs": [],
   "source": []
  },
  {
   "cell_type": "code",
   "execution_count": null,
   "metadata": {},
   "outputs": [],
   "source": []
  },
  {
   "cell_type": "code",
   "execution_count": null,
   "metadata": {},
   "outputs": [],
   "source": []
  },
  {
   "cell_type": "code",
   "execution_count": null,
   "metadata": {},
   "outputs": [],
   "source": []
  },
  {
   "cell_type": "code",
   "execution_count": null,
   "metadata": {},
   "outputs": [],
   "source": []
  },
  {
   "cell_type": "code",
   "execution_count": 6,
   "metadata": {},
   "outputs": [
    {
     "data": {
      "text/plain": [
       "{'ImageJ': '1.52n',\n",
       " 'images': 28,\n",
       " 'slices': 28,\n",
       " 'loop': False,\n",
       " 'min': 0.0,\n",
       " 'max': 1.0}"
      ]
     },
     "execution_count": 6,
     "metadata": {},
     "output_type": "execute_result"
    }
   ],
   "source": [
    "tif.imagej_metadata"
   ]
  },
  {
   "cell_type": "code",
   "execution_count": 8,
   "metadata": {},
   "outputs": [],
   "source": [
    "p = tif.pages[0]"
   ]
  },
  {
   "cell_type": "code",
   "execution_count": 9,
   "metadata": {},
   "outputs": [
    {
     "data": {
      "text/plain": [
       "'ImageJ=1.52n\\nimages=28\\nslices=28\\nloop=false\\nmin=0.0\\nmax=1.0'"
      ]
     },
     "execution_count": 9,
     "metadata": {},
     "output_type": "execute_result"
    }
   ],
   "source": [
    "p.description"
   ]
  },
  {
   "cell_type": "code",
   "execution_count": 10,
   "metadata": {},
   "outputs": [
    {
     "data": {
      "text/plain": [
       "''"
      ]
     },
     "execution_count": 10,
     "metadata": {},
     "output_type": "execute_result"
    }
   ],
   "source": [
    "p.description1"
   ]
  },
  {
   "cell_type": "code",
   "execution_count": null,
   "metadata": {},
   "outputs": [],
   "source": [
    "p."
   ]
  }
 ],
 "metadata": {
  "kernelspec": {
   "display_name": "Python 3",
   "language": "python",
   "name": "python3"
  },
  "language_info": {
   "codemirror_mode": {
    "name": "ipython",
    "version": 3
   },
   "file_extension": ".py",
   "mimetype": "text/x-python",
   "name": "python",
   "nbconvert_exporter": "python",
   "pygments_lexer": "ipython3",
   "version": "3.7.9"
  }
 },
 "nbformat": 4,
 "nbformat_minor": 4
}
